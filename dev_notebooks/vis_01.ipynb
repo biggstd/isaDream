{
 "cells": [
  {
   "cell_type": "markdown",
   "metadata": {},
   "source": [
    "# Visualization Design\n",
    "\n",
    "By: *Tyler Biggs*\n",
    "\n",
    "---\n",
    "\n",
    "**Overview**\n",
    "\n",
    "This notebook will go over the design of the vizualizations. It should also serve as a reference for future custom visualizations."
   ]
  },
  {
   "cell_type": "code",
   "execution_count": 1,
   "metadata": {
    "collapsed": true
   },
   "outputs": [],
   "source": [
    "%load_ext autoreload\n",
    "%autoreload 2\n",
    "from pprint import pprint"
   ]
  },
  {
   "cell_type": "code",
   "execution_count": 2,
   "metadata": {},
   "outputs": [
    {
     "data": {
      "text/html": [
       "\n",
       "    <div class=\"bk-root\">\n",
       "        <a href=\"https://bokeh.pydata.org\" target=\"_blank\" class=\"bk-logo bk-logo-small bk-logo-notebook\"></a>\n",
       "        <span id=\"905c8bc9-46d2-4b6c-8f25-27ff02163db1\">Loading BokehJS ...</span>\n",
       "    </div>"
      ]
     },
     "metadata": {},
     "output_type": "display_data"
    },
    {
     "data": {
      "application/javascript": [
       "\n",
       "(function(root) {\n",
       "  function now() {\n",
       "    return new Date();\n",
       "  }\n",
       "\n",
       "  var force = true;\n",
       "\n",
       "  if (typeof (root._bokeh_onload_callbacks) === \"undefined\" || force === true) {\n",
       "    root._bokeh_onload_callbacks = [];\n",
       "    root._bokeh_is_loading = undefined;\n",
       "  }\n",
       "\n",
       "  var JS_MIME_TYPE = 'application/javascript';\n",
       "  var HTML_MIME_TYPE = 'text/html';\n",
       "  var EXEC_MIME_TYPE = 'application/vnd.bokehjs_exec.v0+json';\n",
       "  var CLASS_NAME = 'output_bokeh rendered_html';\n",
       "\n",
       "  /**\n",
       "   * Render data to the DOM node\n",
       "   */\n",
       "  function render(props, node) {\n",
       "    var script = document.createElement(\"script\");\n",
       "    node.appendChild(script);\n",
       "  }\n",
       "\n",
       "  /**\n",
       "   * Handle when an output is cleared or removed\n",
       "   */\n",
       "  function handleClearOutput(event, handle) {\n",
       "    var cell = handle.cell;\n",
       "\n",
       "    var id = cell.output_area._bokeh_element_id;\n",
       "    var server_id = cell.output_area._bokeh_server_id;\n",
       "    // Clean up Bokeh references\n",
       "    if (id != null && id in Bokeh.index) {\n",
       "      Bokeh.index[id].model.document.clear();\n",
       "      delete Bokeh.index[id];\n",
       "    }\n",
       "\n",
       "    if (server_id !== undefined) {\n",
       "      // Clean up Bokeh references\n",
       "      var cmd = \"from bokeh.io.state import curstate; print(curstate().uuid_to_server['\" + server_id + \"'].get_sessions()[0].document.roots[0]._id)\";\n",
       "      cell.notebook.kernel.execute(cmd, {\n",
       "        iopub: {\n",
       "          output: function(msg) {\n",
       "            var id = msg.content.text.trim();\n",
       "            if (id in Bokeh.index) {\n",
       "              Bokeh.index[id].model.document.clear();\n",
       "              delete Bokeh.index[id];\n",
       "            }\n",
       "          }\n",
       "        }\n",
       "      });\n",
       "      // Destroy server and session\n",
       "      var cmd = \"import bokeh.io.notebook as ion; ion.destroy_server('\" + server_id + \"')\";\n",
       "      cell.notebook.kernel.execute(cmd);\n",
       "    }\n",
       "  }\n",
       "\n",
       "  /**\n",
       "   * Handle when a new output is added\n",
       "   */\n",
       "  function handleAddOutput(event, handle) {\n",
       "    var output_area = handle.output_area;\n",
       "    var output = handle.output;\n",
       "\n",
       "    // limit handleAddOutput to display_data with EXEC_MIME_TYPE content only\n",
       "    if ((output.output_type != \"display_data\") || (!output.data.hasOwnProperty(EXEC_MIME_TYPE))) {\n",
       "      return\n",
       "    }\n",
       "\n",
       "    var toinsert = output_area.element.find(\".\" + CLASS_NAME.split(' ')[0]);\n",
       "\n",
       "    if (output.metadata[EXEC_MIME_TYPE][\"id\"] !== undefined) {\n",
       "      toinsert[toinsert.length - 1].firstChild.textContent = output.data[JS_MIME_TYPE];\n",
       "      // store reference to embed id on output_area\n",
       "      output_area._bokeh_element_id = output.metadata[EXEC_MIME_TYPE][\"id\"];\n",
       "    }\n",
       "    if (output.metadata[EXEC_MIME_TYPE][\"server_id\"] !== undefined) {\n",
       "      var bk_div = document.createElement(\"div\");\n",
       "      bk_div.innerHTML = output.data[HTML_MIME_TYPE];\n",
       "      var script_attrs = bk_div.children[0].attributes;\n",
       "      for (var i = 0; i < script_attrs.length; i++) {\n",
       "        toinsert[toinsert.length - 1].firstChild.setAttribute(script_attrs[i].name, script_attrs[i].value);\n",
       "      }\n",
       "      // store reference to server id on output_area\n",
       "      output_area._bokeh_server_id = output.metadata[EXEC_MIME_TYPE][\"server_id\"];\n",
       "    }\n",
       "  }\n",
       "\n",
       "  function register_renderer(events, OutputArea) {\n",
       "\n",
       "    function append_mime(data, metadata, element) {\n",
       "      // create a DOM node to render to\n",
       "      var toinsert = this.create_output_subarea(\n",
       "        metadata,\n",
       "        CLASS_NAME,\n",
       "        EXEC_MIME_TYPE\n",
       "      );\n",
       "      this.keyboard_manager.register_events(toinsert);\n",
       "      // Render to node\n",
       "      var props = {data: data, metadata: metadata[EXEC_MIME_TYPE]};\n",
       "      render(props, toinsert[toinsert.length - 1]);\n",
       "      element.append(toinsert);\n",
       "      return toinsert\n",
       "    }\n",
       "\n",
       "    /* Handle when an output is cleared or removed */\n",
       "    events.on('clear_output.CodeCell', handleClearOutput);\n",
       "    events.on('delete.Cell', handleClearOutput);\n",
       "\n",
       "    /* Handle when a new output is added */\n",
       "    events.on('output_added.OutputArea', handleAddOutput);\n",
       "\n",
       "    /**\n",
       "     * Register the mime type and append_mime function with output_area\n",
       "     */\n",
       "    OutputArea.prototype.register_mime_type(EXEC_MIME_TYPE, append_mime, {\n",
       "      /* Is output safe? */\n",
       "      safe: true,\n",
       "      /* Index of renderer in `output_area.display_order` */\n",
       "      index: 0\n",
       "    });\n",
       "  }\n",
       "\n",
       "  // register the mime type if in Jupyter Notebook environment and previously unregistered\n",
       "  if (root.Jupyter !== undefined) {\n",
       "    var events = require('base/js/events');\n",
       "    var OutputArea = require('notebook/js/outputarea').OutputArea;\n",
       "\n",
       "    if (OutputArea.prototype.mime_types().indexOf(EXEC_MIME_TYPE) == -1) {\n",
       "      register_renderer(events, OutputArea);\n",
       "    }\n",
       "  }\n",
       "\n",
       "  \n",
       "  if (typeof (root._bokeh_timeout) === \"undefined\" || force === true) {\n",
       "    root._bokeh_timeout = Date.now() + 5000;\n",
       "    root._bokeh_failed_load = false;\n",
       "  }\n",
       "\n",
       "  var NB_LOAD_WARNING = {'data': {'text/html':\n",
       "     \"<div style='background-color: #fdd'>\\n\"+\n",
       "     \"<p>\\n\"+\n",
       "     \"BokehJS does not appear to have successfully loaded. If loading BokehJS from CDN, this \\n\"+\n",
       "     \"may be due to a slow or bad network connection. Possible fixes:\\n\"+\n",
       "     \"</p>\\n\"+\n",
       "     \"<ul>\\n\"+\n",
       "     \"<li>re-rerun `output_notebook()` to attempt to load from CDN again, or</li>\\n\"+\n",
       "     \"<li>use INLINE resources instead, as so:</li>\\n\"+\n",
       "     \"</ul>\\n\"+\n",
       "     \"<code>\\n\"+\n",
       "     \"from bokeh.resources import INLINE\\n\"+\n",
       "     \"output_notebook(resources=INLINE)\\n\"+\n",
       "     \"</code>\\n\"+\n",
       "     \"</div>\"}};\n",
       "\n",
       "  function display_loaded() {\n",
       "    var el = document.getElementById(\"905c8bc9-46d2-4b6c-8f25-27ff02163db1\");\n",
       "    if (el != null) {\n",
       "      el.textContent = \"BokehJS is loading...\";\n",
       "    }\n",
       "    if (root.Bokeh !== undefined) {\n",
       "      if (el != null) {\n",
       "        el.textContent = \"BokehJS \" + root.Bokeh.version + \" successfully loaded.\";\n",
       "      }\n",
       "    } else if (Date.now() < root._bokeh_timeout) {\n",
       "      setTimeout(display_loaded, 100)\n",
       "    }\n",
       "  }\n",
       "\n",
       "\n",
       "  function run_callbacks() {\n",
       "    try {\n",
       "      root._bokeh_onload_callbacks.forEach(function(callback) { callback() });\n",
       "    }\n",
       "    finally {\n",
       "      delete root._bokeh_onload_callbacks\n",
       "    }\n",
       "    console.info(\"Bokeh: all callbacks have finished\");\n",
       "  }\n",
       "\n",
       "  function load_libs(js_urls, callback) {\n",
       "    root._bokeh_onload_callbacks.push(callback);\n",
       "    if (root._bokeh_is_loading > 0) {\n",
       "      console.log(\"Bokeh: BokehJS is being loaded, scheduling callback at\", now());\n",
       "      return null;\n",
       "    }\n",
       "    if (js_urls == null || js_urls.length === 0) {\n",
       "      run_callbacks();\n",
       "      return null;\n",
       "    }\n",
       "    console.log(\"Bokeh: BokehJS not loaded, scheduling load and callback at\", now());\n",
       "    root._bokeh_is_loading = js_urls.length;\n",
       "    for (var i = 0; i < js_urls.length; i++) {\n",
       "      var url = js_urls[i];\n",
       "      var s = document.createElement('script');\n",
       "      s.src = url;\n",
       "      s.async = false;\n",
       "      s.onreadystatechange = s.onload = function() {\n",
       "        root._bokeh_is_loading--;\n",
       "        if (root._bokeh_is_loading === 0) {\n",
       "          console.log(\"Bokeh: all BokehJS libraries loaded\");\n",
       "          run_callbacks()\n",
       "        }\n",
       "      };\n",
       "      s.onerror = function() {\n",
       "        console.warn(\"failed to load library \" + url);\n",
       "      };\n",
       "      console.log(\"Bokeh: injecting script tag for BokehJS library: \", url);\n",
       "      document.getElementsByTagName(\"head\")[0].appendChild(s);\n",
       "    }\n",
       "  };var element = document.getElementById(\"905c8bc9-46d2-4b6c-8f25-27ff02163db1\");\n",
       "  if (element == null) {\n",
       "    console.log(\"Bokeh: ERROR: autoload.js configured with elementid '905c8bc9-46d2-4b6c-8f25-27ff02163db1' but no matching script tag was found. \")\n",
       "    return false;\n",
       "  }\n",
       "\n",
       "  var js_urls = [\"https://cdn.pydata.org/bokeh/release/bokeh-0.13.0.min.js\", \"https://cdn.pydata.org/bokeh/release/bokeh-widgets-0.13.0.min.js\", \"https://cdn.pydata.org/bokeh/release/bokeh-tables-0.13.0.min.js\", \"https://cdn.pydata.org/bokeh/release/bokeh-gl-0.13.0.min.js\"];\n",
       "\n",
       "  var inline_js = [\n",
       "    function(Bokeh) {\n",
       "      Bokeh.set_log_level(\"info\");\n",
       "    },\n",
       "    \n",
       "    function(Bokeh) {\n",
       "      \n",
       "    },\n",
       "    function(Bokeh) {\n",
       "      console.log(\"Bokeh: injecting CSS: https://cdn.pydata.org/bokeh/release/bokeh-0.13.0.min.css\");\n",
       "      Bokeh.embed.inject_css(\"https://cdn.pydata.org/bokeh/release/bokeh-0.13.0.min.css\");\n",
       "      console.log(\"Bokeh: injecting CSS: https://cdn.pydata.org/bokeh/release/bokeh-widgets-0.13.0.min.css\");\n",
       "      Bokeh.embed.inject_css(\"https://cdn.pydata.org/bokeh/release/bokeh-widgets-0.13.0.min.css\");\n",
       "      console.log(\"Bokeh: injecting CSS: https://cdn.pydata.org/bokeh/release/bokeh-tables-0.13.0.min.css\");\n",
       "      Bokeh.embed.inject_css(\"https://cdn.pydata.org/bokeh/release/bokeh-tables-0.13.0.min.css\");\n",
       "    }\n",
       "  ];\n",
       "\n",
       "  function run_inline_js() {\n",
       "    \n",
       "    if ((root.Bokeh !== undefined) || (force === true)) {\n",
       "      for (var i = 0; i < inline_js.length; i++) {\n",
       "        inline_js[i].call(root, root.Bokeh);\n",
       "      }if (force === true) {\n",
       "        display_loaded();\n",
       "      }} else if (Date.now() < root._bokeh_timeout) {\n",
       "      setTimeout(run_inline_js, 100);\n",
       "    } else if (!root._bokeh_failed_load) {\n",
       "      console.log(\"Bokeh: BokehJS failed to load within specified timeout.\");\n",
       "      root._bokeh_failed_load = true;\n",
       "    } else if (force !== true) {\n",
       "      var cell = $(document.getElementById(\"905c8bc9-46d2-4b6c-8f25-27ff02163db1\")).parents('.cell').data().cell;\n",
       "      cell.output_area.append_execute_result(NB_LOAD_WARNING)\n",
       "    }\n",
       "\n",
       "  }\n",
       "\n",
       "  if (root._bokeh_is_loading === 0) {\n",
       "    console.log(\"Bokeh: BokehJS loaded, going straight to plotting\");\n",
       "    run_inline_js();\n",
       "  } else {\n",
       "    load_libs(js_urls, function() {\n",
       "      console.log(\"Bokeh: BokehJS plotting callback run at\", now());\n",
       "      run_inline_js();\n",
       "    });\n",
       "  }\n",
       "}(window));"
      ],
      "application/vnd.bokehjs_load.v0+json": "\n(function(root) {\n  function now() {\n    return new Date();\n  }\n\n  var force = true;\n\n  if (typeof (root._bokeh_onload_callbacks) === \"undefined\" || force === true) {\n    root._bokeh_onload_callbacks = [];\n    root._bokeh_is_loading = undefined;\n  }\n\n  \n\n  \n  if (typeof (root._bokeh_timeout) === \"undefined\" || force === true) {\n    root._bokeh_timeout = Date.now() + 5000;\n    root._bokeh_failed_load = false;\n  }\n\n  var NB_LOAD_WARNING = {'data': {'text/html':\n     \"<div style='background-color: #fdd'>\\n\"+\n     \"<p>\\n\"+\n     \"BokehJS does not appear to have successfully loaded. If loading BokehJS from CDN, this \\n\"+\n     \"may be due to a slow or bad network connection. Possible fixes:\\n\"+\n     \"</p>\\n\"+\n     \"<ul>\\n\"+\n     \"<li>re-rerun `output_notebook()` to attempt to load from CDN again, or</li>\\n\"+\n     \"<li>use INLINE resources instead, as so:</li>\\n\"+\n     \"</ul>\\n\"+\n     \"<code>\\n\"+\n     \"from bokeh.resources import INLINE\\n\"+\n     \"output_notebook(resources=INLINE)\\n\"+\n     \"</code>\\n\"+\n     \"</div>\"}};\n\n  function display_loaded() {\n    var el = document.getElementById(\"905c8bc9-46d2-4b6c-8f25-27ff02163db1\");\n    if (el != null) {\n      el.textContent = \"BokehJS is loading...\";\n    }\n    if (root.Bokeh !== undefined) {\n      if (el != null) {\n        el.textContent = \"BokehJS \" + root.Bokeh.version + \" successfully loaded.\";\n      }\n    } else if (Date.now() < root._bokeh_timeout) {\n      setTimeout(display_loaded, 100)\n    }\n  }\n\n\n  function run_callbacks() {\n    try {\n      root._bokeh_onload_callbacks.forEach(function(callback) { callback() });\n    }\n    finally {\n      delete root._bokeh_onload_callbacks\n    }\n    console.info(\"Bokeh: all callbacks have finished\");\n  }\n\n  function load_libs(js_urls, callback) {\n    root._bokeh_onload_callbacks.push(callback);\n    if (root._bokeh_is_loading > 0) {\n      console.log(\"Bokeh: BokehJS is being loaded, scheduling callback at\", now());\n      return null;\n    }\n    if (js_urls == null || js_urls.length === 0) {\n      run_callbacks();\n      return null;\n    }\n    console.log(\"Bokeh: BokehJS not loaded, scheduling load and callback at\", now());\n    root._bokeh_is_loading = js_urls.length;\n    for (var i = 0; i < js_urls.length; i++) {\n      var url = js_urls[i];\n      var s = document.createElement('script');\n      s.src = url;\n      s.async = false;\n      s.onreadystatechange = s.onload = function() {\n        root._bokeh_is_loading--;\n        if (root._bokeh_is_loading === 0) {\n          console.log(\"Bokeh: all BokehJS libraries loaded\");\n          run_callbacks()\n        }\n      };\n      s.onerror = function() {\n        console.warn(\"failed to load library \" + url);\n      };\n      console.log(\"Bokeh: injecting script tag for BokehJS library: \", url);\n      document.getElementsByTagName(\"head\")[0].appendChild(s);\n    }\n  };var element = document.getElementById(\"905c8bc9-46d2-4b6c-8f25-27ff02163db1\");\n  if (element == null) {\n    console.log(\"Bokeh: ERROR: autoload.js configured with elementid '905c8bc9-46d2-4b6c-8f25-27ff02163db1' but no matching script tag was found. \")\n    return false;\n  }\n\n  var js_urls = [\"https://cdn.pydata.org/bokeh/release/bokeh-0.13.0.min.js\", \"https://cdn.pydata.org/bokeh/release/bokeh-widgets-0.13.0.min.js\", \"https://cdn.pydata.org/bokeh/release/bokeh-tables-0.13.0.min.js\", \"https://cdn.pydata.org/bokeh/release/bokeh-gl-0.13.0.min.js\"];\n\n  var inline_js = [\n    function(Bokeh) {\n      Bokeh.set_log_level(\"info\");\n    },\n    \n    function(Bokeh) {\n      \n    },\n    function(Bokeh) {\n      console.log(\"Bokeh: injecting CSS: https://cdn.pydata.org/bokeh/release/bokeh-0.13.0.min.css\");\n      Bokeh.embed.inject_css(\"https://cdn.pydata.org/bokeh/release/bokeh-0.13.0.min.css\");\n      console.log(\"Bokeh: injecting CSS: https://cdn.pydata.org/bokeh/release/bokeh-widgets-0.13.0.min.css\");\n      Bokeh.embed.inject_css(\"https://cdn.pydata.org/bokeh/release/bokeh-widgets-0.13.0.min.css\");\n      console.log(\"Bokeh: injecting CSS: https://cdn.pydata.org/bokeh/release/bokeh-tables-0.13.0.min.css\");\n      Bokeh.embed.inject_css(\"https://cdn.pydata.org/bokeh/release/bokeh-tables-0.13.0.min.css\");\n    }\n  ];\n\n  function run_inline_js() {\n    \n    if ((root.Bokeh !== undefined) || (force === true)) {\n      for (var i = 0; i < inline_js.length; i++) {\n        inline_js[i].call(root, root.Bokeh);\n      }if (force === true) {\n        display_loaded();\n      }} else if (Date.now() < root._bokeh_timeout) {\n      setTimeout(run_inline_js, 100);\n    } else if (!root._bokeh_failed_load) {\n      console.log(\"Bokeh: BokehJS failed to load within specified timeout.\");\n      root._bokeh_failed_load = true;\n    } else if (force !== true) {\n      var cell = $(document.getElementById(\"905c8bc9-46d2-4b6c-8f25-27ff02163db1\")).parents('.cell').data().cell;\n      cell.output_area.append_execute_result(NB_LOAD_WARNING)\n    }\n\n  }\n\n  if (root._bokeh_is_loading === 0) {\n    console.log(\"Bokeh: BokehJS loaded, going straight to plotting\");\n    run_inline_js();\n  } else {\n    load_libs(js_urls, function() {\n      console.log(\"Bokeh: BokehJS plotting callback run at\", now());\n      run_inline_js();\n    });\n  }\n}(window));"
     },
     "metadata": {},
     "output_type": "display_data"
    }
   ],
   "source": [
    "import pandas as pd\n",
    "import numpy as np\n",
    "import re\n",
    "import os\n",
    "import collections\n",
    "import itertools\n",
    "import functools\n",
    "\n",
    "import bokeh as bk\n",
    "import bokeh.io\n",
    "import bokeh.models\n",
    "import bokeh.layouts\n",
    "import bokeh.plotting\n",
    "bokeh.io.output_notebook()\n",
    "\n",
    "from IPython.display import display, Markdown\n",
    "\n",
    "# import holoviews as hv\n",
    "# hv.extension('bokeh')"
   ]
  },
  {
   "cell_type": "code",
   "execution_count": 3,
   "metadata": {},
   "outputs": [],
   "source": [
    "# sys.path"
   ]
  },
  {
   "cell_type": "code",
   "execution_count": 4,
   "metadata": {},
   "outputs": [],
   "source": [
    "from isadream.models import utils\n",
    "from isadream import io\n",
    "from isadream.models import nodal, elemental"
   ]
  },
  {
   "cell_type": "markdown",
   "metadata": {},
   "source": [
    "---"
   ]
  },
  {
   "cell_type": "markdown",
   "metadata": {},
   "source": [
    "## Dataflow\n",
    "\n",
    "The data is transfered from the Drupal server as a `.json` file. Those files placed into a directory as the user requests them. That is, all the datasets that a user selects for any given visualziation are placed in a directory. These files are condensed into four dataframes per `.json` file."
   ]
  },
  {
   "cell_type": "code",
   "execution_count": 5,
   "metadata": {
    "collapsed": true
   },
   "outputs": [],
   "source": [
    "# A demo json file is provided.\n",
    "from isadream import config, demos, demo_path"
   ]
  },
  {
   "cell_type": "markdown",
   "metadata": {},
   "source": [
    "---"
   ]
  },
  {
   "cell_type": "code",
   "execution_count": 6,
   "metadata": {},
   "outputs": [],
   "source": [
    "demo_json = io.read_idream_json(os.path.join(demo_path, demos[\"SIPOS_NMR\"]))\n",
    "node = io.parse_node_json(demo_json)"
   ]
  },
  {
   "cell_type": "code",
   "execution_count": 7,
   "metadata": {},
   "outputs": [
    {
     "data": {
      "text/plain": [
       "[]"
      ]
     },
     "execution_count": 7,
     "metadata": {},
     "output_type": "execute_result"
    }
   ],
   "source": [
    "node.assays[1].factors"
   ]
  },
  {
   "cell_type": "code",
   "execution_count": 8,
   "metadata": {},
   "outputs": [
    {
     "data": {
      "text/plain": [
       "\"# Sipos 2006, Talanta NMR Figures\\n\\n**Description**: Extracted figures.\\n\\n**Submission Date**: *2018-5-25*\\n\\n**Public Release Date**: *2006-03-13*\\n\\n\\n---\\n## Assays\\n### Potassium Hydroxide Assay\\n#### Potassium Hydroxide\\n**('Measurement Condition', '', 'Molar')**: 0.0\\n\\n**OH-** stoichiometry: 1.0\\n\\n**K+** stoichiometry: 1.0\\n\\n**Comment00013**: I manually pulled this points out with a web tool.\\n\\n### Lithium Hydroxide Assay\\n#### Lithium Hydroxide\\n**('Measurement Condition', '', 'Molar')**: 0.0\\n\\n**OH-** stoichiometry: 1.0\\n\\n**Li+** stoichiometry: 1.0\\n\\n### Sodium Hydroxide Assay\\n#### Sodium Hydroxide\\n**('Measurement Condition', '', 'Molar')**: 0.0\\n\\n**OH-** stoichiometry: 1.0\\n\\n**Na+** stoichiometry: 1.0\\n\\n## Samples\\n#### Aluminate Solution\\n**('Material Property', 'Purity by Weight', 'Percent')**: 0.98\\n\\n**Al(III)** stoichiometry: 1.0\\n\\n**('Measurement Condition', '', 'Molar')**: 0.005\\n\\n**('Material Property', 'Purity by Weight', 'Percent')**: 0.98\\n\\n**Al(III)** stoichiometry: 1.0\\n\\n**Al(III)** stoichiometry: 1.0\\n\\n### Factors\\n**('Measurement Condition', '', 'Celsius')**: 25.0\\n\\n**('Measurement', '27_Al', 'ppm')**: 0.0\\n\\n**('Measurement Condition', '27_Al', 'MHz')**: 78.204\\n\\n**('Measurement Reference', '[KAl(SO4)2]', '27_Al Reference Compound')**: 0.0\\n\\n### Comments\\n**Comment00006**: I manually pulled this points out with a web tool.\\n\\n\""
      ]
     },
     "execution_count": 8,
     "metadata": {},
     "output_type": "execute_result"
    }
   ],
   "source": [
    "node.as_markdown"
   ]
  },
  {
   "cell_type": "code",
   "execution_count": 9,
   "metadata": {},
   "outputs": [
    {
     "ename": "AttributeError",
     "evalue": "module 'isadream.io' has no attribute 'build_node_data'",
     "output_type": "error",
     "traceback": [
      "\u001b[0;31m---------------------------------------------------------------------------\u001b[0m",
      "\u001b[0;31mAttributeError\u001b[0m                            Traceback (most recent call last)",
      "\u001b[0;32m<ipython-input-9-1708c789aa2b>\u001b[0m in \u001b[0;36m<module>\u001b[0;34m()\u001b[0m\n\u001b[1;32m     12\u001b[0m \u001b[0mtest_groups\u001b[0m \u001b[0;34m=\u001b[0m \u001b[0mx_groups\u001b[0m \u001b[0;34m+\u001b[0m \u001b[0my_groups\u001b[0m\u001b[0;34m\u001b[0m\u001b[0m\n\u001b[1;32m     13\u001b[0m \u001b[0;34m\u001b[0m\u001b[0m\n\u001b[0;32m---> 14\u001b[0;31m \u001b[0mnode_assays\u001b[0m \u001b[0;34m=\u001b[0m \u001b[0;34m[\u001b[0m\u001b[0mio\u001b[0m\u001b[0;34m.\u001b[0m\u001b[0mbuild_node_data\u001b[0m\u001b[0;34m(\u001b[0m\u001b[0ma\u001b[0m\u001b[0;34m,\u001b[0m \u001b[0mtest_groups\u001b[0m\u001b[0;34m)\u001b[0m \u001b[0;32mfor\u001b[0m \u001b[0ma\u001b[0m \u001b[0;32min\u001b[0m \u001b[0mnode\u001b[0m\u001b[0;34m.\u001b[0m\u001b[0massays\u001b[0m\u001b[0;34m]\u001b[0m\u001b[0;34m\u001b[0m\u001b[0m\n\u001b[0m\u001b[1;32m     15\u001b[0m \u001b[0;31m# node_assays\u001b[0m\u001b[0;34m\u001b[0m\u001b[0;34m\u001b[0m\u001b[0m\n\u001b[1;32m     16\u001b[0m \u001b[0mdfs\u001b[0m \u001b[0;34m=\u001b[0m \u001b[0;34m[\u001b[0m\u001b[0mpd\u001b[0m\u001b[0;34m.\u001b[0m\u001b[0mDataFrame\u001b[0m\u001b[0;34m(\u001b[0m\u001b[0mcds\u001b[0m\u001b[0;34m)\u001b[0m \u001b[0;32mfor\u001b[0m \u001b[0mcds\u001b[0m\u001b[0;34m,\u001b[0m \u001b[0m_\u001b[0m \u001b[0;32min\u001b[0m \u001b[0mnode_assays\u001b[0m\u001b[0;34m]\u001b[0m\u001b[0;34m\u001b[0m\u001b[0m\n",
      "\u001b[0;32m<ipython-input-9-1708c789aa2b>\u001b[0m in \u001b[0;36m<listcomp>\u001b[0;34m(.0)\u001b[0m\n\u001b[1;32m     12\u001b[0m \u001b[0mtest_groups\u001b[0m \u001b[0;34m=\u001b[0m \u001b[0mx_groups\u001b[0m \u001b[0;34m+\u001b[0m \u001b[0my_groups\u001b[0m\u001b[0;34m\u001b[0m\u001b[0m\n\u001b[1;32m     13\u001b[0m \u001b[0;34m\u001b[0m\u001b[0m\n\u001b[0;32m---> 14\u001b[0;31m \u001b[0mnode_assays\u001b[0m \u001b[0;34m=\u001b[0m \u001b[0;34m[\u001b[0m\u001b[0mio\u001b[0m\u001b[0;34m.\u001b[0m\u001b[0mbuild_node_data\u001b[0m\u001b[0;34m(\u001b[0m\u001b[0ma\u001b[0m\u001b[0;34m,\u001b[0m \u001b[0mtest_groups\u001b[0m\u001b[0;34m)\u001b[0m \u001b[0;32mfor\u001b[0m \u001b[0ma\u001b[0m \u001b[0;32min\u001b[0m \u001b[0mnode\u001b[0m\u001b[0;34m.\u001b[0m\u001b[0massays\u001b[0m\u001b[0;34m]\u001b[0m\u001b[0;34m\u001b[0m\u001b[0m\n\u001b[0m\u001b[1;32m     15\u001b[0m \u001b[0;31m# node_assays\u001b[0m\u001b[0;34m\u001b[0m\u001b[0;34m\u001b[0m\u001b[0m\n\u001b[1;32m     16\u001b[0m \u001b[0mdfs\u001b[0m \u001b[0;34m=\u001b[0m \u001b[0;34m[\u001b[0m\u001b[0mpd\u001b[0m\u001b[0;34m.\u001b[0m\u001b[0mDataFrame\u001b[0m\u001b[0;34m(\u001b[0m\u001b[0mcds\u001b[0m\u001b[0;34m)\u001b[0m \u001b[0;32mfor\u001b[0m \u001b[0mcds\u001b[0m\u001b[0;34m,\u001b[0m \u001b[0m_\u001b[0m \u001b[0;32min\u001b[0m \u001b[0mnode_assays\u001b[0m\u001b[0;34m]\u001b[0m\u001b[0;34m\u001b[0m\u001b[0m\n",
      "\u001b[0;31mAttributeError\u001b[0m: module 'isadream.io' has no attribute 'build_node_data'"
     ]
    }
   ],
   "source": [
    "demo_json = io.read_idream_json(os.path.join(demo_path, demos[\"SIPOS_NMR\"]))\n",
    "node = io.parse_node_json(demo_json)\n",
    "\n",
    "x_groups=(('Total Aluminate Concentration', ('Molar',), (\"Al\",)),\n",
    "          ('Counter Ion Concentration', ('Molar',),\n",
    "           (\"Na+\", \"Li+\", \"Cs+\", \"K+\")),\n",
    "          ('Counter Ion', ('Species',), (\"Na+\", \"Li+\", \"Cs+\", \"K+\",)),\n",
    "          ('Base Concentration', ('Molar',), (\"OH-\",)))\n",
    "\n",
    "y_groups=(('27 Al ppm', ('ppm',), (\"Al\",)),)\n",
    "\n",
    "test_groups = x_groups + y_groups\n",
    "\n",
    "node_assays = [io.build_node_data(a, test_groups) for a in node.assays]\n",
    "# node_assays\n",
    "dfs = [pd.DataFrame(cds) for cds, _ in node_assays]\n",
    "df = pd.concat(dfs)\n",
    "df"
   ]
  },
  {
   "cell_type": "code",
   "execution_count": 10,
   "metadata": {},
   "outputs": [
    {
     "name": "stdout",
     "output_type": "stream",
     "text": [
      "Help on function factor_cmap in module bokeh.transform:\n",
      "\n",
      "factor_cmap(field_name, palette, factors, start=0, end=None, nan_color='gray')\n",
      "    Create a ``DataSpec`` dict to apply a client-side\n",
      "    ``CategoricalColorMapper`` transformation to a ``ColumnDataSource``\n",
      "    column.\n",
      "    \n",
      "    Args:\n",
      "        field_name (str) : a field name to configure ``DataSpec`` with\n",
      "    \n",
      "        palette (seq[color]) : a list of colors to use for colormapping\n",
      "    \n",
      "        factors (seq) : a sequences of categorical factors corresponding to\n",
      "            the palette\n",
      "    \n",
      "        start (int, optional) : a start slice index to apply when the column\n",
      "            data has factors with multiple levels. (default: 0)\n",
      "    \n",
      "        end (int, optional) : an end slice index to apply when the column\n",
      "            data has factors with multiple levels. (default: None)\n",
      "    \n",
      "        nan_color (color, optional) : a default color to use when mapping data\n",
      "            from a column does not succeed (default: \"gray\")\n",
      "    \n",
      "    Returns:\n",
      "        dict\n",
      "\n"
     ]
    }
   ],
   "source": [
    "help(bk.transform.factor_cmap)"
   ]
  },
  {
   "cell_type": "code",
   "execution_count": 32,
   "metadata": {},
   "outputs": [
    {
     "data": {
      "text/plain": [
       "[{'11110c3a-c816-43e2-9a75-9bae1db010e3': ({'node_title': 'Sipos 2006, Talanta NMR Figures',\n",
       "    'node_description': 'Extracted figures.',\n",
       "    'node_url': 'www.url.com',\n",
       "    'submission_date': '2018-5-25',\n",
       "    'public_release_date': '2006-03-13'},\n",
       "   [Comment(body='I manually pulled this points out with a web tool.', name='Comment00566')]),\n",
       "  '3d77bbee-25ec-4358-99a9-636001082efa': ('Potassium Hydroxide Assay',\n",
       "   [Comment(body='I manually pulled this points out with a web tool.', name='Comment00573')]),\n",
       "  '63babb6e-a17c-4c60-bcf3-b52a1b717a6f': SampleNode(comments=[], factors=[Factor(csv_column_index=0, decimal_value=0.0, factor_type='Measurement Condition', name='Factor00574', reference_value='', string_value='', unit_reference='Molar')], name='SampleNode00577', sample_name='Potassium Hydroxide', sources=[], species=[SpeciesFactor(name='SpeciesFactor00575', species_reference='K+', stoichiometry=1.0), SpeciesFactor(name='SpeciesFactor00576', species_reference='OH-', stoichiometry=1.0)]),\n",
       "  'ae896f92-35ae-4fa7-bbf4-56da5b52089b': SampleNode(comments=[], factors=[Factor(csv_column_index=0, decimal_value=0.0, factor_type='Measurement Condition', name='Factor00574', reference_value='', string_value='', unit_reference='Molar')], name='SampleNode00577', sample_name='Potassium Hydroxide', sources=[], species=[SpeciesFactor(name='SpeciesFactor00575', species_reference='K+', stoichiometry=1.0), SpeciesFactor(name='SpeciesFactor00576', species_reference='OH-', stoichiometry=1.0)]),\n",
       "  '4758e49c-fdb1-4299-89eb-336b8de80c05': SampleNode(comments=[], factors=[Factor(csv_column_index=None, decimal_value=0.005, factor_type='Measurement Condition', name='Factor00567', reference_value='', string_value='', unit_reference='Molar')], name='SampleNode00572', sample_name='Aluminate Solution', sources=[SourceNode(comments=[], factors=[Factor(csv_column_index=None, decimal_value=0.98, factor_type='Material Property', name='Factor00569', reference_value='Purity by Weight', string_value='', unit_reference='Percent')], name='SourceNode00571', source_name='Aluminum Wire', species=[SpeciesFactor(name='SpeciesFactor00570', species_reference='Al(III)', stoichiometry=1.0)])], species=[SpeciesFactor(name='SpeciesFactor00568', species_reference='Al(III)', stoichiometry=1.0)]),\n",
       "  '58c4f76b-a4ee-4a6f-b8f5-2d56714f37d3': SampleNode(comments=[], factors=[Factor(csv_column_index=0, decimal_value=0.0, factor_type='Measurement Condition', name='Factor00574', reference_value='', string_value='', unit_reference='Molar')], name='SampleNode00577', sample_name='Potassium Hydroxide', sources=[], species=[SpeciesFactor(name='SpeciesFactor00575', species_reference='K+', stoichiometry=1.0), SpeciesFactor(name='SpeciesFactor00576', species_reference='OH-', stoichiometry=1.0)]),\n",
       "  '8fc368c6-c87a-46dd-96f6-b1b665b9f6bc': SampleNode(comments=[], factors=[Factor(csv_column_index=0, decimal_value=0.0, factor_type='Measurement Condition', name='Factor00574', reference_value='', string_value='', unit_reference='Molar')], name='SampleNode00577', sample_name='Potassium Hydroxide', sources=[], species=[SpeciesFactor(name='SpeciesFactor00575', species_reference='K+', stoichiometry=1.0), SpeciesFactor(name='SpeciesFactor00576', species_reference='OH-', stoichiometry=1.0)]),\n",
       "  '9c01a6ed-7aef-45e3-bce2-d7a80c41619b': SampleNode(comments=[], factors=[Factor(csv_column_index=None, decimal_value=0.005, factor_type='Measurement Condition', name='Factor00567', reference_value='', string_value='', unit_reference='Molar')], name='SampleNode00572', sample_name='Aluminate Solution', sources=[SourceNode(comments=[], factors=[Factor(csv_column_index=None, decimal_value=0.98, factor_type='Material Property', name='Factor00569', reference_value='Purity by Weight', string_value='', unit_reference='Percent')], name='SourceNode00571', source_name='Aluminum Wire', species=[SpeciesFactor(name='SpeciesFactor00570', species_reference='Al(III)', stoichiometry=1.0)])], species=[SpeciesFactor(name='SpeciesFactor00568', species_reference='Al(III)', stoichiometry=1.0)])},\n",
       " {'df22ed31-e3a8-4d15-aede-fcc8401e23ca': ({'node_title': 'Sipos 2006, Talanta NMR Figures',\n",
       "    'node_description': 'Extracted figures.',\n",
       "    'node_url': 'www.url.com',\n",
       "    'submission_date': '2018-5-25',\n",
       "    'public_release_date': '2006-03-13'},\n",
       "   [Comment(body='I manually pulled this points out with a web tool.', name='Comment00566')]),\n",
       "  'fd725557-8153-4b5f-8cd8-c9d27c11f8f6': ('Lithium Hydroxide Assay', []),\n",
       "  '1dd73067-53d8-4ee8-9023-39ed4a421498': SampleNode(comments=[], factors=[Factor(csv_column_index=0, decimal_value=0.0, factor_type='Measurement Condition', name='Factor00579', reference_value='', string_value='', unit_reference='Molar')], name='SampleNode00582', sample_name='Lithium Hydroxide', sources=[], species=[SpeciesFactor(name='SpeciesFactor00580', species_reference='Li+', stoichiometry=1.0), SpeciesFactor(name='SpeciesFactor00581', species_reference='OH-', stoichiometry=1.0)]),\n",
       "  'b26f7741-308b-4fc7-a506-e02c3b3484cf': SampleNode(comments=[], factors=[Factor(csv_column_index=0, decimal_value=0.0, factor_type='Measurement Condition', name='Factor00579', reference_value='', string_value='', unit_reference='Molar')], name='SampleNode00582', sample_name='Lithium Hydroxide', sources=[], species=[SpeciesFactor(name='SpeciesFactor00580', species_reference='Li+', stoichiometry=1.0), SpeciesFactor(name='SpeciesFactor00581', species_reference='OH-', stoichiometry=1.0)]),\n",
       "  '8f6c830c-07a0-48b0-9fec-a65a99765a5e': SampleNode(comments=[], factors=[Factor(csv_column_index=None, decimal_value=0.005, factor_type='Measurement Condition', name='Factor00567', reference_value='', string_value='', unit_reference='Molar')], name='SampleNode00572', sample_name='Aluminate Solution', sources=[SourceNode(comments=[], factors=[Factor(csv_column_index=None, decimal_value=0.98, factor_type='Material Property', name='Factor00569', reference_value='Purity by Weight', string_value='', unit_reference='Percent')], name='SourceNode00571', source_name='Aluminum Wire', species=[SpeciesFactor(name='SpeciesFactor00570', species_reference='Al(III)', stoichiometry=1.0)])], species=[SpeciesFactor(name='SpeciesFactor00568', species_reference='Al(III)', stoichiometry=1.0)]),\n",
       "  'd1d817a6-c298-40d7-91c7-dc7def9fe692': SampleNode(comments=[], factors=[Factor(csv_column_index=0, decimal_value=0.0, factor_type='Measurement Condition', name='Factor00579', reference_value='', string_value='', unit_reference='Molar')], name='SampleNode00582', sample_name='Lithium Hydroxide', sources=[], species=[SpeciesFactor(name='SpeciesFactor00580', species_reference='Li+', stoichiometry=1.0), SpeciesFactor(name='SpeciesFactor00581', species_reference='OH-', stoichiometry=1.0)]),\n",
       "  '72759a22-54b6-41b9-9475-04ee138adda6': SampleNode(comments=[], factors=[Factor(csv_column_index=0, decimal_value=0.0, factor_type='Measurement Condition', name='Factor00579', reference_value='', string_value='', unit_reference='Molar')], name='SampleNode00582', sample_name='Lithium Hydroxide', sources=[], species=[SpeciesFactor(name='SpeciesFactor00580', species_reference='Li+', stoichiometry=1.0), SpeciesFactor(name='SpeciesFactor00581', species_reference='OH-', stoichiometry=1.0)]),\n",
       "  'ecd5c410-9be1-4e31-bb78-f6bcb8711d8b': SampleNode(comments=[], factors=[Factor(csv_column_index=None, decimal_value=0.005, factor_type='Measurement Condition', name='Factor00567', reference_value='', string_value='', unit_reference='Molar')], name='SampleNode00572', sample_name='Aluminate Solution', sources=[SourceNode(comments=[], factors=[Factor(csv_column_index=None, decimal_value=0.98, factor_type='Material Property', name='Factor00569', reference_value='Purity by Weight', string_value='', unit_reference='Percent')], name='SourceNode00571', source_name='Aluminum Wire', species=[SpeciesFactor(name='SpeciesFactor00570', species_reference='Al(III)', stoichiometry=1.0)])], species=[SpeciesFactor(name='SpeciesFactor00568', species_reference='Al(III)', stoichiometry=1.0)])},\n",
       " {'4b2bd982-ae47-464c-ac65-fbab67b1cae4': ({'node_title': 'Sipos 2006, Talanta NMR Figures',\n",
       "    'node_description': 'Extracted figures.',\n",
       "    'node_url': 'www.url.com',\n",
       "    'submission_date': '2018-5-25',\n",
       "    'public_release_date': '2006-03-13'},\n",
       "   [Comment(body='I manually pulled this points out with a web tool.', name='Comment00566')]),\n",
       "  '0ae66d60-fd69-4fe3-a8af-0c4e351327dd': ('Sodium Hydroxide Assay', []),\n",
       "  '4defb2e0-2fd2-48c6-b3b5-db49ae9c03e7': SampleNode(comments=[], factors=[Factor(csv_column_index=0, decimal_value=0.0, factor_type='Measurement Condition', name='Factor00584', reference_value='', string_value='', unit_reference='Molar')], name='SampleNode00587', sample_name='Sodium Hydroxide', sources=[], species=[SpeciesFactor(name='SpeciesFactor00585', species_reference='Na+', stoichiometry=1.0), SpeciesFactor(name='SpeciesFactor00586', species_reference='OH-', stoichiometry=1.0)]),\n",
       "  'c63ebcc0-6619-47e6-a849-a12c6869b324': SampleNode(comments=[], factors=[Factor(csv_column_index=0, decimal_value=0.0, factor_type='Measurement Condition', name='Factor00584', reference_value='', string_value='', unit_reference='Molar')], name='SampleNode00587', sample_name='Sodium Hydroxide', sources=[], species=[SpeciesFactor(name='SpeciesFactor00585', species_reference='Na+', stoichiometry=1.0), SpeciesFactor(name='SpeciesFactor00586', species_reference='OH-', stoichiometry=1.0)]),\n",
       "  '4941b5e5-10fc-4ff0-a56f-e02add9f6462': SampleNode(comments=[], factors=[Factor(csv_column_index=None, decimal_value=0.005, factor_type='Measurement Condition', name='Factor00567', reference_value='', string_value='', unit_reference='Molar')], name='SampleNode00572', sample_name='Aluminate Solution', sources=[SourceNode(comments=[], factors=[Factor(csv_column_index=None, decimal_value=0.98, factor_type='Material Property', name='Factor00569', reference_value='Purity by Weight', string_value='', unit_reference='Percent')], name='SourceNode00571', source_name='Aluminum Wire', species=[SpeciesFactor(name='SpeciesFactor00570', species_reference='Al(III)', stoichiometry=1.0)])], species=[SpeciesFactor(name='SpeciesFactor00568', species_reference='Al(III)', stoichiometry=1.0)]),\n",
       "  '6faf7d04-afe4-44ee-a204-bddd4bf35d9d': SampleNode(comments=[], factors=[Factor(csv_column_index=0, decimal_value=0.0, factor_type='Measurement Condition', name='Factor00584', reference_value='', string_value='', unit_reference='Molar')], name='SampleNode00587', sample_name='Sodium Hydroxide', sources=[], species=[SpeciesFactor(name='SpeciesFactor00585', species_reference='Na+', stoichiometry=1.0), SpeciesFactor(name='SpeciesFactor00586', species_reference='OH-', stoichiometry=1.0)]),\n",
       "  '8f260ecf-e546-4198-a085-02a9c0e78303': SampleNode(comments=[], factors=[Factor(csv_column_index=0, decimal_value=0.0, factor_type='Measurement Condition', name='Factor00584', reference_value='', string_value='', unit_reference='Molar')], name='SampleNode00587', sample_name='Sodium Hydroxide', sources=[], species=[SpeciesFactor(name='SpeciesFactor00585', species_reference='Na+', stoichiometry=1.0), SpeciesFactor(name='SpeciesFactor00586', species_reference='OH-', stoichiometry=1.0)]),\n",
       "  'd55078d1-fa53-4892-869e-d94572230dee': SampleNode(comments=[], factors=[Factor(csv_column_index=None, decimal_value=0.005, factor_type='Measurement Condition', name='Factor00567', reference_value='', string_value='', unit_reference='Molar')], name='SampleNode00572', sample_name='Aluminate Solution', sources=[SourceNode(comments=[], factors=[Factor(csv_column_index=None, decimal_value=0.98, factor_type='Material Property', name='Factor00569', reference_value='Purity by Weight', string_value='', unit_reference='Percent')], name='SourceNode00571', source_name='Aluminum Wire', species=[SpeciesFactor(name='SpeciesFactor00570', species_reference='Al(III)', stoichiometry=1.0)])], species=[SpeciesFactor(name='SpeciesFactor00568', species_reference='Al(III)', stoichiometry=1.0)])}]"
      ]
     },
     "execution_count": 32,
     "metadata": {},
     "output_type": "execute_result"
    }
   ],
   "source": [
    "metadata = [md for _, md in node_assays]\n",
    "metadata\n",
    "# md = collections.ChainMap(*metadata)\n",
    "# md"
   ]
  },
  {
   "cell_type": "markdown",
   "metadata": {},
   "source": [
    "---"
   ]
  },
  {
   "cell_type": "code",
   "execution_count": null,
   "metadata": {},
   "outputs": [],
   "source": []
  }
 ],
 "metadata": {
  "kernelspec": {
   "display_name": "py36",
   "language": "python",
   "name": "py36"
  },
  "language_info": {
   "codemirror_mode": {
    "name": "ipython",
    "version": 3
   },
   "file_extension": ".py",
   "mimetype": "text/x-python",
   "name": "python",
   "nbconvert_exporter": "python",
   "pygments_lexer": "ipython3",
   "version": "3.6.6"
  }
 },
 "nbformat": 4,
 "nbformat_minor": 2
}
