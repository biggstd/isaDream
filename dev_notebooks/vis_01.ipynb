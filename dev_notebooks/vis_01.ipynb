{
 "cells": [
  {
   "cell_type": "markdown",
   "metadata": {},
   "source": [
    "# Visualization Design\n",
    "\n",
    "By: *Tyler Biggs*\n",
    "\n",
    "---\n",
    "\n",
    "**Overview**\n",
    "\n",
    "This notebook will go over the design of the vizualizations. It should also serve as a reference for future custom visualizations."
   ]
  },
  {
   "cell_type": "code",
   "execution_count": 1,
   "metadata": {
    "collapsed": true
   },
   "outputs": [],
   "source": [
    "%load_ext autoreload\n",
    "%autoreload 2\n",
    "from pprint import pprint"
   ]
  },
  {
   "cell_type": "code",
   "execution_count": 2,
   "metadata": {},
   "outputs": [
    {
     "data": {
      "text/html": [
       "\n",
       "    <div class=\"bk-root\">\n",
       "        <a href=\"https://bokeh.pydata.org\" target=\"_blank\" class=\"bk-logo bk-logo-small bk-logo-notebook\"></a>\n",
       "        <span id=\"72c6a9e4-6631-420d-8d7a-47b8149c76a5\">Loading BokehJS ...</span>\n",
       "    </div>"
      ]
     },
     "metadata": {},
     "output_type": "display_data"
    },
    {
     "data": {
      "application/javascript": [
       "\n",
       "(function(root) {\n",
       "  function now() {\n",
       "    return new Date();\n",
       "  }\n",
       "\n",
       "  var force = true;\n",
       "\n",
       "  if (typeof (root._bokeh_onload_callbacks) === \"undefined\" || force === true) {\n",
       "    root._bokeh_onload_callbacks = [];\n",
       "    root._bokeh_is_loading = undefined;\n",
       "  }\n",
       "\n",
       "  var JS_MIME_TYPE = 'application/javascript';\n",
       "  var HTML_MIME_TYPE = 'text/html';\n",
       "  var EXEC_MIME_TYPE = 'application/vnd.bokehjs_exec.v0+json';\n",
       "  var CLASS_NAME = 'output_bokeh rendered_html';\n",
       "\n",
       "  /**\n",
       "   * Render data to the DOM node\n",
       "   */\n",
       "  function render(props, node) {\n",
       "    var script = document.createElement(\"script\");\n",
       "    node.appendChild(script);\n",
       "  }\n",
       "\n",
       "  /**\n",
       "   * Handle when an output is cleared or removed\n",
       "   */\n",
       "  function handleClearOutput(event, handle) {\n",
       "    var cell = handle.cell;\n",
       "\n",
       "    var id = cell.output_area._bokeh_element_id;\n",
       "    var server_id = cell.output_area._bokeh_server_id;\n",
       "    // Clean up Bokeh references\n",
       "    if (id != null && id in Bokeh.index) {\n",
       "      Bokeh.index[id].model.document.clear();\n",
       "      delete Bokeh.index[id];\n",
       "    }\n",
       "\n",
       "    if (server_id !== undefined) {\n",
       "      // Clean up Bokeh references\n",
       "      var cmd = \"from bokeh.io.state import curstate; print(curstate().uuid_to_server['\" + server_id + \"'].get_sessions()[0].document.roots[0]._id)\";\n",
       "      cell.notebook.kernel.execute(cmd, {\n",
       "        iopub: {\n",
       "          output: function(msg) {\n",
       "            var id = msg.content.text.trim();\n",
       "            if (id in Bokeh.index) {\n",
       "              Bokeh.index[id].model.document.clear();\n",
       "              delete Bokeh.index[id];\n",
       "            }\n",
       "          }\n",
       "        }\n",
       "      });\n",
       "      // Destroy server and session\n",
       "      var cmd = \"import bokeh.io.notebook as ion; ion.destroy_server('\" + server_id + \"')\";\n",
       "      cell.notebook.kernel.execute(cmd);\n",
       "    }\n",
       "  }\n",
       "\n",
       "  /**\n",
       "   * Handle when a new output is added\n",
       "   */\n",
       "  function handleAddOutput(event, handle) {\n",
       "    var output_area = handle.output_area;\n",
       "    var output = handle.output;\n",
       "\n",
       "    // limit handleAddOutput to display_data with EXEC_MIME_TYPE content only\n",
       "    if ((output.output_type != \"display_data\") || (!output.data.hasOwnProperty(EXEC_MIME_TYPE))) {\n",
       "      return\n",
       "    }\n",
       "\n",
       "    var toinsert = output_area.element.find(\".\" + CLASS_NAME.split(' ')[0]);\n",
       "\n",
       "    if (output.metadata[EXEC_MIME_TYPE][\"id\"] !== undefined) {\n",
       "      toinsert[toinsert.length - 1].firstChild.textContent = output.data[JS_MIME_TYPE];\n",
       "      // store reference to embed id on output_area\n",
       "      output_area._bokeh_element_id = output.metadata[EXEC_MIME_TYPE][\"id\"];\n",
       "    }\n",
       "    if (output.metadata[EXEC_MIME_TYPE][\"server_id\"] !== undefined) {\n",
       "      var bk_div = document.createElement(\"div\");\n",
       "      bk_div.innerHTML = output.data[HTML_MIME_TYPE];\n",
       "      var script_attrs = bk_div.children[0].attributes;\n",
       "      for (var i = 0; i < script_attrs.length; i++) {\n",
       "        toinsert[toinsert.length - 1].firstChild.setAttribute(script_attrs[i].name, script_attrs[i].value);\n",
       "      }\n",
       "      // store reference to server id on output_area\n",
       "      output_area._bokeh_server_id = output.metadata[EXEC_MIME_TYPE][\"server_id\"];\n",
       "    }\n",
       "  }\n",
       "\n",
       "  function register_renderer(events, OutputArea) {\n",
       "\n",
       "    function append_mime(data, metadata, element) {\n",
       "      // create a DOM node to render to\n",
       "      var toinsert = this.create_output_subarea(\n",
       "        metadata,\n",
       "        CLASS_NAME,\n",
       "        EXEC_MIME_TYPE\n",
       "      );\n",
       "      this.keyboard_manager.register_events(toinsert);\n",
       "      // Render to node\n",
       "      var props = {data: data, metadata: metadata[EXEC_MIME_TYPE]};\n",
       "      render(props, toinsert[toinsert.length - 1]);\n",
       "      element.append(toinsert);\n",
       "      return toinsert\n",
       "    }\n",
       "\n",
       "    /* Handle when an output is cleared or removed */\n",
       "    events.on('clear_output.CodeCell', handleClearOutput);\n",
       "    events.on('delete.Cell', handleClearOutput);\n",
       "\n",
       "    /* Handle when a new output is added */\n",
       "    events.on('output_added.OutputArea', handleAddOutput);\n",
       "\n",
       "    /**\n",
       "     * Register the mime type and append_mime function with output_area\n",
       "     */\n",
       "    OutputArea.prototype.register_mime_type(EXEC_MIME_TYPE, append_mime, {\n",
       "      /* Is output safe? */\n",
       "      safe: true,\n",
       "      /* Index of renderer in `output_area.display_order` */\n",
       "      index: 0\n",
       "    });\n",
       "  }\n",
       "\n",
       "  // register the mime type if in Jupyter Notebook environment and previously unregistered\n",
       "  if (root.Jupyter !== undefined) {\n",
       "    var events = require('base/js/events');\n",
       "    var OutputArea = require('notebook/js/outputarea').OutputArea;\n",
       "\n",
       "    if (OutputArea.prototype.mime_types().indexOf(EXEC_MIME_TYPE) == -1) {\n",
       "      register_renderer(events, OutputArea);\n",
       "    }\n",
       "  }\n",
       "\n",
       "  \n",
       "  if (typeof (root._bokeh_timeout) === \"undefined\" || force === true) {\n",
       "    root._bokeh_timeout = Date.now() + 5000;\n",
       "    root._bokeh_failed_load = false;\n",
       "  }\n",
       "\n",
       "  var NB_LOAD_WARNING = {'data': {'text/html':\n",
       "     \"<div style='background-color: #fdd'>\\n\"+\n",
       "     \"<p>\\n\"+\n",
       "     \"BokehJS does not appear to have successfully loaded. If loading BokehJS from CDN, this \\n\"+\n",
       "     \"may be due to a slow or bad network connection. Possible fixes:\\n\"+\n",
       "     \"</p>\\n\"+\n",
       "     \"<ul>\\n\"+\n",
       "     \"<li>re-rerun `output_notebook()` to attempt to load from CDN again, or</li>\\n\"+\n",
       "     \"<li>use INLINE resources instead, as so:</li>\\n\"+\n",
       "     \"</ul>\\n\"+\n",
       "     \"<code>\\n\"+\n",
       "     \"from bokeh.resources import INLINE\\n\"+\n",
       "     \"output_notebook(resources=INLINE)\\n\"+\n",
       "     \"</code>\\n\"+\n",
       "     \"</div>\"}};\n",
       "\n",
       "  function display_loaded() {\n",
       "    var el = document.getElementById(\"72c6a9e4-6631-420d-8d7a-47b8149c76a5\");\n",
       "    if (el != null) {\n",
       "      el.textContent = \"BokehJS is loading...\";\n",
       "    }\n",
       "    if (root.Bokeh !== undefined) {\n",
       "      if (el != null) {\n",
       "        el.textContent = \"BokehJS \" + root.Bokeh.version + \" successfully loaded.\";\n",
       "      }\n",
       "    } else if (Date.now() < root._bokeh_timeout) {\n",
       "      setTimeout(display_loaded, 100)\n",
       "    }\n",
       "  }\n",
       "\n",
       "\n",
       "  function run_callbacks() {\n",
       "    try {\n",
       "      root._bokeh_onload_callbacks.forEach(function(callback) { callback() });\n",
       "    }\n",
       "    finally {\n",
       "      delete root._bokeh_onload_callbacks\n",
       "    }\n",
       "    console.info(\"Bokeh: all callbacks have finished\");\n",
       "  }\n",
       "\n",
       "  function load_libs(js_urls, callback) {\n",
       "    root._bokeh_onload_callbacks.push(callback);\n",
       "    if (root._bokeh_is_loading > 0) {\n",
       "      console.log(\"Bokeh: BokehJS is being loaded, scheduling callback at\", now());\n",
       "      return null;\n",
       "    }\n",
       "    if (js_urls == null || js_urls.length === 0) {\n",
       "      run_callbacks();\n",
       "      return null;\n",
       "    }\n",
       "    console.log(\"Bokeh: BokehJS not loaded, scheduling load and callback at\", now());\n",
       "    root._bokeh_is_loading = js_urls.length;\n",
       "    for (var i = 0; i < js_urls.length; i++) {\n",
       "      var url = js_urls[i];\n",
       "      var s = document.createElement('script');\n",
       "      s.src = url;\n",
       "      s.async = false;\n",
       "      s.onreadystatechange = s.onload = function() {\n",
       "        root._bokeh_is_loading--;\n",
       "        if (root._bokeh_is_loading === 0) {\n",
       "          console.log(\"Bokeh: all BokehJS libraries loaded\");\n",
       "          run_callbacks()\n",
       "        }\n",
       "      };\n",
       "      s.onerror = function() {\n",
       "        console.warn(\"failed to load library \" + url);\n",
       "      };\n",
       "      console.log(\"Bokeh: injecting script tag for BokehJS library: \", url);\n",
       "      document.getElementsByTagName(\"head\")[0].appendChild(s);\n",
       "    }\n",
       "  };var element = document.getElementById(\"72c6a9e4-6631-420d-8d7a-47b8149c76a5\");\n",
       "  if (element == null) {\n",
       "    console.log(\"Bokeh: ERROR: autoload.js configured with elementid '72c6a9e4-6631-420d-8d7a-47b8149c76a5' but no matching script tag was found. \")\n",
       "    return false;\n",
       "  }\n",
       "\n",
       "  var js_urls = [\"https://cdn.pydata.org/bokeh/release/bokeh-0.13.0.min.js\", \"https://cdn.pydata.org/bokeh/release/bokeh-widgets-0.13.0.min.js\", \"https://cdn.pydata.org/bokeh/release/bokeh-tables-0.13.0.min.js\", \"https://cdn.pydata.org/bokeh/release/bokeh-gl-0.13.0.min.js\"];\n",
       "\n",
       "  var inline_js = [\n",
       "    function(Bokeh) {\n",
       "      Bokeh.set_log_level(\"info\");\n",
       "    },\n",
       "    \n",
       "    function(Bokeh) {\n",
       "      \n",
       "    },\n",
       "    function(Bokeh) {\n",
       "      console.log(\"Bokeh: injecting CSS: https://cdn.pydata.org/bokeh/release/bokeh-0.13.0.min.css\");\n",
       "      Bokeh.embed.inject_css(\"https://cdn.pydata.org/bokeh/release/bokeh-0.13.0.min.css\");\n",
       "      console.log(\"Bokeh: injecting CSS: https://cdn.pydata.org/bokeh/release/bokeh-widgets-0.13.0.min.css\");\n",
       "      Bokeh.embed.inject_css(\"https://cdn.pydata.org/bokeh/release/bokeh-widgets-0.13.0.min.css\");\n",
       "      console.log(\"Bokeh: injecting CSS: https://cdn.pydata.org/bokeh/release/bokeh-tables-0.13.0.min.css\");\n",
       "      Bokeh.embed.inject_css(\"https://cdn.pydata.org/bokeh/release/bokeh-tables-0.13.0.min.css\");\n",
       "    }\n",
       "  ];\n",
       "\n",
       "  function run_inline_js() {\n",
       "    \n",
       "    if ((root.Bokeh !== undefined) || (force === true)) {\n",
       "      for (var i = 0; i < inline_js.length; i++) {\n",
       "        inline_js[i].call(root, root.Bokeh);\n",
       "      }if (force === true) {\n",
       "        display_loaded();\n",
       "      }} else if (Date.now() < root._bokeh_timeout) {\n",
       "      setTimeout(run_inline_js, 100);\n",
       "    } else if (!root._bokeh_failed_load) {\n",
       "      console.log(\"Bokeh: BokehJS failed to load within specified timeout.\");\n",
       "      root._bokeh_failed_load = true;\n",
       "    } else if (force !== true) {\n",
       "      var cell = $(document.getElementById(\"72c6a9e4-6631-420d-8d7a-47b8149c76a5\")).parents('.cell').data().cell;\n",
       "      cell.output_area.append_execute_result(NB_LOAD_WARNING)\n",
       "    }\n",
       "\n",
       "  }\n",
       "\n",
       "  if (root._bokeh_is_loading === 0) {\n",
       "    console.log(\"Bokeh: BokehJS loaded, going straight to plotting\");\n",
       "    run_inline_js();\n",
       "  } else {\n",
       "    load_libs(js_urls, function() {\n",
       "      console.log(\"Bokeh: BokehJS plotting callback run at\", now());\n",
       "      run_inline_js();\n",
       "    });\n",
       "  }\n",
       "}(window));"
      ],
      "application/vnd.bokehjs_load.v0+json": "\n(function(root) {\n  function now() {\n    return new Date();\n  }\n\n  var force = true;\n\n  if (typeof (root._bokeh_onload_callbacks) === \"undefined\" || force === true) {\n    root._bokeh_onload_callbacks = [];\n    root._bokeh_is_loading = undefined;\n  }\n\n  \n\n  \n  if (typeof (root._bokeh_timeout) === \"undefined\" || force === true) {\n    root._bokeh_timeout = Date.now() + 5000;\n    root._bokeh_failed_load = false;\n  }\n\n  var NB_LOAD_WARNING = {'data': {'text/html':\n     \"<div style='background-color: #fdd'>\\n\"+\n     \"<p>\\n\"+\n     \"BokehJS does not appear to have successfully loaded. If loading BokehJS from CDN, this \\n\"+\n     \"may be due to a slow or bad network connection. Possible fixes:\\n\"+\n     \"</p>\\n\"+\n     \"<ul>\\n\"+\n     \"<li>re-rerun `output_notebook()` to attempt to load from CDN again, or</li>\\n\"+\n     \"<li>use INLINE resources instead, as so:</li>\\n\"+\n     \"</ul>\\n\"+\n     \"<code>\\n\"+\n     \"from bokeh.resources import INLINE\\n\"+\n     \"output_notebook(resources=INLINE)\\n\"+\n     \"</code>\\n\"+\n     \"</div>\"}};\n\n  function display_loaded() {\n    var el = document.getElementById(\"72c6a9e4-6631-420d-8d7a-47b8149c76a5\");\n    if (el != null) {\n      el.textContent = \"BokehJS is loading...\";\n    }\n    if (root.Bokeh !== undefined) {\n      if (el != null) {\n        el.textContent = \"BokehJS \" + root.Bokeh.version + \" successfully loaded.\";\n      }\n    } else if (Date.now() < root._bokeh_timeout) {\n      setTimeout(display_loaded, 100)\n    }\n  }\n\n\n  function run_callbacks() {\n    try {\n      root._bokeh_onload_callbacks.forEach(function(callback) { callback() });\n    }\n    finally {\n      delete root._bokeh_onload_callbacks\n    }\n    console.info(\"Bokeh: all callbacks have finished\");\n  }\n\n  function load_libs(js_urls, callback) {\n    root._bokeh_onload_callbacks.push(callback);\n    if (root._bokeh_is_loading > 0) {\n      console.log(\"Bokeh: BokehJS is being loaded, scheduling callback at\", now());\n      return null;\n    }\n    if (js_urls == null || js_urls.length === 0) {\n      run_callbacks();\n      return null;\n    }\n    console.log(\"Bokeh: BokehJS not loaded, scheduling load and callback at\", now());\n    root._bokeh_is_loading = js_urls.length;\n    for (var i = 0; i < js_urls.length; i++) {\n      var url = js_urls[i];\n      var s = document.createElement('script');\n      s.src = url;\n      s.async = false;\n      s.onreadystatechange = s.onload = function() {\n        root._bokeh_is_loading--;\n        if (root._bokeh_is_loading === 0) {\n          console.log(\"Bokeh: all BokehJS libraries loaded\");\n          run_callbacks()\n        }\n      };\n      s.onerror = function() {\n        console.warn(\"failed to load library \" + url);\n      };\n      console.log(\"Bokeh: injecting script tag for BokehJS library: \", url);\n      document.getElementsByTagName(\"head\")[0].appendChild(s);\n    }\n  };var element = document.getElementById(\"72c6a9e4-6631-420d-8d7a-47b8149c76a5\");\n  if (element == null) {\n    console.log(\"Bokeh: ERROR: autoload.js configured with elementid '72c6a9e4-6631-420d-8d7a-47b8149c76a5' but no matching script tag was found. \")\n    return false;\n  }\n\n  var js_urls = [\"https://cdn.pydata.org/bokeh/release/bokeh-0.13.0.min.js\", \"https://cdn.pydata.org/bokeh/release/bokeh-widgets-0.13.0.min.js\", \"https://cdn.pydata.org/bokeh/release/bokeh-tables-0.13.0.min.js\", \"https://cdn.pydata.org/bokeh/release/bokeh-gl-0.13.0.min.js\"];\n\n  var inline_js = [\n    function(Bokeh) {\n      Bokeh.set_log_level(\"info\");\n    },\n    \n    function(Bokeh) {\n      \n    },\n    function(Bokeh) {\n      console.log(\"Bokeh: injecting CSS: https://cdn.pydata.org/bokeh/release/bokeh-0.13.0.min.css\");\n      Bokeh.embed.inject_css(\"https://cdn.pydata.org/bokeh/release/bokeh-0.13.0.min.css\");\n      console.log(\"Bokeh: injecting CSS: https://cdn.pydata.org/bokeh/release/bokeh-widgets-0.13.0.min.css\");\n      Bokeh.embed.inject_css(\"https://cdn.pydata.org/bokeh/release/bokeh-widgets-0.13.0.min.css\");\n      console.log(\"Bokeh: injecting CSS: https://cdn.pydata.org/bokeh/release/bokeh-tables-0.13.0.min.css\");\n      Bokeh.embed.inject_css(\"https://cdn.pydata.org/bokeh/release/bokeh-tables-0.13.0.min.css\");\n    }\n  ];\n\n  function run_inline_js() {\n    \n    if ((root.Bokeh !== undefined) || (force === true)) {\n      for (var i = 0; i < inline_js.length; i++) {\n        inline_js[i].call(root, root.Bokeh);\n      }if (force === true) {\n        display_loaded();\n      }} else if (Date.now() < root._bokeh_timeout) {\n      setTimeout(run_inline_js, 100);\n    } else if (!root._bokeh_failed_load) {\n      console.log(\"Bokeh: BokehJS failed to load within specified timeout.\");\n      root._bokeh_failed_load = true;\n    } else if (force !== true) {\n      var cell = $(document.getElementById(\"72c6a9e4-6631-420d-8d7a-47b8149c76a5\")).parents('.cell').data().cell;\n      cell.output_area.append_execute_result(NB_LOAD_WARNING)\n    }\n\n  }\n\n  if (root._bokeh_is_loading === 0) {\n    console.log(\"Bokeh: BokehJS loaded, going straight to plotting\");\n    run_inline_js();\n  } else {\n    load_libs(js_urls, function() {\n      console.log(\"Bokeh: BokehJS plotting callback run at\", now());\n      run_inline_js();\n    });\n  }\n}(window));"
     },
     "metadata": {},
     "output_type": "display_data"
    }
   ],
   "source": [
    "import pandas as pd\n",
    "import numpy as np\n",
    "import collections\n",
    "\n",
    "import bokeh as bk\n",
    "import bokeh.io\n",
    "import bokeh.models\n",
    "import bokeh.layouts\n",
    "import bokeh.plotting\n",
    "bokeh.io.output_notebook()\n",
    "\n",
    "# import holoviews as hv\n",
    "# hv.extension('bokeh')"
   ]
  },
  {
   "cell_type": "code",
   "execution_count": 3,
   "metadata": {
    "collapsed": true
   },
   "outputs": [],
   "source": [
    "# Path hack to allow imports from the parent directory.\n",
    "import sys, os\n",
    "sys.path.insert(0, os.path.abspath('../../'))"
   ]
  },
  {
   "cell_type": "code",
   "execution_count": 23,
   "metadata": {},
   "outputs": [],
   "source": [
    "from isadream.isadream.models import utils\n",
    "from isadream.isadream import io"
   ]
  },
  {
   "cell_type": "markdown",
   "metadata": {},
   "source": [
    "---"
   ]
  },
  {
   "cell_type": "markdown",
   "metadata": {},
   "source": [
    "## Dataflow\n",
    "\n",
    "The data is transfered from the Drupal server as a `.json` file. Those files placed into a directory as the user requests them. That is, all the datasets that a user selects for any given visualziation are placed in a directory. These files are condensed into four dataframes per `.json` file."
   ]
  },
  {
   "cell_type": "code",
   "execution_count": 27,
   "metadata": {
    "collapsed": true
   },
   "outputs": [
    {
     "name": "stdout",
     "output_type": "stream",
     "text": [
      "/home/tylerbiggs/git/isadream/isadream/demo_data/demo_json/sipos_2006_talanta_nmr_figs.json \n",
      " /home/tylerbiggs/git/isadream/isadream/demo_data/\n"
     ]
    }
   ],
   "source": [
    "# A demo json file is provided.\n",
    "nmr_json_demo = utils.SIPOS_DEMO\n",
    "demo_base_path = utils.BASE_PATH\n",
    "print(nmr_json_demo, '\\n', demo_base_path)"
   ]
  },
  {
   "cell_type": "code",
   "execution_count": 28,
   "metadata": {},
   "outputs": [],
   "source": [
    "demo_json = io.read_idream_json(nmr_json_demo)\n",
    "node = io.parse_json(demo_json)"
   ]
  },
  {
   "cell_type": "markdown",
   "metadata": {},
   "source": [
    "---"
   ]
  },
  {
   "cell_type": "markdown",
   "metadata": {},
   "source": [
    "## Viewing the data in each Assay (datafile) per .json"
   ]
  },
  {
   "cell_type": "code",
   "execution_count": null,
   "metadata": {},
   "outputs": [],
   "source": []
  },
  {
   "cell_type": "markdown",
   "metadata": {},
   "source": [
    "---"
   ]
  },
  {
   "cell_type": "markdown",
   "metadata": {},
   "source": [
    "### Getting Subsets"
   ]
  },
  {
   "cell_type": "code",
   "execution_count": 36,
   "metadata": {},
   "outputs": [
    {
     "data": {
      "text/html": [
       "<div>\n",
       "<style scoped>\n",
       "    .dataframe tbody tr th:only-of-type {\n",
       "        vertical-align: middle;\n",
       "    }\n",
       "\n",
       "    .dataframe tbody tr th {\n",
       "        vertical-align: top;\n",
       "    }\n",
       "\n",
       "    .dataframe thead th {\n",
       "        text-align: right;\n",
       "    }\n",
       "</style>\n",
       "<table border=\"1\" class=\"dataframe\">\n",
       "  <thead>\n",
       "    <tr style=\"text-align: right;\">\n",
       "      <th></th>\n",
       "      <th>(Material Property, Percent, ('Al(III)', 1.0))</th>\n",
       "      <th>(Material Property, Quality, ('Fake', 1.0)__('Fake', 2.0))</th>\n",
       "      <th>(Material Property, g/cm^3, ('Fake', 1.0)__('Fake', 2.0))</th>\n",
       "      <th>(Measurement, ppm, ('Al(III)', 1.0))</th>\n",
       "      <th>(Measurement, ppm, ('Fake', 1.0)__('Fake', 2.0))</th>\n",
       "      <th>(Measurement, ppm, ('OH-', 1.0)__('K+', 1.0))</th>\n",
       "      <th>(Measurement, ppm, ('OH-', 1.0)__('Li+', 1.0))</th>\n",
       "      <th>(Measurement, ppm, ('OH-', 1.0)__('Na+', 1.0))</th>\n",
       "      <th>(Measurement Condition, Molar, ('Al(III)', 1.0))</th>\n",
       "      <th>(Measurement Condition, Molar, ('Fake', 1.0)__('Fake', 2.0))</th>\n",
       "      <th>(Measurement Condition, Molar, ('OH-', 1.0)__('K+', 1.0))</th>\n",
       "      <th>(Measurement Condition, Molar, ('OH-', 1.0)__('Li+', 1.0))</th>\n",
       "      <th>(Measurement Condition, Molar, ('OH-', 1.0)__('Na+', 1.0))</th>\n",
       "    </tr>\n",
       "  </thead>\n",
       "  <tbody>\n",
       "    <tr>\n",
       "      <th>0</th>\n",
       "      <td>[0.98, 0.98, 0.98, 0.98, 0.98]</td>\n",
       "      <td>[Poor, Poor, Poor, Poor, Poor]</td>\n",
       "      <td>[1.05, 1.05, 1.05, 1.05, 1.05]</td>\n",
       "      <td>[79.9, 79.84, 79.72, 79.66, 79.66]</td>\n",
       "      <td>[79.9, 79.84, 79.72, 79.66, 79.66]</td>\n",
       "      <td>[79.9, 79.84, 79.72, 79.66, 79.66]</td>\n",
       "      <td>NaN</td>\n",
       "      <td>NaN</td>\n",
       "      <td>[0.005, 0.005, 0.005, 0.005, 0.005]</td>\n",
       "      <td>[0.006, 0.006, 0.006, 0.006, 0.006]</td>\n",
       "      <td>[2.93, 4.92, 6.85, 9.13, 10.71]</td>\n",
       "      <td>NaN</td>\n",
       "      <td>NaN</td>\n",
       "    </tr>\n",
       "    <tr>\n",
       "      <th>1</th>\n",
       "      <td>[0.98, 0.98, 0.98, 0.98, 0.98, 0.98, 0.98, 0.98]</td>\n",
       "      <td>[Poor, Poor, Poor, Poor, Poor, Poor, Poor, Poor]</td>\n",
       "      <td>[1.05, 1.05, 1.05, 1.05, 1.05, 1.05, 1.05, 1.05]</td>\n",
       "      <td>[79.92, 79.84, 79.66, 79.54, 79.36, 79.13, 78....</td>\n",
       "      <td>[79.92, 79.84, 79.66, 79.54, 79.36, 79.13, 78....</td>\n",
       "      <td>NaN</td>\n",
       "      <td>[79.92, 79.84, 79.66, 79.54, 79.36, 79.13, 78....</td>\n",
       "      <td>NaN</td>\n",
       "      <td>[0.005, 0.005, 0.005, 0.005, 0.005, 0.005, 0.0...</td>\n",
       "      <td>[0.006, 0.006, 0.006, 0.006, 0.006, 0.006, 0.0...</td>\n",
       "      <td>NaN</td>\n",
       "      <td>[0.66, 1.1, 1.64, 2.14, 2.59, 3.11, 3.59, 4.11]</td>\n",
       "      <td>NaN</td>\n",
       "    </tr>\n",
       "    <tr>\n",
       "      <th>2</th>\n",
       "      <td>[0.98, 0.98, 0.98, 0.98, 0.98, 0.98, 0.98, 0.9...</td>\n",
       "      <td>[Poor, Poor, Poor, Poor, Poor, Poor, Poor, Poo...</td>\n",
       "      <td>[1.05, 1.05, 1.05, 1.05, 1.05, 1.05, 1.05, 1.0...</td>\n",
       "      <td>[79.54, 79.98, 79.13, 78.45, 77.67, 76.47, 74....</td>\n",
       "      <td>[79.54, 79.98, 79.13, 78.45, 77.67, 76.47, 74....</td>\n",
       "      <td>NaN</td>\n",
       "      <td>NaN</td>\n",
       "      <td>[79.54, 79.98, 79.13, 78.45, 77.67, 76.47, 74....</td>\n",
       "      <td>[0.005, 0.005, 0.005, 0.005, 0.005, 0.005, 0.0...</td>\n",
       "      <td>[0.006, 0.006, 0.006, 0.006, 0.006, 0.006, 0.0...</td>\n",
       "      <td>NaN</td>\n",
       "      <td>NaN</td>\n",
       "      <td>[4.98, 0.93, 6.97, 8.96, 10.95, 12.99, 14.92, ...</td>\n",
       "    </tr>\n",
       "  </tbody>\n",
       "</table>\n",
       "</div>"
      ],
      "text/plain": [
       "      (Material Property, Percent, ('Al(III)', 1.0))  \\\n",
       "0                     [0.98, 0.98, 0.98, 0.98, 0.98]   \n",
       "1   [0.98, 0.98, 0.98, 0.98, 0.98, 0.98, 0.98, 0.98]   \n",
       "2  [0.98, 0.98, 0.98, 0.98, 0.98, 0.98, 0.98, 0.9...   \n",
       "\n",
       "  (Material Property, Quality, ('Fake', 1.0)__('Fake', 2.0))  \\\n",
       "0                     [Poor, Poor, Poor, Poor, Poor]           \n",
       "1   [Poor, Poor, Poor, Poor, Poor, Poor, Poor, Poor]           \n",
       "2  [Poor, Poor, Poor, Poor, Poor, Poor, Poor, Poo...           \n",
       "\n",
       "  (Material Property, g/cm^3, ('Fake', 1.0)__('Fake', 2.0))  \\\n",
       "0                     [1.05, 1.05, 1.05, 1.05, 1.05]          \n",
       "1   [1.05, 1.05, 1.05, 1.05, 1.05, 1.05, 1.05, 1.05]          \n",
       "2  [1.05, 1.05, 1.05, 1.05, 1.05, 1.05, 1.05, 1.0...          \n",
       "\n",
       "                (Measurement, ppm, ('Al(III)', 1.0))  \\\n",
       "0                 [79.9, 79.84, 79.72, 79.66, 79.66]   \n",
       "1  [79.92, 79.84, 79.66, 79.54, 79.36, 79.13, 78....   \n",
       "2  [79.54, 79.98, 79.13, 78.45, 77.67, 76.47, 74....   \n",
       "\n",
       "    (Measurement, ppm, ('Fake', 1.0)__('Fake', 2.0))  \\\n",
       "0                 [79.9, 79.84, 79.72, 79.66, 79.66]   \n",
       "1  [79.92, 79.84, 79.66, 79.54, 79.36, 79.13, 78....   \n",
       "2  [79.54, 79.98, 79.13, 78.45, 77.67, 76.47, 74....   \n",
       "\n",
       "  (Measurement, ppm, ('OH-', 1.0)__('K+', 1.0))  \\\n",
       "0            [79.9, 79.84, 79.72, 79.66, 79.66]   \n",
       "1                                           NaN   \n",
       "2                                           NaN   \n",
       "\n",
       "      (Measurement, ppm, ('OH-', 1.0)__('Li+', 1.0))  \\\n",
       "0                                                NaN   \n",
       "1  [79.92, 79.84, 79.66, 79.54, 79.36, 79.13, 78....   \n",
       "2                                                NaN   \n",
       "\n",
       "      (Measurement, ppm, ('OH-', 1.0)__('Na+', 1.0))  \\\n",
       "0                                                NaN   \n",
       "1                                                NaN   \n",
       "2  [79.54, 79.98, 79.13, 78.45, 77.67, 76.47, 74....   \n",
       "\n",
       "    (Measurement Condition, Molar, ('Al(III)', 1.0))  \\\n",
       "0                [0.005, 0.005, 0.005, 0.005, 0.005]   \n",
       "1  [0.005, 0.005, 0.005, 0.005, 0.005, 0.005, 0.0...   \n",
       "2  [0.005, 0.005, 0.005, 0.005, 0.005, 0.005, 0.0...   \n",
       "\n",
       "  (Measurement Condition, Molar, ('Fake', 1.0)__('Fake', 2.0))  \\\n",
       "0                [0.006, 0.006, 0.006, 0.006, 0.006]             \n",
       "1  [0.006, 0.006, 0.006, 0.006, 0.006, 0.006, 0.0...             \n",
       "2  [0.006, 0.006, 0.006, 0.006, 0.006, 0.006, 0.0...             \n",
       "\n",
       "  (Measurement Condition, Molar, ('OH-', 1.0)__('K+', 1.0))  \\\n",
       "0                    [2.93, 4.92, 6.85, 9.13, 10.71]          \n",
       "1                                                NaN          \n",
       "2                                                NaN          \n",
       "\n",
       "  (Measurement Condition, Molar, ('OH-', 1.0)__('Li+', 1.0))  \\\n",
       "0                                                NaN           \n",
       "1    [0.66, 1.1, 1.64, 2.14, 2.59, 3.11, 3.59, 4.11]           \n",
       "2                                                NaN           \n",
       "\n",
       "  (Measurement Condition, Molar, ('OH-', 1.0)__('Na+', 1.0))  \n",
       "0                                                NaN          \n",
       "1                                                NaN          \n",
       "2  [4.98, 0.93, 6.97, 8.96, 10.95, 12.99, 14.92, ...          "
      ]
     },
     "execution_count": 36,
     "metadata": {},
     "output_type": "execute_result"
    }
   ],
   "source": [
    "assay_chain_map = collections.ChainMap(*[a.as_dict for a in node.assays]).maps\n",
    "df = pd.DataFrame.from_records(assay_chain_map)\n",
    "# df.columns = pd.MultiIndex.from_tuples(df.columns)\n",
    "df"
   ]
  },
  {
   "cell_type": "code",
   "execution_count": null,
   "metadata": {},
   "outputs": [],
   "source": [
    "for "
   ]
  },
  {
   "cell_type": "code",
   "execution_count": 30,
   "metadata": {},
   "outputs": [
    {
     "name": "stdout",
     "output_type": "stream",
     "text": [
      "0\n",
      "1\n",
      "2\n"
     ]
    }
   ],
   "source": [
    "for c in df.T:\n",
    "    print(c)"
   ]
  },
  {
   "cell_type": "code",
   "execution_count": 8,
   "metadata": {},
   "outputs": [],
   "source": [
    "# f_key = 'ppm'\n",
    "# val_cols = [k for k in df.columns if f_key in k]\n",
    "# key_cols = [k for k in df.columns if k not in val_cols]\n",
    "# pprint(val_cols)\n",
    "# pprint(key_cols)"
   ]
  },
  {
   "cell_type": "code",
   "execution_count": 9,
   "metadata": {},
   "outputs": [],
   "source": [
    "# bkdf = df.dropna(axis=1)\n",
    "# bkdf = bkdf.reindex(val_cols, axis=1).dropna(axis=1)\n",
    "# bkdf"
   ]
  },
  {
   "cell_type": "code",
   "execution_count": 10,
   "metadata": {},
   "outputs": [],
   "source": [
    "# cds = {}\n",
    "# for samp in bkdf:\n",
    "#     key = '__'.join(str(x) for x in samp)\n",
    "#     cds[key] = np.concatenate(bkdf[samp].values)\n",
    "    \n",
    "# cds"
   ]
  },
  {
   "cell_type": "code",
   "execution_count": 21,
   "metadata": {},
   "outputs": [],
   "source": [
    "def to_cds(query='ppm', drupal_node=node):\n",
    "    cds = {}\n",
    "    \n",
    "    assay_chain_map = collections.ChainMap(*[a.as_dict for a in node.assays]).maps\n",
    "    df = pd.DataFrame.from_records(assay_chain_map)\n",
    "#     df.columns = pd.MultiIndex.from_tuples(df.columns)\n",
    "#     df = df.dropna(axis=1)\n",
    "    \n",
    "    val_cols = [k for k in df.columns if query in k]\n",
    "    key_cols = [k for k in df.columns if k not in val_cols]\n",
    "    \n",
    "    tdf = df.reindex(val_cols, axis=1)\n",
    "    for samp in tdf:\n",
    "        display(tdf)\n",
    "        display(samp)\n",
    "        key = 'val_dim__' +  '__'.join([str(x) for x in samp])\n",
    "        for col in tdf:\n",
    "            vectors = [v for v in tdf[col].values if v]\n",
    "            vector_length = max([len(v) for v in vectors])\n",
    "            cds[key] = np.concatenate([v for v in tdf[col].values if v])\n",
    "\n",
    "    tdf = df.reindex(key_cols, axis=1)      \n",
    "    for samp in tdf:\n",
    "#         display(tdf)\n",
    "#         display(samp)\n",
    "        key = 'key_dim__' +  '__'.join([str(x) for x in samp])\n",
    "        \n",
    "        for col in tdf:\n",
    "            cds[key] = np.concatenate([v for v in tdf[col].values if v])\n",
    "        \n",
    "    \n",
    "    return cds"
   ]
  },
  {
   "cell_type": "code",
   "execution_count": 22,
   "metadata": {},
   "outputs": [
    {
     "name": "stdout",
     "output_type": "stream",
     "text": [
      "[('OH-', 1.0), ('K+', 1.0)]\n",
      "[('Al(III)', 1.0)]\n",
      "[('Fake', 1.0), ('Fake', 2.0)]\n",
      "[('OH-', 1.0), ('Li+', 1.0)]\n",
      "[('Al(III)', 1.0)]\n",
      "[('Fake', 1.0), ('Fake', 2.0)]\n",
      "[('OH-', 1.0), ('Na+', 1.0)]\n",
      "[('Al(III)', 1.0)]\n",
      "[('Fake', 1.0), ('Fake', 2.0)]\n"
     ]
    },
    {
     "data": {
      "text/html": [
       "<div>\n",
       "<style scoped>\n",
       "    .dataframe tbody tr th:only-of-type {\n",
       "        vertical-align: middle;\n",
       "    }\n",
       "\n",
       "    .dataframe tbody tr th {\n",
       "        vertical-align: top;\n",
       "    }\n",
       "\n",
       "    .dataframe thead th {\n",
       "        text-align: right;\n",
       "    }\n",
       "</style>\n",
       "<table border=\"1\" class=\"dataframe\">\n",
       "  <thead>\n",
       "    <tr style=\"text-align: right;\">\n",
       "      <th></th>\n",
       "      <th>(Measurement, ppm, ('Al(III)', 1.0))</th>\n",
       "      <th>(Measurement, ppm, ('Fake', 1.0)__('Fake', 2.0))</th>\n",
       "      <th>(Measurement, ppm, ('OH-', 1.0)__('K+', 1.0))</th>\n",
       "      <th>(Measurement, ppm, ('OH-', 1.0)__('Li+', 1.0))</th>\n",
       "      <th>(Measurement, ppm, ('OH-', 1.0)__('Na+', 1.0))</th>\n",
       "    </tr>\n",
       "  </thead>\n",
       "  <tbody>\n",
       "    <tr>\n",
       "      <th>0</th>\n",
       "      <td>[79.9, 79.84, 79.72, 79.66, 79.66]</td>\n",
       "      <td>[79.9, 79.84, 79.72, 79.66, 79.66]</td>\n",
       "      <td>[79.9, 79.84, 79.72, 79.66, 79.66]</td>\n",
       "      <td>NaN</td>\n",
       "      <td>NaN</td>\n",
       "    </tr>\n",
       "    <tr>\n",
       "      <th>1</th>\n",
       "      <td>[79.92, 79.84, 79.66, 79.54, 79.36, 79.13, 78....</td>\n",
       "      <td>[79.92, 79.84, 79.66, 79.54, 79.36, 79.13, 78....</td>\n",
       "      <td>NaN</td>\n",
       "      <td>[79.92, 79.84, 79.66, 79.54, 79.36, 79.13, 78....</td>\n",
       "      <td>NaN</td>\n",
       "    </tr>\n",
       "    <tr>\n",
       "      <th>2</th>\n",
       "      <td>[79.54, 79.98, 79.13, 78.45, 77.67, 76.47, 74....</td>\n",
       "      <td>[79.54, 79.98, 79.13, 78.45, 77.67, 76.47, 74....</td>\n",
       "      <td>NaN</td>\n",
       "      <td>NaN</td>\n",
       "      <td>[79.54, 79.98, 79.13, 78.45, 77.67, 76.47, 74....</td>\n",
       "    </tr>\n",
       "  </tbody>\n",
       "</table>\n",
       "</div>"
      ],
      "text/plain": [
       "                (Measurement, ppm, ('Al(III)', 1.0))  \\\n",
       "0                 [79.9, 79.84, 79.72, 79.66, 79.66]   \n",
       "1  [79.92, 79.84, 79.66, 79.54, 79.36, 79.13, 78....   \n",
       "2  [79.54, 79.98, 79.13, 78.45, 77.67, 76.47, 74....   \n",
       "\n",
       "    (Measurement, ppm, ('Fake', 1.0)__('Fake', 2.0))  \\\n",
       "0                 [79.9, 79.84, 79.72, 79.66, 79.66]   \n",
       "1  [79.92, 79.84, 79.66, 79.54, 79.36, 79.13, 78....   \n",
       "2  [79.54, 79.98, 79.13, 78.45, 77.67, 76.47, 74....   \n",
       "\n",
       "  (Measurement, ppm, ('OH-', 1.0)__('K+', 1.0))  \\\n",
       "0            [79.9, 79.84, 79.72, 79.66, 79.66]   \n",
       "1                                           NaN   \n",
       "2                                           NaN   \n",
       "\n",
       "      (Measurement, ppm, ('OH-', 1.0)__('Li+', 1.0))  \\\n",
       "0                                                NaN   \n",
       "1  [79.92, 79.84, 79.66, 79.54, 79.36, 79.13, 78....   \n",
       "2                                                NaN   \n",
       "\n",
       "      (Measurement, ppm, ('OH-', 1.0)__('Na+', 1.0))  \n",
       "0                                                NaN  \n",
       "1                                                NaN  \n",
       "2  [79.54, 79.98, 79.13, 78.45, 77.67, 76.47, 74....  "
      ]
     },
     "metadata": {},
     "output_type": "display_data"
    },
    {
     "data": {
      "text/plain": [
       "('Measurement', 'ppm', \"('Al(III)', 1.0)\")"
      ]
     },
     "metadata": {},
     "output_type": "display_data"
    },
    {
     "ename": "ValueError",
     "evalue": "all the input arrays must have same number of dimensions",
     "output_type": "error",
     "traceback": [
      "\u001b[0;31m---------------------------------------------------------------------------\u001b[0m",
      "\u001b[0;31mValueError\u001b[0m                                Traceback (most recent call last)",
      "\u001b[0;32m<ipython-input-22-e1d142eea492>\u001b[0m in \u001b[0;36m<module>\u001b[0;34m()\u001b[0m\n\u001b[0;32m----> 1\u001b[0;31m \u001b[0mnode_cds\u001b[0m \u001b[0;34m=\u001b[0m \u001b[0mto_cds\u001b[0m\u001b[0;34m(\u001b[0m\u001b[0;34m)\u001b[0m\u001b[0;34m\u001b[0m\u001b[0m\n\u001b[0m\u001b[1;32m      2\u001b[0m \u001b[0mnode_cds\u001b[0m\u001b[0;34m\u001b[0m\u001b[0m\n",
      "\u001b[0;32m<ipython-input-21-547cd5c2dbd0>\u001b[0m in \u001b[0;36mto_cds\u001b[0;34m(query, drupal_node)\u001b[0m\n\u001b[1;32m     16\u001b[0m         \u001b[0mkey\u001b[0m \u001b[0;34m=\u001b[0m \u001b[0;34m'val_dim__'\u001b[0m \u001b[0;34m+\u001b[0m  \u001b[0;34m'__'\u001b[0m\u001b[0;34m.\u001b[0m\u001b[0mjoin\u001b[0m\u001b[0;34m(\u001b[0m\u001b[0;34m[\u001b[0m\u001b[0mstr\u001b[0m\u001b[0;34m(\u001b[0m\u001b[0mx\u001b[0m\u001b[0;34m)\u001b[0m \u001b[0;32mfor\u001b[0m \u001b[0mx\u001b[0m \u001b[0;32min\u001b[0m \u001b[0msamp\u001b[0m\u001b[0;34m]\u001b[0m\u001b[0;34m)\u001b[0m\u001b[0;34m\u001b[0m\u001b[0m\n\u001b[1;32m     17\u001b[0m         \u001b[0;32mfor\u001b[0m \u001b[0mcol\u001b[0m \u001b[0;32min\u001b[0m \u001b[0mtdf\u001b[0m\u001b[0;34m:\u001b[0m\u001b[0;34m\u001b[0m\u001b[0m\n\u001b[0;32m---> 18\u001b[0;31m             \u001b[0mcds\u001b[0m\u001b[0;34m[\u001b[0m\u001b[0mkey\u001b[0m\u001b[0;34m]\u001b[0m \u001b[0;34m=\u001b[0m \u001b[0mnp\u001b[0m\u001b[0;34m.\u001b[0m\u001b[0mconcatenate\u001b[0m\u001b[0;34m(\u001b[0m\u001b[0;34m[\u001b[0m\u001b[0mv\u001b[0m \u001b[0;32mfor\u001b[0m \u001b[0mv\u001b[0m \u001b[0;32min\u001b[0m \u001b[0mtdf\u001b[0m\u001b[0;34m[\u001b[0m\u001b[0mcol\u001b[0m\u001b[0;34m]\u001b[0m\u001b[0;34m.\u001b[0m\u001b[0mvalues\u001b[0m \u001b[0;32mif\u001b[0m \u001b[0mv\u001b[0m\u001b[0;34m]\u001b[0m\u001b[0;34m)\u001b[0m\u001b[0;34m\u001b[0m\u001b[0m\n\u001b[0m\u001b[1;32m     19\u001b[0m \u001b[0;34m\u001b[0m\u001b[0m\n\u001b[1;32m     20\u001b[0m     \u001b[0mtdf\u001b[0m \u001b[0;34m=\u001b[0m \u001b[0mdf\u001b[0m\u001b[0;34m.\u001b[0m\u001b[0mreindex\u001b[0m\u001b[0;34m(\u001b[0m\u001b[0mkey_cols\u001b[0m\u001b[0;34m,\u001b[0m \u001b[0maxis\u001b[0m\u001b[0;34m=\u001b[0m\u001b[0;36m1\u001b[0m\u001b[0;34m)\u001b[0m\u001b[0;34m\u001b[0m\u001b[0m\n",
      "\u001b[0;31mValueError\u001b[0m: all the input arrays must have same number of dimensions"
     ]
    }
   ],
   "source": [
    "node_cds = to_cds()\n",
    "node_cds"
   ]
  },
  {
   "cell_type": "code",
   "execution_count": 258,
   "metadata": {},
   "outputs": [
    {
     "data": {
      "text/plain": [
       "[\"val_dim__Measurement__ppm__('Al(III)', 1.0)\",\n",
       " \"val_dim__Measurement__ppm__('Fake', 1.0)\",\n",
       " \"key_dim__Material Property__Percent__('Al(III)', 1.0)\",\n",
       " \"key_dim__Material Property__Quality__('Fake', 1.0)\",\n",
       " \"key_dim__Material Property__g/cm^3__('Fake', 1.0)\",\n",
       " \"key_dim__Measurement Condition__Molar__('Al(III)', 1.0)\",\n",
       " \"key_dim__Measurement Condition__Molar__('Fake', 1.0)\"]"
      ]
     },
     "execution_count": 258,
     "metadata": {},
     "output_type": "execute_result"
    }
   ],
   "source": [
    "keys = [k for k in node_cds.keys()]\n",
    "keys"
   ]
  },
  {
   "cell_type": "code",
   "execution_count": null,
   "metadata": {},
   "outputs": [],
   "source": []
  },
  {
   "cell_type": "code",
   "execution_count": 262,
   "metadata": {},
   "outputs": [
    {
     "data": {
      "text/html": [
       "\n",
       "\n",
       "\n",
       "\n",
       "\n",
       "\n",
       "  <div class=\"bk-root\" id=\"694c712d-f066-4629-b1f1-5dc729b1575f\"></div>\n"
      ]
     },
     "metadata": {},
     "output_type": "display_data"
    },
    {
     "data": {
      "application/javascript": [
       "(function(root) {\n",
       "  function embed_document(root) {\n",
       "    \n",
       "  var docs_json = {\"767c1484-f3bf-46fd-a475-b37792656b7f\":{\"roots\":{\"references\":[{\"attributes\":{},\"id\":\"488fd8d8-bd1a-4a41-8e44-475b4b7f6dfe\",\"type\":\"BasicTicker\"},{\"attributes\":{},\"id\":\"d1a1c013-0d64-45e4-86b8-495afa6abdc9\",\"type\":\"BasicTicker\"},{\"attributes\":{\"callback\":null},\"id\":\"5dd7efa8-8a6b-4c86-a8f1-a08ebe9d7397\",\"type\":\"DataRange1d\"},{\"attributes\":{\"fill_alpha\":{\"value\":0.1},\"fill_color\":{\"value\":\"#1f77b4\"},\"line_alpha\":{\"value\":0.1},\"line_color\":{\"value\":\"#1f77b4\"},\"x\":{\"field\":\"key_dim__Measurement Condition__Molar__('Al(III)', 1.0)\"},\"y\":{\"field\":\"val_dim__Measurement__ppm__('Al(III)', 1.0)\"}},\"id\":\"eb3c21b7-dee9-4886-8bc5-1e5a390c543c\",\"type\":\"Circle\"},{\"attributes\":{\"data_source\":{\"id\":\"9c720300-c77c-42fa-8469-0b54e45ff358\",\"type\":\"ColumnDataSource\"},\"glyph\":{\"id\":\"dd8a78f1-df48-4252-8194-f8f9efad3de7\",\"type\":\"Circle\"},\"hover_glyph\":null,\"muted_glyph\":null,\"nonselection_glyph\":{\"id\":\"eb3c21b7-dee9-4886-8bc5-1e5a390c543c\",\"type\":\"Circle\"},\"selection_glyph\":null,\"view\":{\"id\":\"03394998-c9bf-4c24-8fde-64f0fa244e1d\",\"type\":\"CDSView\"}},\"id\":\"083e0cb3-610f-499b-9655-975e6c28b653\",\"type\":\"GlyphRenderer\"},{\"attributes\":{},\"id\":\"55ad8eb9-d1b7-494e-841b-23728a13d827\",\"type\":\"UnionRenderers\"},{\"attributes\":{},\"id\":\"6370d840-5c80-4653-9368-3e9b1e465c01\",\"type\":\"SaveTool\"},{\"attributes\":{\"callback\":null,\"data\":{\"key_dim__Material Property__Percent__('Al(III)', 1.0)\":{\"__ndarray__\":\"+n5qvHSTeD/6fmq8dJN4P/p+arx0k3g/+n5qvHSTeD/6fmq8dJN4P/p+arx0k3g/+n5qvHSTeD/6fmq8dJN4P/p+arx0k3g/+n5qvHSTeD/6fmq8dJN4P/p+arx0k3g/+n5qvHSTeD/6fmq8dJN4P/p+arx0k3g/+n5qvHSTeD/6fmq8dJN4P/p+arx0k3g/+n5qvHSTeD/6fmq8dJN4P/p+arx0k3g/+n5qvHSTeD8=\",\"dtype\":\"float64\",\"shape\":[22]},\"key_dim__Material Property__Quality__('Fake', 1.0)\":{\"__ndarray__\":\"+n5qvHSTeD/6fmq8dJN4P/p+arx0k3g/+n5qvHSTeD/6fmq8dJN4P/p+arx0k3g/+n5qvHSTeD/6fmq8dJN4P/p+arx0k3g/+n5qvHSTeD/6fmq8dJN4P/p+arx0k3g/+n5qvHSTeD/6fmq8dJN4P/p+arx0k3g/+n5qvHSTeD/6fmq8dJN4P/p+arx0k3g/+n5qvHSTeD/6fmq8dJN4P/p+arx0k3g/+n5qvHSTeD8=\",\"dtype\":\"float64\",\"shape\":[22]},\"key_dim__Material Property__g/cm^3__('Fake', 1.0)\":{\"__ndarray__\":\"+n5qvHSTeD/6fmq8dJN4P/p+arx0k3g/+n5qvHSTeD/6fmq8dJN4P/p+arx0k3g/+n5qvHSTeD/6fmq8dJN4P/p+arx0k3g/+n5qvHSTeD/6fmq8dJN4P/p+arx0k3g/+n5qvHSTeD/6fmq8dJN4P/p+arx0k3g/+n5qvHSTeD/6fmq8dJN4P/p+arx0k3g/+n5qvHSTeD/6fmq8dJN4P/p+arx0k3g/+n5qvHSTeD8=\",\"dtype\":\"float64\",\"shape\":[22]},\"key_dim__Measurement Condition__Molar__('Al(III)', 1.0)\":{\"__ndarray__\":\"+n5qvHSTeD/6fmq8dJN4P/p+arx0k3g/+n5qvHSTeD/6fmq8dJN4P/p+arx0k3g/+n5qvHSTeD/6fmq8dJN4P/p+arx0k3g/+n5qvHSTeD/6fmq8dJN4P/p+arx0k3g/+n5qvHSTeD/6fmq8dJN4P/p+arx0k3g/+n5qvHSTeD/6fmq8dJN4P/p+arx0k3g/+n5qvHSTeD/6fmq8dJN4P/p+arx0k3g/+n5qvHSTeD8=\",\"dtype\":\"float64\",\"shape\":[22]},\"key_dim__Measurement Condition__Molar__('Fake', 1.0)\":{\"__ndarray__\":\"+n5qvHSTeD/6fmq8dJN4P/p+arx0k3g/+n5qvHSTeD/6fmq8dJN4P/p+arx0k3g/+n5qvHSTeD/6fmq8dJN4P/p+arx0k3g/+n5qvHSTeD/6fmq8dJN4P/p+arx0k3g/+n5qvHSTeD/6fmq8dJN4P/p+arx0k3g/+n5qvHSTeD/6fmq8dJN4P/p+arx0k3g/+n5qvHSTeD/6fmq8dJN4P/p+arx0k3g/+n5qvHSTeD8=\",\"dtype\":\"float64\",\"shape\":[22]},\"val_dim__Measurement__ppm__('Al(III)', 1.0)\":{\"__ndarray__\":\"mpmZmZn5U0D2KFyPwvVTQK5H4XoU7lNACtejcD3qU0AK16NwPepTQHsUrkfh+lNA9ihcj8L1U0AK16NwPepTQMP1KFyP4lNA16NwPQrXU0C4HoXrUchTQIXrUbgetVNArkfhehSeU0DD9Shcj+JTQB+F61G4/lNAuB6F61HIU0DNzMzMzJxTQHsUrkfhalNArkfhehQeU0BSuB6F66FSQClcj8L1SFJAFK5H4XrUUUA=\",\"dtype\":\"float64\",\"shape\":[22]},\"val_dim__Measurement__ppm__('Fake', 1.0)\":{\"__ndarray__\":\"mpmZmZn5U0D2KFyPwvVTQK5H4XoU7lNACtejcD3qU0AK16NwPepTQHsUrkfh+lNA9ihcj8L1U0AK16NwPepTQMP1KFyP4lNA16NwPQrXU0C4HoXrUchTQIXrUbgetVNArkfhehSeU0DD9Shcj+JTQB+F61G4/lNAuB6F61HIU0DNzMzMzJxTQHsUrkfhalNArkfhehQeU0BSuB6F66FSQClcj8L1SFJAFK5H4XrUUUA=\",\"dtype\":\"float64\",\"shape\":[22]}},\"selected\":{\"id\":\"eff0d621-b010-46cd-8400-26657a23ad5a\",\"type\":\"Selection\"},\"selection_policy\":{\"id\":\"55ad8eb9-d1b7-494e-841b-23728a13d827\",\"type\":\"UnionRenderers\"}},\"id\":\"9c720300-c77c-42fa-8469-0b54e45ff358\",\"type\":\"ColumnDataSource\"},{\"attributes\":{\"dimension\":1,\"plot\":{\"id\":\"0fcc8cb2-b596-4933-b500-bc81a4a4aafa\",\"subtype\":\"Figure\",\"type\":\"Plot\"},\"ticker\":{\"id\":\"488fd8d8-bd1a-4a41-8e44-475b4b7f6dfe\",\"type\":\"BasicTicker\"}},\"id\":\"e91ab67d-a437-422f-ab4b-9264e52c1d7e\",\"type\":\"Grid\"},{\"attributes\":{},\"id\":\"46f26e07-3092-4513-846e-d38d0e875bf7\",\"type\":\"PanTool\"},{\"attributes\":{\"callback\":null},\"id\":\"3a2cef93-83a2-41d6-9ce9-08009fa19a9f\",\"type\":\"DataRange1d\"},{\"attributes\":{\"formatter\":{\"id\":\"461abd7f-eb7c-4bb8-9da0-55324e5a0775\",\"type\":\"BasicTickFormatter\"},\"plot\":{\"id\":\"0fcc8cb2-b596-4933-b500-bc81a4a4aafa\",\"subtype\":\"Figure\",\"type\":\"Plot\"},\"ticker\":{\"id\":\"488fd8d8-bd1a-4a41-8e44-475b4b7f6dfe\",\"type\":\"BasicTicker\"}},\"id\":\"4bc92feb-3e28-43b1-8b3e-1c85a9e805f4\",\"type\":\"LinearAxis\"},{\"attributes\":{},\"id\":\"b2505a45-622b-4a6b-9fb8-a2c2aa40a9e6\",\"type\":\"BasicTickFormatter\"},{\"attributes\":{\"plot\":{\"id\":\"0fcc8cb2-b596-4933-b500-bc81a4a4aafa\",\"subtype\":\"Figure\",\"type\":\"Plot\"},\"ticker\":{\"id\":\"d1a1c013-0d64-45e4-86b8-495afa6abdc9\",\"type\":\"BasicTicker\"}},\"id\":\"bdb7023f-e069-4a20-a7f9-dce6e24f0747\",\"type\":\"Grid\"},{\"attributes\":{},\"id\":\"f52cf152-b211-4801-a28d-89c6bb5bb92e\",\"type\":\"LinearScale\"},{\"attributes\":{\"formatter\":{\"id\":\"b2505a45-622b-4a6b-9fb8-a2c2aa40a9e6\",\"type\":\"BasicTickFormatter\"},\"plot\":{\"id\":\"0fcc8cb2-b596-4933-b500-bc81a4a4aafa\",\"subtype\":\"Figure\",\"type\":\"Plot\"},\"ticker\":{\"id\":\"d1a1c013-0d64-45e4-86b8-495afa6abdc9\",\"type\":\"BasicTicker\"}},\"id\":\"df7ca982-3896-4879-a1d6-8f2ccd8de259\",\"type\":\"LinearAxis\"},{\"attributes\":{},\"id\":\"279df9a4-1d16-44ca-896d-98da3fe3c7c4\",\"type\":\"WheelZoomTool\"},{\"attributes\":{\"fill_color\":{\"value\":\"#1f77b4\"},\"line_color\":{\"value\":\"#1f77b4\"},\"x\":{\"field\":\"key_dim__Measurement Condition__Molar__('Al(III)', 1.0)\"},\"y\":{\"field\":\"val_dim__Measurement__ppm__('Al(III)', 1.0)\"}},\"id\":\"dd8a78f1-df48-4252-8194-f8f9efad3de7\",\"type\":\"Circle\"},{\"attributes\":{\"below\":[{\"id\":\"df7ca982-3896-4879-a1d6-8f2ccd8de259\",\"type\":\"LinearAxis\"}],\"left\":[{\"id\":\"4bc92feb-3e28-43b1-8b3e-1c85a9e805f4\",\"type\":\"LinearAxis\"}],\"renderers\":[{\"id\":\"df7ca982-3896-4879-a1d6-8f2ccd8de259\",\"type\":\"LinearAxis\"},{\"id\":\"bdb7023f-e069-4a20-a7f9-dce6e24f0747\",\"type\":\"Grid\"},{\"id\":\"4bc92feb-3e28-43b1-8b3e-1c85a9e805f4\",\"type\":\"LinearAxis\"},{\"id\":\"e91ab67d-a437-422f-ab4b-9264e52c1d7e\",\"type\":\"Grid\"},{\"id\":\"6b9dc195-2483-4def-abaf-15905fbd8a96\",\"type\":\"BoxAnnotation\"},{\"id\":\"083e0cb3-610f-499b-9655-975e6c28b653\",\"type\":\"GlyphRenderer\"}],\"title\":{\"id\":\"01aa55ed-0570-494c-a84c-e3b1fc877429\",\"type\":\"Title\"},\"toolbar\":{\"id\":\"7ec73479-05e1-4fc0-8e67-da8ec851fe09\",\"type\":\"Toolbar\"},\"x_range\":{\"id\":\"3a2cef93-83a2-41d6-9ce9-08009fa19a9f\",\"type\":\"DataRange1d\"},\"x_scale\":{\"id\":\"f52cf152-b211-4801-a28d-89c6bb5bb92e\",\"type\":\"LinearScale\"},\"y_range\":{\"id\":\"5dd7efa8-8a6b-4c86-a8f1-a08ebe9d7397\",\"type\":\"DataRange1d\"},\"y_scale\":{\"id\":\"2d13a085-345a-45e7-a682-30557f5d353c\",\"type\":\"LinearScale\"}},\"id\":\"0fcc8cb2-b596-4933-b500-bc81a4a4aafa\",\"subtype\":\"Figure\",\"type\":\"Plot\"},{\"attributes\":{},\"id\":\"eff0d621-b010-46cd-8400-26657a23ad5a\",\"type\":\"Selection\"},{\"attributes\":{},\"id\":\"b3f7a830-4139-4db8-823b-8fbbbd6e354c\",\"type\":\"ResetTool\"},{\"attributes\":{},\"id\":\"2d13a085-345a-45e7-a682-30557f5d353c\",\"type\":\"LinearScale\"},{\"attributes\":{\"overlay\":{\"id\":\"6b9dc195-2483-4def-abaf-15905fbd8a96\",\"type\":\"BoxAnnotation\"}},\"id\":\"fada8ad0-8e67-4449-aead-31ebb96442ea\",\"type\":\"BoxZoomTool\"},{\"attributes\":{\"active_drag\":\"auto\",\"active_inspect\":\"auto\",\"active_multi\":null,\"active_scroll\":\"auto\",\"active_tap\":\"auto\",\"tools\":[{\"id\":\"46f26e07-3092-4513-846e-d38d0e875bf7\",\"type\":\"PanTool\"},{\"id\":\"279df9a4-1d16-44ca-896d-98da3fe3c7c4\",\"type\":\"WheelZoomTool\"},{\"id\":\"fada8ad0-8e67-4449-aead-31ebb96442ea\",\"type\":\"BoxZoomTool\"},{\"id\":\"6370d840-5c80-4653-9368-3e9b1e465c01\",\"type\":\"SaveTool\"},{\"id\":\"b3f7a830-4139-4db8-823b-8fbbbd6e354c\",\"type\":\"ResetTool\"},{\"id\":\"9a821737-32c7-4e1b-b55f-26902addb905\",\"type\":\"HelpTool\"}]},\"id\":\"7ec73479-05e1-4fc0-8e67-da8ec851fe09\",\"type\":\"Toolbar\"},{\"attributes\":{},\"id\":\"9a821737-32c7-4e1b-b55f-26902addb905\",\"type\":\"HelpTool\"},{\"attributes\":{\"plot\":null,\"text\":\"\"},\"id\":\"01aa55ed-0570-494c-a84c-e3b1fc877429\",\"type\":\"Title\"},{\"attributes\":{\"source\":{\"id\":\"9c720300-c77c-42fa-8469-0b54e45ff358\",\"type\":\"ColumnDataSource\"}},\"id\":\"03394998-c9bf-4c24-8fde-64f0fa244e1d\",\"type\":\"CDSView\"},{\"attributes\":{\"bottom_units\":\"screen\",\"fill_alpha\":{\"value\":0.5},\"fill_color\":{\"value\":\"lightgrey\"},\"left_units\":\"screen\",\"level\":\"overlay\",\"line_alpha\":{\"value\":1.0},\"line_color\":{\"value\":\"black\"},\"line_dash\":[4,4],\"line_width\":{\"value\":2},\"plot\":null,\"render_mode\":\"css\",\"right_units\":\"screen\",\"top_units\":\"screen\"},\"id\":\"6b9dc195-2483-4def-abaf-15905fbd8a96\",\"type\":\"BoxAnnotation\"},{\"attributes\":{},\"id\":\"461abd7f-eb7c-4bb8-9da0-55324e5a0775\",\"type\":\"BasicTickFormatter\"}],\"root_ids\":[\"0fcc8cb2-b596-4933-b500-bc81a4a4aafa\"]},\"title\":\"Bokeh Application\",\"version\":\"0.13.0\"}};\n",
       "  var render_items = [{\"docid\":\"767c1484-f3bf-46fd-a475-b37792656b7f\",\"roots\":{\"0fcc8cb2-b596-4933-b500-bc81a4a4aafa\":\"694c712d-f066-4629-b1f1-5dc729b1575f\"}}];\n",
       "  root.Bokeh.embed.embed_items_notebook(docs_json, render_items);\n",
       "\n",
       "  }\n",
       "  if (root.Bokeh !== undefined) {\n",
       "    embed_document(root);\n",
       "  } else {\n",
       "    var attempts = 0;\n",
       "    var timer = setInterval(function(root) {\n",
       "      if (root.Bokeh !== undefined) {\n",
       "        embed_document(root);\n",
       "        clearInterval(timer);\n",
       "      }\n",
       "      attempts++;\n",
       "      if (attempts > 100) {\n",
       "        console.log(\"Bokeh: ERROR: Unable to run BokehJS code because BokehJS library is missing\")\n",
       "        clearInterval(timer);\n",
       "      }\n",
       "    }, 10, root)\n",
       "  }\n",
       "})(window);"
      ],
      "application/vnd.bokehjs_exec.v0+json": ""
     },
     "metadata": {
      "application/vnd.bokehjs_exec.v0+json": {
       "id": "0fcc8cb2-b596-4933-b500-bc81a4a4aafa"
      }
     },
     "output_type": "display_data"
    }
   ],
   "source": [
    "fig = bk.plotting.figure()\n",
    "fig.circle(\n",
    "    y=\"val_dim__Measurement__ppm__('Al(III)', 1.0)\",\n",
    "    x=\"key_dim__Measurement Condition__Molar__('Al(III)', 1.0)\",\n",
    "    source=bk.models.ColumnDataSource(to_cds())\n",
    ")\n",
    "bk.plotting.show(fig)"
   ]
  },
  {
   "cell_type": "code",
   "execution_count": null,
   "metadata": {},
   "outputs": [],
   "source": []
  },
  {
   "cell_type": "code",
   "execution_count": 52,
   "metadata": {},
   "outputs": [
    {
     "ename": "TypeError",
     "evalue": "type object got multiple values for keyword argument '-9223363289947229531.8746907551759'",
     "output_type": "error",
     "traceback": [
      "\u001b[0;31m---------------------------------------------------------------------------\u001b[0m",
      "\u001b[0;31mTypeError\u001b[0m                                 Traceback (most recent call last)",
      "\u001b[0;32m<ipython-input-52-b1fc38ad1234>\u001b[0m in \u001b[0;36m<module>\u001b[0;34m()\u001b[0m\n\u001b[1;32m      1\u001b[0m \u001b[0mnode_dict\u001b[0m \u001b[0;34m=\u001b[0m \u001b[0mdict\u001b[0m\u001b[0;34m(\u001b[0m\u001b[0;34m)\u001b[0m\u001b[0;34m\u001b[0m\u001b[0m\n\u001b[1;32m      2\u001b[0m \u001b[0;32mfor\u001b[0m \u001b[0massay\u001b[0m \u001b[0;32min\u001b[0m \u001b[0mnode\u001b[0m\u001b[0;34m.\u001b[0m\u001b[0massays\u001b[0m\u001b[0;34m:\u001b[0m\u001b[0;34m\u001b[0m\u001b[0m\n\u001b[0;32m----> 3\u001b[0;31m     \u001b[0mnode_dict\u001b[0m \u001b[0;34m=\u001b[0m \u001b[0mdict\u001b[0m\u001b[0;34m(\u001b[0m\u001b[0;34m**\u001b[0m\u001b[0mnode_dict\u001b[0m\u001b[0;34m,\u001b[0m \u001b[0;34m**\u001b[0m\u001b[0massay\u001b[0m\u001b[0;34m.\u001b[0m\u001b[0mas_dict\u001b[0m\u001b[0;34m)\u001b[0m\u001b[0;34m\u001b[0m\u001b[0m\n\u001b[0m\u001b[1;32m      4\u001b[0m \u001b[0;34m\u001b[0m\u001b[0m\n\u001b[1;32m      5\u001b[0m \u001b[0mnode_dict\u001b[0m\u001b[0;34m\u001b[0m\u001b[0m\n",
      "\u001b[0;31mTypeError\u001b[0m: type object got multiple values for keyword argument '-9223363289947229531.8746907551759'"
     ]
    }
   ],
   "source": [
    "node_dict = dict()\n",
    "for assay in node.assays:\n",
    "    node_dict = dict(**node_dict, **assay.as_dict)\n",
    "\n",
    "node_dict"
   ]
  },
  {
   "cell_type": "code",
   "execution_count": 9,
   "metadata": {},
   "outputs": [
    {
     "data": {
      "text/html": [
       "<div>\n",
       "<style scoped>\n",
       "    .dataframe tbody tr th:only-of-type {\n",
       "        vertical-align: middle;\n",
       "    }\n",
       "\n",
       "    .dataframe tbody tr th {\n",
       "        vertical-align: top;\n",
       "    }\n",
       "\n",
       "    .dataframe thead th {\n",
       "        text-align: right;\n",
       "    }\n",
       "</style>\n",
       "<table border=\"1\" class=\"dataframe\">\n",
       "  <thead>\n",
       "    <tr style=\"text-align: right;\">\n",
       "      <th></th>\n",
       "      <th>0</th>\n",
       "      <th>1</th>\n",
       "      <th>2</th>\n",
       "      <th>3</th>\n",
       "      <th>4</th>\n",
       "    </tr>\n",
       "  </thead>\n",
       "  <tbody>\n",
       "    <tr>\n",
       "      <th>((Al(III), 1.0),)</th>\n",
       "      <td>0.005</td>\n",
       "      <td>0.005</td>\n",
       "      <td>0.005</td>\n",
       "      <td>0.005</td>\n",
       "      <td>0.005</td>\n",
       "    </tr>\n",
       "    <tr>\n",
       "      <th>((Fake, 2.0), (Fake, 1.0))</th>\n",
       "      <td>0.006</td>\n",
       "      <td>0.006</td>\n",
       "      <td>0.006</td>\n",
       "      <td>0.006</td>\n",
       "      <td>0.006</td>\n",
       "    </tr>\n",
       "    <tr>\n",
       "      <th>((K+, 1.0), (OH-, 1.0))</th>\n",
       "      <td>2.93</td>\n",
       "      <td>4.92</td>\n",
       "      <td>6.85</td>\n",
       "      <td>9.13</td>\n",
       "      <td>10.71</td>\n",
       "    </tr>\n",
       "  </tbody>\n",
       "</table>\n",
       "</div>"
      ],
      "text/plain": [
       "                                0      1      2      3      4\n",
       "((Al(III), 1.0),)           0.005  0.005  0.005  0.005  0.005\n",
       "((Fake, 2.0), (Fake, 1.0))  0.006  0.006  0.006  0.006  0.006\n",
       "((K+, 1.0), (OH-, 1.0))      2.93   4.92   6.85   9.13  10.71"
      ]
     },
     "execution_count": 9,
     "metadata": {},
     "output_type": "execute_result"
    }
   ],
   "source": [
    "molar_df = df.xs(('Measurement_Condition', 'Molar'))\n",
    "molar_df"
   ]
  },
  {
   "cell_type": "code",
   "execution_count": 10,
   "metadata": {},
   "outputs": [
    {
     "data": {
      "text/html": [
       "<div>\n",
       "<style scoped>\n",
       "    .dataframe tbody tr th:only-of-type {\n",
       "        vertical-align: middle;\n",
       "    }\n",
       "\n",
       "    .dataframe tbody tr th {\n",
       "        vertical-align: top;\n",
       "    }\n",
       "\n",
       "    .dataframe thead th {\n",
       "        text-align: right;\n",
       "    }\n",
       "</style>\n",
       "<table border=\"1\" class=\"dataframe\">\n",
       "  <thead>\n",
       "    <tr style=\"text-align: right;\">\n",
       "      <th></th>\n",
       "      <th>0</th>\n",
       "      <th>1</th>\n",
       "      <th>2</th>\n",
       "      <th>3</th>\n",
       "      <th>4</th>\n",
       "    </tr>\n",
       "  </thead>\n",
       "  <tbody>\n",
       "    <tr>\n",
       "      <th>((Al(III), 1.0),)</th>\n",
       "      <td>79.9</td>\n",
       "      <td>79.84</td>\n",
       "      <td>79.72</td>\n",
       "      <td>79.66</td>\n",
       "      <td>79.66</td>\n",
       "    </tr>\n",
       "    <tr>\n",
       "      <th>((Fake, 2.0), (Fake, 1.0))</th>\n",
       "      <td>79.9</td>\n",
       "      <td>79.84</td>\n",
       "      <td>79.72</td>\n",
       "      <td>79.66</td>\n",
       "      <td>79.66</td>\n",
       "    </tr>\n",
       "    <tr>\n",
       "      <th>((K+, 1.0), (OH-, 1.0))</th>\n",
       "      <td>79.9</td>\n",
       "      <td>79.84</td>\n",
       "      <td>79.72</td>\n",
       "      <td>79.66</td>\n",
       "      <td>79.66</td>\n",
       "    </tr>\n",
       "  </tbody>\n",
       "</table>\n",
       "</div>"
      ],
      "text/plain": [
       "                               0      1      2      3      4\n",
       "((Al(III), 1.0),)           79.9  79.84  79.72  79.66  79.66\n",
       "((Fake, 2.0), (Fake, 1.0))  79.9  79.84  79.72  79.66  79.66\n",
       "((K+, 1.0), (OH-, 1.0))     79.9  79.84  79.72  79.66  79.66"
      ]
     },
     "execution_count": 10,
     "metadata": {},
     "output_type": "execute_result"
    }
   ],
   "source": [
    "ppm_df = df.xs(('Measurement', 'ppm'))\n",
    "ppm_df"
   ]
  },
  {
   "cell_type": "markdown",
   "metadata": {},
   "source": [
    "**Goal**\n",
    "\n",
    "Get friendlier formats for `ColumnDataSource`."
   ]
  },
  {
   "cell_type": "code",
   "execution_count": 11,
   "metadata": {},
   "outputs": [],
   "source": [
    "def build_array(factor, assay):\n",
    "    \n",
    "    assay_df = pd.DataFrame.from_records(assay.column_data_source)\n",
    "    assay_df.columns = pd.MultiIndex.from_tuples(assay_df.columns)\n",
    "    assay_df = assay_df.T\n",
    "    \n",
    "    factor_df = assay_df.xs(factor)\n",
    "    factor_df = factor_df.T.melt(var_name='species', value_name=str(factor))\n",
    "    factor_df = factor_df.set_index('species')\n",
    "    \n",
    "    return factor_df"
   ]
  },
  {
   "cell_type": "code",
   "execution_count": 12,
   "metadata": {},
   "outputs": [],
   "source": [
    "# for assay in node.assays:\n",
    "#     display(build_array(('Measurement', 'ppm'), assay))"
   ]
  },
  {
   "cell_type": "code",
   "execution_count": 13,
   "metadata": {},
   "outputs": [],
   "source": [
    "# for assay in node.assays:\n",
    "#     display(build_array(('Measurement_Condition', 'Molar'), assay))"
   ]
  },
  {
   "cell_type": "markdown",
   "metadata": {},
   "source": [
    "### Grouby\n",
    "\n",
    "TODO..."
   ]
  },
  {
   "cell_type": "code",
   "execution_count": 14,
   "metadata": {},
   "outputs": [],
   "source": [
    "# Groupby examples"
   ]
  },
  {
   "cell_type": "markdown",
   "metadata": {},
   "source": [
    "---"
   ]
  },
  {
   "cell_type": "markdown",
   "metadata": {},
   "source": [
    "# Bokeh Model\n",
    "\n",
    "https://bokeh.pydata.org/en/latest/docs/reference/core/properties.html#container-properties"
   ]
  },
  {
   "cell_type": "code",
   "execution_count": null,
   "metadata": {},
   "outputs": [],
   "source": [
    "layout = []\n",
    "\n",
    "for assay in node.assays:\n",
    "    xs = build_array(('Measurement_Condition', 'Molar'), assay)\n",
    "    \n",
    "    ys = build_array(('Measurement', 'ppm'), assay)\n",
    "    \n",
    "    layout.append(hv.Scatter((xs, ys)))\n",
    "    \n",
    "hv.Layout(layout)"
   ]
  }
 ],
 "metadata": {
  "kernelspec": {
   "display_name": "py36",
   "language": "python",
   "name": "py36"
  },
  "language_info": {
   "codemirror_mode": {
    "name": "ipython",
    "version": 3
   },
   "file_extension": ".py",
   "mimetype": "text/x-python",
   "name": "python",
   "nbconvert_exporter": "python",
   "pygments_lexer": "ipython3",
   "version": "3.6.6"
  }
 },
 "nbformat": 4,
 "nbformat_minor": 2
}
