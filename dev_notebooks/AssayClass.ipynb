{
 "cells": [
  {
   "cell_type": "code",
   "execution_count": 1,
   "metadata": {},
   "outputs": [],
   "source": [
    "%load_ext autoreload\n",
    "%autoreload 2"
   ]
  },
  {
   "cell_type": "code",
   "execution_count": 2,
   "metadata": {},
   "outputs": [],
   "source": [
    "# Path hack to allow imports from the parent directory.\n",
    "import sys\n",
    "import os\n",
    "sys.path.insert(0, os.path.abspath('../../'))"
   ]
  },
  {
   "cell_type": "code",
   "execution_count": 3,
   "metadata": {},
   "outputs": [],
   "source": [
    "import itertools"
   ]
  },
  {
   "cell_type": "code",
   "execution_count": 54,
   "metadata": {},
   "outputs": [],
   "source": [
    "# A demo json file is provided.\n",
    "from isadream.isadream.models.utils import *\n",
    "from isadream.isadream.models import utils\n",
    "from isadream.isadream.models.drupalnode import DrupalNode\n",
    "# Create an instance of the IdreamModel.\n",
    "MODEL = DrupalNode(SIPOS_DEMO)"
   ]
  },
  {
   "cell_type": "code",
   "execution_count": 82,
   "metadata": {},
   "outputs": [
    {
     "data": {
      "text/html": [
       "<div>\n",
       "<style scoped>\n",
       "    .dataframe tbody tr th:only-of-type {\n",
       "        vertical-align: middle;\n",
       "    }\n",
       "\n",
       "    .dataframe tbody tr th {\n",
       "        vertical-align: top;\n",
       "    }\n",
       "\n",
       "    .dataframe thead th {\n",
       "        text-align: right;\n",
       "    }\n",
       "</style>\n",
       "<table border=\"1\" class=\"dataframe\">\n",
       "  <thead>\n",
       "    <tr style=\"text-align: right;\">\n",
       "      <th></th>\n",
       "      <th></th>\n",
       "      <th>sampleName</th>\n",
       "      <th>Aluminate Solution</th>\n",
       "    </tr>\n",
       "  </thead>\n",
       "  <tbody>\n",
       "    <tr>\n",
       "      <th rowspan=\"7\" valign=\"top\">sources</th>\n",
       "      <th rowspan=\"4\" valign=\"top\">materialCharacteristic</th>\n",
       "      <th>RefValue</th>\n",
       "      <td>Purity by Weight</td>\n",
       "    </tr>\n",
       "    <tr>\n",
       "      <th>decimalValue</th>\n",
       "      <td>0.98</td>\n",
       "    </tr>\n",
       "    <tr>\n",
       "      <th>factorType</th>\n",
       "      <td>Material Property</td>\n",
       "    </tr>\n",
       "    <tr>\n",
       "      <th>unitRef</th>\n",
       "      <td>Percent</td>\n",
       "    </tr>\n",
       "    <tr>\n",
       "      <th>sourceName</th>\n",
       "      <th>NaN</th>\n",
       "      <td>Aluminum Wire</td>\n",
       "    </tr>\n",
       "    <tr>\n",
       "      <th rowspan=\"2\" valign=\"top\">species</th>\n",
       "      <th>speciesReference</th>\n",
       "      <td>Al(III)</td>\n",
       "    </tr>\n",
       "    <tr>\n",
       "      <th>stoichiometry</th>\n",
       "      <td>1</td>\n",
       "    </tr>\n",
       "    <tr>\n",
       "      <th rowspan=\"2\" valign=\"top\">species</th>\n",
       "      <th>speciesReference</th>\n",
       "      <th>NaN</th>\n",
       "      <td>Al(III)</td>\n",
       "    </tr>\n",
       "    <tr>\n",
       "      <th>stoichiometry</th>\n",
       "      <th>NaN</th>\n",
       "      <td>1</td>\n",
       "    </tr>\n",
       "    <tr>\n",
       "      <th rowspan=\"3\" valign=\"top\">studySampleFactors</th>\n",
       "      <th>decimalValue</th>\n",
       "      <th>NaN</th>\n",
       "      <td>0.005</td>\n",
       "    </tr>\n",
       "    <tr>\n",
       "      <th>factorType</th>\n",
       "      <th>NaN</th>\n",
       "      <td>Measurement Condition</td>\n",
       "    </tr>\n",
       "    <tr>\n",
       "      <th>unitRef</th>\n",
       "      <th>NaN</th>\n",
       "      <td>Molar</td>\n",
       "    </tr>\n",
       "  </tbody>\n",
       "</table>\n",
       "</div>"
      ],
      "text/plain": [
       "sampleName                                                     Aluminate Solution\n",
       "sources            materialCharacteristic RefValue               Purity by Weight\n",
       "                                          decimalValue                       0.98\n",
       "                                          factorType            Material Property\n",
       "                                          unitRef                         Percent\n",
       "                   sourceName             NaN                       Aluminum Wire\n",
       "                   species                speciesReference                Al(III)\n",
       "                                          stoichiometry                         1\n",
       "species            speciesReference       NaN                             Al(III)\n",
       "                   stoichiometry          NaN                                   1\n",
       "studySampleFactors decimalValue           NaN                               0.005\n",
       "                   factorType             NaN               Measurement Condition\n",
       "                   unitRef                NaN                               Molar"
      ]
     },
     "metadata": {},
     "output_type": "display_data"
    },
    {
     "data": {
      "text/html": [
       "<div>\n",
       "<style scoped>\n",
       "    .dataframe tbody tr th:only-of-type {\n",
       "        vertical-align: middle;\n",
       "    }\n",
       "\n",
       "    .dataframe tbody tr th {\n",
       "        vertical-align: top;\n",
       "    }\n",
       "\n",
       "    .dataframe thead th {\n",
       "        text-align: right;\n",
       "    }\n",
       "</style>\n",
       "<table border=\"1\" class=\"dataframe\">\n",
       "  <thead>\n",
       "    <tr style=\"text-align: right;\">\n",
       "      <th></th>\n",
       "      <th></th>\n",
       "      <th>sampleName</th>\n",
       "      <th>Demo second Solution</th>\n",
       "      <th>Demo second Solution</th>\n",
       "    </tr>\n",
       "  </thead>\n",
       "  <tbody>\n",
       "    <tr>\n",
       "      <th rowspan=\"7\" valign=\"top\">sources</th>\n",
       "      <th rowspan=\"4\" valign=\"top\">materialCharacteristic</th>\n",
       "      <th>RefValue</th>\n",
       "      <td>Density</td>\n",
       "      <td>Poor</td>\n",
       "    </tr>\n",
       "    <tr>\n",
       "      <th>decimalValue</th>\n",
       "      <td>1.05</td>\n",
       "      <td>NaN</td>\n",
       "    </tr>\n",
       "    <tr>\n",
       "      <th>factorType</th>\n",
       "      <td>Material Property</td>\n",
       "      <td>Material Property</td>\n",
       "    </tr>\n",
       "    <tr>\n",
       "      <th>unitRef</th>\n",
       "      <td>g/cm^3</td>\n",
       "      <td>Quality</td>\n",
       "    </tr>\n",
       "    <tr>\n",
       "      <th>sourceName</th>\n",
       "      <th>NaN</th>\n",
       "      <td>Demo second source.</td>\n",
       "      <td>Demo second source.</td>\n",
       "    </tr>\n",
       "    <tr>\n",
       "      <th rowspan=\"2\" valign=\"top\">species</th>\n",
       "      <th>speciesReference</th>\n",
       "      <td>Fake</td>\n",
       "      <td>Fake</td>\n",
       "    </tr>\n",
       "    <tr>\n",
       "      <th>stoichiometry</th>\n",
       "      <td>1</td>\n",
       "      <td>1</td>\n",
       "    </tr>\n",
       "    <tr>\n",
       "      <th rowspan=\"2\" valign=\"top\">species</th>\n",
       "      <th>speciesReference</th>\n",
       "      <th>NaN</th>\n",
       "      <td>Fake</td>\n",
       "      <td>Fake</td>\n",
       "    </tr>\n",
       "    <tr>\n",
       "      <th>stoichiometry</th>\n",
       "      <th>NaN</th>\n",
       "      <td>2</td>\n",
       "      <td>2</td>\n",
       "    </tr>\n",
       "    <tr>\n",
       "      <th rowspan=\"3\" valign=\"top\">studySampleFactors</th>\n",
       "      <th>decimalValue</th>\n",
       "      <th>NaN</th>\n",
       "      <td>0.006</td>\n",
       "      <td>0.006</td>\n",
       "    </tr>\n",
       "    <tr>\n",
       "      <th>factorType</th>\n",
       "      <th>NaN</th>\n",
       "      <td>Measurement Condition</td>\n",
       "      <td>Measurement Condition</td>\n",
       "    </tr>\n",
       "    <tr>\n",
       "      <th>unitRef</th>\n",
       "      <th>NaN</th>\n",
       "      <td>Molar</td>\n",
       "      <td>Molar</td>\n",
       "    </tr>\n",
       "  </tbody>\n",
       "</table>\n",
       "</div>"
      ],
      "text/plain": [
       "sampleName                                                   Demo second Solution  \\\n",
       "sources            materialCharacteristic RefValue                        Density   \n",
       "                                          decimalValue                       1.05   \n",
       "                                          factorType            Material Property   \n",
       "                                          unitRef                          g/cm^3   \n",
       "                   sourceName             NaN                 Demo second source.   \n",
       "                   species                speciesReference                   Fake   \n",
       "                                          stoichiometry                         1   \n",
       "species            speciesReference       NaN                                Fake   \n",
       "                   stoichiometry          NaN                                   2   \n",
       "studySampleFactors decimalValue           NaN                               0.006   \n",
       "                   factorType             NaN               Measurement Condition   \n",
       "                   unitRef                NaN                               Molar   \n",
       "\n",
       "sampleName                                                   Demo second Solution  \n",
       "sources            materialCharacteristic RefValue                           Poor  \n",
       "                                          decimalValue                        NaN  \n",
       "                                          factorType            Material Property  \n",
       "                                          unitRef                         Quality  \n",
       "                   sourceName             NaN                 Demo second source.  \n",
       "                   species                speciesReference                   Fake  \n",
       "                                          stoichiometry                         1  \n",
       "species            speciesReference       NaN                                Fake  \n",
       "                   stoichiometry          NaN                                   2  \n",
       "studySampleFactors decimalValue           NaN                               0.006  \n",
       "                   factorType             NaN               Measurement Condition  \n",
       "                   unitRef                NaN                               Molar  "
      ]
     },
     "metadata": {},
     "output_type": "display_data"
    }
   ],
   "source": [
    "for key, df in MODEL._sample_groups:\n",
    "    display(df.T)"
   ]
  },
  {
   "cell_type": "code",
   "execution_count": 56,
   "metadata": {},
   "outputs": [],
   "source": [
    "# MODEL.json_dict.keys()\n",
    "# MODEL.json_dict"
   ]
  },
  {
   "cell_type": "code",
   "execution_count": 57,
   "metadata": {},
   "outputs": [
    {
     "name": "stdout",
     "output_type": "stream",
     "text": [
      "<isadream.isadream.models.sample.Sample object at 0x7f55b6c99ef0>\n",
      "<isadream.isadream.models.sample.Sample object at 0x7f55b6c999b0>\n"
     ]
    }
   ],
   "source": [
    "MODEL = DrupalNode(SIPOS_DEMO)\n",
    "for s in MODEL.samples:\n",
    "    print(s)"
   ]
  },
  {
   "cell_type": "code",
   "execution_count": 88,
   "metadata": {},
   "outputs": [
    {
     "data": {
      "text/plain": [
       "[<isadream.isadream.models.assay.Assay at 0x7f55b6d171d0>,\n",
       " <isadream.isadream.models.assay.Assay at 0x7f55b6d41588>,\n",
       " <isadream.isadream.models.assay.Assay at 0x7f55b6d66f98>,\n",
       " <isadream.isadream.models.assay.Assay at 0x7f55b6d33cc0>,\n",
       " <isadream.isadream.models.assay.Assay at 0x7f55b6d06e80>,\n",
       " <isadream.isadream.models.assay.Assay at 0x7f55b6c4a240>]"
      ]
     },
     "execution_count": 88,
     "metadata": {},
     "output_type": "execute_result"
    }
   ],
   "source": [
    "MODEL.assays"
   ]
  },
  {
   "cell_type": "code",
   "execution_count": 87,
   "metadata": {},
   "outputs": [
    {
     "data": {
      "text/plain": [
       "'assayParameters.decimalValue'"
      ]
     },
     "metadata": {},
     "output_type": "display_data"
    },
    {
     "data": {
      "text/plain": [
       "'assayParameters.factorType'"
      ]
     },
     "metadata": {},
     "output_type": "display_data"
    },
    {
     "data": {
      "text/plain": [
       "'assayParameters.unitRef'"
      ]
     },
     "metadata": {},
     "output_type": "display_data"
    },
    {
     "data": {
      "text/plain": [
       "'comments.body'"
      ]
     },
     "metadata": {},
     "output_type": "display_data"
    },
    {
     "data": {
      "text/plain": [
       "'comments.name'"
      ]
     },
     "metadata": {},
     "output_type": "display_data"
    },
    {
     "data": {
      "text/plain": [
       "'dataFile'"
      ]
     },
     "metadata": {},
     "output_type": "display_data"
    },
    {
     "data": {
      "text/plain": [
       "'samples.AssaySampleFactors.csvColumnIndex'"
      ]
     },
     "metadata": {},
     "output_type": "display_data"
    },
    {
     "data": {
      "text/plain": [
       "'samples.AssaySampleFactors.factorType'"
      ]
     },
     "metadata": {},
     "output_type": "display_data"
    },
    {
     "data": {
      "text/plain": [
       "'samples.AssaySampleFactors.unitRef'"
      ]
     },
     "metadata": {},
     "output_type": "display_data"
    },
    {
     "data": {
      "text/plain": [
       "'samples.name'"
      ]
     },
     "metadata": {},
     "output_type": "display_data"
    },
    {
     "data": {
      "text/plain": [
       "'samples.species.speciesReference'"
      ]
     },
     "metadata": {},
     "output_type": "display_data"
    },
    {
     "data": {
      "text/plain": [
       "'samples.species.stoichiometry'"
      ]
     },
     "metadata": {},
     "output_type": "display_data"
    },
    {
     "data": {
      "text/plain": [
       "'assayParameters.decimalValue'"
      ]
     },
     "metadata": {},
     "output_type": "display_data"
    },
    {
     "data": {
      "text/plain": [
       "'assayParameters.factorType'"
      ]
     },
     "metadata": {},
     "output_type": "display_data"
    },
    {
     "data": {
      "text/plain": [
       "'assayParameters.unitRef'"
      ]
     },
     "metadata": {},
     "output_type": "display_data"
    },
    {
     "data": {
      "text/plain": [
       "'comments.body'"
      ]
     },
     "metadata": {},
     "output_type": "display_data"
    },
    {
     "data": {
      "text/plain": [
       "'comments.name'"
      ]
     },
     "metadata": {},
     "output_type": "display_data"
    },
    {
     "data": {
      "text/plain": [
       "'dataFile'"
      ]
     },
     "metadata": {},
     "output_type": "display_data"
    },
    {
     "data": {
      "text/plain": [
       "'samples.AssaySampleFactors.csvColumnIndex'"
      ]
     },
     "metadata": {},
     "output_type": "display_data"
    },
    {
     "data": {
      "text/plain": [
       "'samples.AssaySampleFactors.factorType'"
      ]
     },
     "metadata": {},
     "output_type": "display_data"
    },
    {
     "data": {
      "text/plain": [
       "'samples.AssaySampleFactors.unitRef'"
      ]
     },
     "metadata": {},
     "output_type": "display_data"
    },
    {
     "data": {
      "text/plain": [
       "'samples.name'"
      ]
     },
     "metadata": {},
     "output_type": "display_data"
    },
    {
     "data": {
      "text/plain": [
       "'samples.species.speciesReference'"
      ]
     },
     "metadata": {},
     "output_type": "display_data"
    },
    {
     "data": {
      "text/plain": [
       "'samples.species.stoichiometry'"
      ]
     },
     "metadata": {},
     "output_type": "display_data"
    },
    {
     "data": {
      "text/plain": [
       "'assayParameters.decimalValue'"
      ]
     },
     "metadata": {},
     "output_type": "display_data"
    },
    {
     "data": {
      "text/plain": [
       "'assayParameters.factorType'"
      ]
     },
     "metadata": {},
     "output_type": "display_data"
    },
    {
     "data": {
      "text/plain": [
       "'assayParameters.unitRef'"
      ]
     },
     "metadata": {},
     "output_type": "display_data"
    },
    {
     "data": {
      "text/plain": [
       "'comments.body'"
      ]
     },
     "metadata": {},
     "output_type": "display_data"
    },
    {
     "data": {
      "text/plain": [
       "'comments.name'"
      ]
     },
     "metadata": {},
     "output_type": "display_data"
    },
    {
     "data": {
      "text/plain": [
       "'dataFile'"
      ]
     },
     "metadata": {},
     "output_type": "display_data"
    },
    {
     "data": {
      "text/plain": [
       "'samples.AssaySampleFactors.csvColumnIndex'"
      ]
     },
     "metadata": {},
     "output_type": "display_data"
    },
    {
     "data": {
      "text/plain": [
       "'samples.AssaySampleFactors.factorType'"
      ]
     },
     "metadata": {},
     "output_type": "display_data"
    },
    {
     "data": {
      "text/plain": [
       "'samples.AssaySampleFactors.unitRef'"
      ]
     },
     "metadata": {},
     "output_type": "display_data"
    },
    {
     "data": {
      "text/plain": [
       "'samples.name'"
      ]
     },
     "metadata": {},
     "output_type": "display_data"
    },
    {
     "data": {
      "text/plain": [
       "'samples.species.speciesReference'"
      ]
     },
     "metadata": {},
     "output_type": "display_data"
    },
    {
     "data": {
      "text/plain": [
       "'samples.species.stoichiometry'"
      ]
     },
     "metadata": {},
     "output_type": "display_data"
    },
    {
     "data": {
      "text/plain": [
       "'assayParameters.decimalValue'"
      ]
     },
     "metadata": {},
     "output_type": "display_data"
    },
    {
     "data": {
      "text/plain": [
       "'assayParameters.factorType'"
      ]
     },
     "metadata": {},
     "output_type": "display_data"
    },
    {
     "data": {
      "text/plain": [
       "'assayParameters.unitRef'"
      ]
     },
     "metadata": {},
     "output_type": "display_data"
    },
    {
     "data": {
      "text/plain": [
       "'comments.body'"
      ]
     },
     "metadata": {},
     "output_type": "display_data"
    },
    {
     "data": {
      "text/plain": [
       "'comments.name'"
      ]
     },
     "metadata": {},
     "output_type": "display_data"
    },
    {
     "data": {
      "text/plain": [
       "'dataFile'"
      ]
     },
     "metadata": {},
     "output_type": "display_data"
    },
    {
     "data": {
      "text/plain": [
       "'samples.AssaySampleFactors.csvColumnIndex'"
      ]
     },
     "metadata": {},
     "output_type": "display_data"
    },
    {
     "data": {
      "text/plain": [
       "'samples.AssaySampleFactors.factorType'"
      ]
     },
     "metadata": {},
     "output_type": "display_data"
    },
    {
     "data": {
      "text/plain": [
       "'samples.AssaySampleFactors.unitRef'"
      ]
     },
     "metadata": {},
     "output_type": "display_data"
    },
    {
     "data": {
      "text/plain": [
       "'samples.name'"
      ]
     },
     "metadata": {},
     "output_type": "display_data"
    },
    {
     "data": {
      "text/plain": [
       "'samples.species.speciesReference'"
      ]
     },
     "metadata": {},
     "output_type": "display_data"
    },
    {
     "data": {
      "text/plain": [
       "'samples.species.stoichiometry'"
      ]
     },
     "metadata": {},
     "output_type": "display_data"
    },
    {
     "data": {
      "text/plain": [
       "'assayParameters.decimalValue'"
      ]
     },
     "metadata": {},
     "output_type": "display_data"
    },
    {
     "data": {
      "text/plain": [
       "'assayParameters.factorType'"
      ]
     },
     "metadata": {},
     "output_type": "display_data"
    },
    {
     "data": {
      "text/plain": [
       "'assayParameters.unitRef'"
      ]
     },
     "metadata": {},
     "output_type": "display_data"
    },
    {
     "data": {
      "text/plain": [
       "'comments.body'"
      ]
     },
     "metadata": {},
     "output_type": "display_data"
    },
    {
     "data": {
      "text/plain": [
       "'comments.name'"
      ]
     },
     "metadata": {},
     "output_type": "display_data"
    },
    {
     "data": {
      "text/plain": [
       "'dataFile'"
      ]
     },
     "metadata": {},
     "output_type": "display_data"
    },
    {
     "data": {
      "text/plain": [
       "'samples.AssaySampleFactors.csvColumnIndex'"
      ]
     },
     "metadata": {},
     "output_type": "display_data"
    },
    {
     "data": {
      "text/plain": [
       "'samples.AssaySampleFactors.factorType'"
      ]
     },
     "metadata": {},
     "output_type": "display_data"
    },
    {
     "data": {
      "text/plain": [
       "'samples.AssaySampleFactors.unitRef'"
      ]
     },
     "metadata": {},
     "output_type": "display_data"
    },
    {
     "data": {
      "text/plain": [
       "'samples.name'"
      ]
     },
     "metadata": {},
     "output_type": "display_data"
    },
    {
     "data": {
      "text/plain": [
       "'samples.species.speciesReference'"
      ]
     },
     "metadata": {},
     "output_type": "display_data"
    },
    {
     "data": {
      "text/plain": [
       "'samples.species.stoichiometry'"
      ]
     },
     "metadata": {},
     "output_type": "display_data"
    },
    {
     "data": {
      "text/plain": [
       "'assayParameters.decimalValue'"
      ]
     },
     "metadata": {},
     "output_type": "display_data"
    },
    {
     "data": {
      "text/plain": [
       "'assayParameters.factorType'"
      ]
     },
     "metadata": {},
     "output_type": "display_data"
    },
    {
     "data": {
      "text/plain": [
       "'assayParameters.unitRef'"
      ]
     },
     "metadata": {},
     "output_type": "display_data"
    },
    {
     "data": {
      "text/plain": [
       "'comments.body'"
      ]
     },
     "metadata": {},
     "output_type": "display_data"
    },
    {
     "data": {
      "text/plain": [
       "'comments.name'"
      ]
     },
     "metadata": {},
     "output_type": "display_data"
    },
    {
     "data": {
      "text/plain": [
       "'dataFile'"
      ]
     },
     "metadata": {},
     "output_type": "display_data"
    },
    {
     "data": {
      "text/plain": [
       "'samples.AssaySampleFactors.csvColumnIndex'"
      ]
     },
     "metadata": {},
     "output_type": "display_data"
    },
    {
     "data": {
      "text/plain": [
       "'samples.AssaySampleFactors.factorType'"
      ]
     },
     "metadata": {},
     "output_type": "display_data"
    },
    {
     "data": {
      "text/plain": [
       "'samples.AssaySampleFactors.unitRef'"
      ]
     },
     "metadata": {},
     "output_type": "display_data"
    },
    {
     "data": {
      "text/plain": [
       "'samples.name'"
      ]
     },
     "metadata": {},
     "output_type": "display_data"
    },
    {
     "data": {
      "text/plain": [
       "'samples.species.speciesReference'"
      ]
     },
     "metadata": {},
     "output_type": "display_data"
    },
    {
     "data": {
      "text/plain": [
       "'samples.species.stoichiometry'"
      ]
     },
     "metadata": {},
     "output_type": "display_data"
    }
   ],
   "source": [
    "MODEL = DrupalNode(SIPOS_DEMO)\n",
    "for s in MODEL.assays:  \n",
    "    for f in s.samples:\n",
    "        display(f)\n",
    "#         display(f.sources)\n",
    "        \n",
    "#         break\n",
    "#     break"
   ]
  },
  {
   "cell_type": "code",
   "execution_count": 29,
   "metadata": {},
   "outputs": [
    {
     "name": "stdout",
     "output_type": "stream",
     "text": [
      "Measurement Condition:\n",
      "25.0: Celsius\n",
      "Measurement:\n",
      "nan: ppm\n",
      "Measurement Condition:\n",
      "78.204: MHz\n",
      "Measurement Reference:\n",
      "nan: Reference Compound\n"
     ]
    }
   ],
   "source": [
    "MODEL = DrupalNode(SIPOS_DEMO)\n",
    "for s in MODEL.factors:\n",
    "    print(s)"
   ]
  },
  {
   "cell_type": "code",
   "execution_count": null,
   "metadata": {},
   "outputs": [],
   "source": []
  },
  {
   "cell_type": "code",
   "execution_count": null,
   "metadata": {},
   "outputs": [],
   "source": []
  },
  {
   "cell_type": "code",
   "execution_count": null,
   "metadata": {},
   "outputs": [],
   "source": []
  },
  {
   "cell_type": "code",
   "execution_count": 26,
   "metadata": {},
   "outputs": [
    {
     "data": {
      "text/plain": [
       "[<isadream.isadream.models.assay.Assay at 0x7f55b6d58eb8>,\n",
       " <isadream.isadream.models.assay.Assay at 0x7f55b6d6e080>,\n",
       " <isadream.isadream.models.assay.Assay at 0x7f55b6d664e0>,\n",
       " <isadream.isadream.models.assay.Assay at 0x7f55b6d74f98>,\n",
       " <isadream.isadream.models.assay.Assay at 0x7f55b6d7ac50>,\n",
       " <isadream.isadream.models.assay.Assay at 0x7f55b6d7ae10>]"
      ]
     },
     "execution_count": 26,
     "metadata": {},
     "output_type": "execute_result"
    }
   ],
   "source": [
    "MODEL.assays"
   ]
  },
  {
   "cell_type": "code",
   "execution_count": null,
   "metadata": {},
   "outputs": [],
   "source": []
  },
  {
   "cell_type": "code",
   "execution_count": 70,
   "metadata": {},
   "outputs": [
    {
     "name": "stdout",
     "output_type": "stream",
     "text": [
      "Measurement Condition:\n",
      "25.0: Celsius\n",
      "Measurement:\n",
      "nan: ppm\n",
      "Measurement Condition:\n",
      "78.204: MHz\n",
      "Measurement Reference:\n",
      "nan: Reference Compound\n"
     ]
    }
   ],
   "source": [
    "MODEL = DrupalNode(SIPOS_DEMO)\n",
    "# MODEL.factors\n",
    "for f in MODEL.factors:\n",
    "    print(f)\n",
    "#     f"
   ]
  },
  {
   "cell_type": "code",
   "execution_count": 65,
   "metadata": {},
   "outputs": [
    {
     "data": {
      "text/html": [
       "<div>\n",
       "<style scoped>\n",
       "    .dataframe tbody tr th:only-of-type {\n",
       "        vertical-align: middle;\n",
       "    }\n",
       "\n",
       "    .dataframe tbody tr th {\n",
       "        vertical-align: top;\n",
       "    }\n",
       "\n",
       "    .dataframe thead th {\n",
       "        text-align: right;\n",
       "    }\n",
       "</style>\n",
       "<table border=\"1\" class=\"dataframe\">\n",
       "  <thead>\n",
       "    <tr style=\"text-align: right;\">\n",
       "      <th></th>\n",
       "      <th></th>\n",
       "      <th>sampleName</th>\n",
       "      <th>Aluminate Solution</th>\n",
       "    </tr>\n",
       "  </thead>\n",
       "  <tbody>\n",
       "    <tr>\n",
       "      <th rowspan=\"7\" valign=\"top\">sources</th>\n",
       "      <th rowspan=\"4\" valign=\"top\">materialCharacteristic</th>\n",
       "      <th>RefValue</th>\n",
       "      <td>Purity by Weight</td>\n",
       "    </tr>\n",
       "    <tr>\n",
       "      <th>decimalValue</th>\n",
       "      <td>0.98</td>\n",
       "    </tr>\n",
       "    <tr>\n",
       "      <th>factorType</th>\n",
       "      <td>Material Property</td>\n",
       "    </tr>\n",
       "    <tr>\n",
       "      <th>unitRef</th>\n",
       "      <td>Percent</td>\n",
       "    </tr>\n",
       "    <tr>\n",
       "      <th>sourceName</th>\n",
       "      <th>NaN</th>\n",
       "      <td>Aluminum Wire</td>\n",
       "    </tr>\n",
       "    <tr>\n",
       "      <th rowspan=\"2\" valign=\"top\">species</th>\n",
       "      <th>speciesReference</th>\n",
       "      <td>Al(III)</td>\n",
       "    </tr>\n",
       "    <tr>\n",
       "      <th>stoichiometry</th>\n",
       "      <td>1</td>\n",
       "    </tr>\n",
       "    <tr>\n",
       "      <th rowspan=\"2\" valign=\"top\">species</th>\n",
       "      <th>speciesReference</th>\n",
       "      <th>NaN</th>\n",
       "      <td>Al(III)</td>\n",
       "    </tr>\n",
       "    <tr>\n",
       "      <th>stoichiometry</th>\n",
       "      <th>NaN</th>\n",
       "      <td>1</td>\n",
       "    </tr>\n",
       "    <tr>\n",
       "      <th rowspan=\"3\" valign=\"top\">studySampleFactors</th>\n",
       "      <th>decimalValue</th>\n",
       "      <th>NaN</th>\n",
       "      <td>0.005</td>\n",
       "    </tr>\n",
       "    <tr>\n",
       "      <th>factorType</th>\n",
       "      <th>NaN</th>\n",
       "      <td>Measurement Condition</td>\n",
       "    </tr>\n",
       "    <tr>\n",
       "      <th>unitRef</th>\n",
       "      <th>NaN</th>\n",
       "      <td>Molar</td>\n",
       "    </tr>\n",
       "  </tbody>\n",
       "</table>\n",
       "</div>"
      ],
      "text/plain": [
       "sampleName                                                     Aluminate Solution\n",
       "sources            materialCharacteristic RefValue               Purity by Weight\n",
       "                                          decimalValue                       0.98\n",
       "                                          factorType            Material Property\n",
       "                                          unitRef                         Percent\n",
       "                   sourceName             NaN                       Aluminum Wire\n",
       "                   species                speciesReference                Al(III)\n",
       "                                          stoichiometry                         1\n",
       "species            speciesReference       NaN                             Al(III)\n",
       "                   stoichiometry          NaN                                   1\n",
       "studySampleFactors decimalValue           NaN                               0.005\n",
       "                   factorType             NaN               Measurement Condition\n",
       "                   unitRef                NaN                               Molar"
      ]
     },
     "metadata": {},
     "output_type": "display_data"
    },
    {
     "data": {
      "text/html": [
       "<div>\n",
       "<style scoped>\n",
       "    .dataframe tbody tr th:only-of-type {\n",
       "        vertical-align: middle;\n",
       "    }\n",
       "\n",
       "    .dataframe tbody tr th {\n",
       "        vertical-align: top;\n",
       "    }\n",
       "\n",
       "    .dataframe thead th {\n",
       "        text-align: right;\n",
       "    }\n",
       "</style>\n",
       "<table border=\"1\" class=\"dataframe\">\n",
       "  <thead>\n",
       "    <tr style=\"text-align: right;\">\n",
       "      <th></th>\n",
       "      <th></th>\n",
       "      <th>sampleName</th>\n",
       "      <th>Demo second Solution</th>\n",
       "      <th>Demo second Solution</th>\n",
       "    </tr>\n",
       "  </thead>\n",
       "  <tbody>\n",
       "    <tr>\n",
       "      <th rowspan=\"7\" valign=\"top\">sources</th>\n",
       "      <th rowspan=\"4\" valign=\"top\">materialCharacteristic</th>\n",
       "      <th>RefValue</th>\n",
       "      <td>Density</td>\n",
       "      <td>Poor</td>\n",
       "    </tr>\n",
       "    <tr>\n",
       "      <th>decimalValue</th>\n",
       "      <td>1.05</td>\n",
       "      <td>NaN</td>\n",
       "    </tr>\n",
       "    <tr>\n",
       "      <th>factorType</th>\n",
       "      <td>Material Property</td>\n",
       "      <td>Material Property</td>\n",
       "    </tr>\n",
       "    <tr>\n",
       "      <th>unitRef</th>\n",
       "      <td>g/cm^3</td>\n",
       "      <td>Quality</td>\n",
       "    </tr>\n",
       "    <tr>\n",
       "      <th>sourceName</th>\n",
       "      <th>NaN</th>\n",
       "      <td>Demo second source.</td>\n",
       "      <td>Demo second source.</td>\n",
       "    </tr>\n",
       "    <tr>\n",
       "      <th rowspan=\"2\" valign=\"top\">species</th>\n",
       "      <th>speciesReference</th>\n",
       "      <td>Fake</td>\n",
       "      <td>Fake</td>\n",
       "    </tr>\n",
       "    <tr>\n",
       "      <th>stoichiometry</th>\n",
       "      <td>1</td>\n",
       "      <td>1</td>\n",
       "    </tr>\n",
       "    <tr>\n",
       "      <th rowspan=\"2\" valign=\"top\">species</th>\n",
       "      <th>speciesReference</th>\n",
       "      <th>NaN</th>\n",
       "      <td>Fake</td>\n",
       "      <td>Fake</td>\n",
       "    </tr>\n",
       "    <tr>\n",
       "      <th>stoichiometry</th>\n",
       "      <th>NaN</th>\n",
       "      <td>2</td>\n",
       "      <td>2</td>\n",
       "    </tr>\n",
       "    <tr>\n",
       "      <th rowspan=\"3\" valign=\"top\">studySampleFactors</th>\n",
       "      <th>decimalValue</th>\n",
       "      <th>NaN</th>\n",
       "      <td>0.006</td>\n",
       "      <td>0.006</td>\n",
       "    </tr>\n",
       "    <tr>\n",
       "      <th>factorType</th>\n",
       "      <th>NaN</th>\n",
       "      <td>Measurement Condition</td>\n",
       "      <td>Measurement Condition</td>\n",
       "    </tr>\n",
       "    <tr>\n",
       "      <th>unitRef</th>\n",
       "      <th>NaN</th>\n",
       "      <td>Molar</td>\n",
       "      <td>Molar</td>\n",
       "    </tr>\n",
       "  </tbody>\n",
       "</table>\n",
       "</div>"
      ],
      "text/plain": [
       "sampleName                                                   Demo second Solution  \\\n",
       "sources            materialCharacteristic RefValue                        Density   \n",
       "                                          decimalValue                       1.05   \n",
       "                                          factorType            Material Property   \n",
       "                                          unitRef                          g/cm^3   \n",
       "                   sourceName             NaN                 Demo second source.   \n",
       "                   species                speciesReference                   Fake   \n",
       "                                          stoichiometry                         1   \n",
       "species            speciesReference       NaN                                Fake   \n",
       "                   stoichiometry          NaN                                   2   \n",
       "studySampleFactors decimalValue           NaN                               0.006   \n",
       "                   factorType             NaN               Measurement Condition   \n",
       "                   unitRef                NaN                               Molar   \n",
       "\n",
       "sampleName                                                   Demo second Solution  \n",
       "sources            materialCharacteristic RefValue                           Poor  \n",
       "                                          decimalValue                        NaN  \n",
       "                                          factorType            Material Property  \n",
       "                                          unitRef                         Quality  \n",
       "                   sourceName             NaN                 Demo second source.  \n",
       "                   species                speciesReference                   Fake  \n",
       "                                          stoichiometry                         1  \n",
       "species            speciesReference       NaN                                Fake  \n",
       "                   stoichiometry          NaN                                   2  \n",
       "studySampleFactors decimalValue           NaN                               0.006  \n",
       "                   factorType             NaN               Measurement Condition  \n",
       "                   unitRef                NaN                               Molar  "
      ]
     },
     "metadata": {},
     "output_type": "display_data"
    }
   ],
   "source": [
    "MODEL = DrupalNode(SIPOS_DEMO)\n",
    "for key, df in MODEL._sample_groups:\n",
    "    display(df.T)\n",
    "#     display(df)    "
   ]
  },
  {
   "cell_type": "code",
   "execution_count": null,
   "metadata": {},
   "outputs": [],
   "source": []
  },
  {
   "cell_type": "code",
   "execution_count": 180,
   "metadata": {},
   "outputs": [
    {
     "ename": "AttributeError",
     "evalue": "'DrupalNode' object has no attribute '_sample_frame'",
     "output_type": "error",
     "traceback": [
      "\u001b[0;31m---------------------------------------------------------------------------\u001b[0m",
      "\u001b[0;31mAttributeError\u001b[0m                            Traceback (most recent call last)",
      "\u001b[0;32m<ipython-input-180-d57fc4f8a233>\u001b[0m in \u001b[0;36m<module>\u001b[0;34m()\u001b[0m\n\u001b[1;32m      1\u001b[0m \u001b[0mMODEL\u001b[0m \u001b[0;34m=\u001b[0m \u001b[0mDrupalNode\u001b[0m\u001b[0;34m(\u001b[0m\u001b[0mSIPOS_DEMO\u001b[0m\u001b[0;34m)\u001b[0m\u001b[0;34m\u001b[0m\u001b[0m\n\u001b[0;32m----> 2\u001b[0;31m \u001b[0;32mfor\u001b[0m \u001b[0mkey\u001b[0m\u001b[0;34m,\u001b[0m \u001b[0mdf\u001b[0m \u001b[0;32min\u001b[0m \u001b[0mMODEL\u001b[0m\u001b[0;34m.\u001b[0m\u001b[0m_sample_frame\u001b[0m\u001b[0;34m.\u001b[0m\u001b[0mgroupby\u001b[0m\u001b[0;34m(\u001b[0m\u001b[0mlevel\u001b[0m\u001b[0;34m=\u001b[0m\u001b[0;36m0\u001b[0m\u001b[0;34m)\u001b[0m\u001b[0;34m:\u001b[0m\u001b[0;34m\u001b[0m\u001b[0m\n\u001b[0m\u001b[1;32m      3\u001b[0m     \u001b[0mdisplay\u001b[0m\u001b[0;34m(\u001b[0m\u001b[0mdf\u001b[0m\u001b[0;34m)\u001b[0m\u001b[0;34m\u001b[0m\u001b[0m\n\u001b[1;32m      4\u001b[0m \u001b[0;31m# MODEL._sample_frame.T.xs('sources')\u001b[0m\u001b[0;34m\u001b[0m\u001b[0;34m\u001b[0m\u001b[0m\n",
      "\u001b[0;31mAttributeError\u001b[0m: 'DrupalNode' object has no attribute '_sample_frame'"
     ]
    }
   ],
   "source": [
    "MODEL = DrupalNode(SIPOS_DEMO)\n",
    "for key, df in MODEL._sample_frame.groupby(level=0):\n",
    "    display(df)\n",
    "# MODEL._sample_frame.T.xs('sources')"
   ]
  },
  {
   "cell_type": "code",
   "execution_count": null,
   "metadata": {},
   "outputs": [],
   "source": []
  },
  {
   "cell_type": "code",
   "execution_count": null,
   "metadata": {},
   "outputs": [],
   "source": []
  },
  {
   "cell_type": "code",
   "execution_count": null,
   "metadata": {},
   "outputs": [],
   "source": []
  },
  {
   "cell_type": "code",
   "execution_count": null,
   "metadata": {},
   "outputs": [],
   "source": []
  },
  {
   "cell_type": "code",
   "execution_count": null,
   "metadata": {},
   "outputs": [],
   "source": []
  },
  {
   "cell_type": "code",
   "execution_count": null,
   "metadata": {},
   "outputs": [],
   "source": []
  },
  {
   "cell_type": "code",
   "execution_count": 135,
   "metadata": {},
   "outputs": [
    {
     "data": {
      "text/plain": [
       "'RefValue'"
      ]
     },
     "metadata": {},
     "output_type": "display_data"
    },
    {
     "data": {
      "text/plain": [
       "'csvColumnIndex'"
      ]
     },
     "metadata": {},
     "output_type": "display_data"
    },
    {
     "data": {
      "text/plain": [
       "'decimalValue'"
      ]
     },
     "metadata": {},
     "output_type": "display_data"
    },
    {
     "data": {
      "text/plain": [
       "'factorType'"
      ]
     },
     "metadata": {},
     "output_type": "display_data"
    },
    {
     "data": {
      "text/plain": [
       "'unitRef'"
      ]
     },
     "metadata": {},
     "output_type": "display_data"
    }
   ],
   "source": [
    "for df in MODEL.factors:\n",
    "    display(df)"
   ]
  },
  {
   "cell_type": "code",
   "execution_count": 45,
   "metadata": {},
   "outputs": [],
   "source": [
    "# [display(x.df) for x in MODEL.samples]"
   ]
  },
  {
   "cell_type": "code",
   "execution_count": 60,
   "metadata": {},
   "outputs": [
    {
     "data": {
      "text/html": [
       "<div>\n",
       "<style scoped>\n",
       "    .dataframe tbody tr th:only-of-type {\n",
       "        vertical-align: middle;\n",
       "    }\n",
       "\n",
       "    .dataframe tbody tr th {\n",
       "        vertical-align: top;\n",
       "    }\n",
       "\n",
       "    .dataframe thead th {\n",
       "        text-align: right;\n",
       "    }\n",
       "</style>\n",
       "<table border=\"1\" class=\"dataframe\">\n",
       "  <thead>\n",
       "    <tr style=\"text-align: right;\">\n",
       "      <th></th>\n",
       "      <th></th>\n",
       "      <th></th>\n",
       "      <th></th>\n",
       "      <th>0</th>\n",
       "    </tr>\n",
       "  </thead>\n",
       "  <tbody>\n",
       "    <tr>\n",
       "      <th rowspan=\"13\" valign=\"top\">studySamples_idx_0</th>\n",
       "      <th>sampleName</th>\n",
       "      <th>NaN</th>\n",
       "      <th>NaN</th>\n",
       "      <td>Aluminate Solution</td>\n",
       "    </tr>\n",
       "    <tr>\n",
       "      <th rowspan=\"7\" valign=\"top\">sources</th>\n",
       "      <th rowspan=\"4\" valign=\"top\">materialCharacteristic</th>\n",
       "      <th>RefValue</th>\n",
       "      <td>Purity by Weight</td>\n",
       "    </tr>\n",
       "    <tr>\n",
       "      <th>decimalValue</th>\n",
       "      <td>0.98</td>\n",
       "    </tr>\n",
       "    <tr>\n",
       "      <th>factorType</th>\n",
       "      <td>Material Property</td>\n",
       "    </tr>\n",
       "    <tr>\n",
       "      <th>unitRef</th>\n",
       "      <td>Percent</td>\n",
       "    </tr>\n",
       "    <tr>\n",
       "      <th>sourceName</th>\n",
       "      <th>NaN</th>\n",
       "      <td>Aluminum Wire</td>\n",
       "    </tr>\n",
       "    <tr>\n",
       "      <th rowspan=\"2\" valign=\"top\">species</th>\n",
       "      <th>speciesReference</th>\n",
       "      <td>Al(III)</td>\n",
       "    </tr>\n",
       "    <tr>\n",
       "      <th>stoichiometry</th>\n",
       "      <td>1</td>\n",
       "    </tr>\n",
       "    <tr>\n",
       "      <th rowspan=\"2\" valign=\"top\">species</th>\n",
       "      <th>speciesReference</th>\n",
       "      <th>NaN</th>\n",
       "      <td>Al(III)</td>\n",
       "    </tr>\n",
       "    <tr>\n",
       "      <th>stoichiometry</th>\n",
       "      <th>NaN</th>\n",
       "      <td>1</td>\n",
       "    </tr>\n",
       "    <tr>\n",
       "      <th rowspan=\"3\" valign=\"top\">studySampleFactors</th>\n",
       "      <th>decimalValue</th>\n",
       "      <th>NaN</th>\n",
       "      <td>0.005</td>\n",
       "    </tr>\n",
       "    <tr>\n",
       "      <th>factorType</th>\n",
       "      <th>NaN</th>\n",
       "      <td>Measurement Condition</td>\n",
       "    </tr>\n",
       "    <tr>\n",
       "      <th>unitRef</th>\n",
       "      <th>NaN</th>\n",
       "      <td>Molar</td>\n",
       "    </tr>\n",
       "  </tbody>\n",
       "</table>\n",
       "</div>"
      ],
      "text/plain": [
       "                                                                                                   0\n",
       "studySamples_idx_0 sampleName         NaN                    NaN                  Aluminate Solution\n",
       "                   sources            materialCharacteristic RefValue               Purity by Weight\n",
       "                                                             decimalValue                       0.98\n",
       "                                                             factorType            Material Property\n",
       "                                                             unitRef                         Percent\n",
       "                                      sourceName             NaN                       Aluminum Wire\n",
       "                                      species                speciesReference                Al(III)\n",
       "                                                             stoichiometry                         1\n",
       "                   species            speciesReference       NaN                             Al(III)\n",
       "                                      stoichiometry          NaN                                   1\n",
       "                   studySampleFactors decimalValue           NaN                               0.005\n",
       "                                      factorType             NaN               Measurement Condition\n",
       "                                      unitRef                NaN                               Molar"
      ]
     },
     "metadata": {},
     "output_type": "display_data"
    },
    {
     "name": "stdout",
     "output_type": "stream",
     "text": [
      "Aluminate Solution\n"
     ]
    },
    {
     "data": {
      "text/html": [
       "<div>\n",
       "<style scoped>\n",
       "    .dataframe tbody tr th:only-of-type {\n",
       "        vertical-align: middle;\n",
       "    }\n",
       "\n",
       "    .dataframe tbody tr th {\n",
       "        vertical-align: top;\n",
       "    }\n",
       "\n",
       "    .dataframe thead th {\n",
       "        text-align: right;\n",
       "    }\n",
       "</style>\n",
       "<table border=\"1\" class=\"dataframe\">\n",
       "  <thead>\n",
       "    <tr style=\"text-align: right;\">\n",
       "      <th></th>\n",
       "      <th></th>\n",
       "      <th></th>\n",
       "      <th></th>\n",
       "      <th>0</th>\n",
       "    </tr>\n",
       "  </thead>\n",
       "  <tbody>\n",
       "    <tr>\n",
       "      <th rowspan=\"13\" valign=\"top\">studySamples_idx_1</th>\n",
       "      <th>sampleName</th>\n",
       "      <th>NaN</th>\n",
       "      <th>NaN</th>\n",
       "      <td>Demo second Solution</td>\n",
       "    </tr>\n",
       "    <tr>\n",
       "      <th rowspan=\"7\" valign=\"top\">sources</th>\n",
       "      <th rowspan=\"4\" valign=\"top\">materialCharacteristic</th>\n",
       "      <th>RefValue</th>\n",
       "      <td>Density</td>\n",
       "    </tr>\n",
       "    <tr>\n",
       "      <th>decimalValue</th>\n",
       "      <td>1.05</td>\n",
       "    </tr>\n",
       "    <tr>\n",
       "      <th>factorType</th>\n",
       "      <td>Material Property</td>\n",
       "    </tr>\n",
       "    <tr>\n",
       "      <th>unitRef</th>\n",
       "      <td>g/cm^3</td>\n",
       "    </tr>\n",
       "    <tr>\n",
       "      <th>sourceName</th>\n",
       "      <th>NaN</th>\n",
       "      <td>Demo second source.</td>\n",
       "    </tr>\n",
       "    <tr>\n",
       "      <th rowspan=\"2\" valign=\"top\">species</th>\n",
       "      <th>speciesReference</th>\n",
       "      <td>Fake</td>\n",
       "    </tr>\n",
       "    <tr>\n",
       "      <th>stoichiometry</th>\n",
       "      <td>1</td>\n",
       "    </tr>\n",
       "    <tr>\n",
       "      <th rowspan=\"2\" valign=\"top\">species</th>\n",
       "      <th>speciesReference</th>\n",
       "      <th>NaN</th>\n",
       "      <td>Fake</td>\n",
       "    </tr>\n",
       "    <tr>\n",
       "      <th>stoichiometry</th>\n",
       "      <th>NaN</th>\n",
       "      <td>2</td>\n",
       "    </tr>\n",
       "    <tr>\n",
       "      <th rowspan=\"3\" valign=\"top\">studySampleFactors</th>\n",
       "      <th>decimalValue</th>\n",
       "      <th>NaN</th>\n",
       "      <td>0.006</td>\n",
       "    </tr>\n",
       "    <tr>\n",
       "      <th>factorType</th>\n",
       "      <th>NaN</th>\n",
       "      <td>Measurement Condition</td>\n",
       "    </tr>\n",
       "    <tr>\n",
       "      <th>unitRef</th>\n",
       "      <th>NaN</th>\n",
       "      <td>Molar</td>\n",
       "    </tr>\n",
       "  </tbody>\n",
       "</table>\n",
       "</div>"
      ],
      "text/plain": [
       "                                                                                                   0\n",
       "studySamples_idx_1 sampleName         NaN                    NaN                Demo second Solution\n",
       "                   sources            materialCharacteristic RefValue                        Density\n",
       "                                                             decimalValue                       1.05\n",
       "                                                             factorType            Material Property\n",
       "                                                             unitRef                          g/cm^3\n",
       "                                      sourceName             NaN                 Demo second source.\n",
       "                                      species                speciesReference                   Fake\n",
       "                                                             stoichiometry                         1\n",
       "                   species            speciesReference       NaN                                Fake\n",
       "                                      stoichiometry          NaN                                   2\n",
       "                   studySampleFactors decimalValue           NaN                               0.006\n",
       "                                      factorType             NaN               Measurement Condition\n",
       "                                      unitRef                NaN                               Molar"
      ]
     },
     "metadata": {},
     "output_type": "display_data"
    },
    {
     "name": "stdout",
     "output_type": "stream",
     "text": [
      "Demo second Solution\n"
     ]
    },
    {
     "data": {
      "text/html": [
       "<div>\n",
       "<style scoped>\n",
       "    .dataframe tbody tr th:only-of-type {\n",
       "        vertical-align: middle;\n",
       "    }\n",
       "\n",
       "    .dataframe tbody tr th {\n",
       "        vertical-align: top;\n",
       "    }\n",
       "\n",
       "    .dataframe thead th {\n",
       "        text-align: right;\n",
       "    }\n",
       "</style>\n",
       "<table border=\"1\" class=\"dataframe\">\n",
       "  <thead>\n",
       "    <tr style=\"text-align: right;\">\n",
       "      <th></th>\n",
       "      <th></th>\n",
       "      <th></th>\n",
       "      <th></th>\n",
       "      <th>0</th>\n",
       "    </tr>\n",
       "  </thead>\n",
       "  <tbody>\n",
       "    <tr>\n",
       "      <th rowspan=\"12\" valign=\"top\">studySamples_idx_2</th>\n",
       "      <th>sampleName</th>\n",
       "      <th>NaN</th>\n",
       "      <th>NaN</th>\n",
       "      <td>Demo second Solution</td>\n",
       "    </tr>\n",
       "    <tr>\n",
       "      <th rowspan=\"6\" valign=\"top\">sources</th>\n",
       "      <th rowspan=\"3\" valign=\"top\">materialCharacteristic</th>\n",
       "      <th>RefValue</th>\n",
       "      <td>Poor</td>\n",
       "    </tr>\n",
       "    <tr>\n",
       "      <th>factorType</th>\n",
       "      <td>Material Property</td>\n",
       "    </tr>\n",
       "    <tr>\n",
       "      <th>unitRef</th>\n",
       "      <td>Quality</td>\n",
       "    </tr>\n",
       "    <tr>\n",
       "      <th>sourceName</th>\n",
       "      <th>NaN</th>\n",
       "      <td>Demo second source.</td>\n",
       "    </tr>\n",
       "    <tr>\n",
       "      <th rowspan=\"2\" valign=\"top\">species</th>\n",
       "      <th>speciesReference</th>\n",
       "      <td>Fake</td>\n",
       "    </tr>\n",
       "    <tr>\n",
       "      <th>stoichiometry</th>\n",
       "      <td>1</td>\n",
       "    </tr>\n",
       "    <tr>\n",
       "      <th rowspan=\"2\" valign=\"top\">species</th>\n",
       "      <th>speciesReference</th>\n",
       "      <th>NaN</th>\n",
       "      <td>Fake</td>\n",
       "    </tr>\n",
       "    <tr>\n",
       "      <th>stoichiometry</th>\n",
       "      <th>NaN</th>\n",
       "      <td>2</td>\n",
       "    </tr>\n",
       "    <tr>\n",
       "      <th rowspan=\"3\" valign=\"top\">studySampleFactors</th>\n",
       "      <th>decimalValue</th>\n",
       "      <th>NaN</th>\n",
       "      <td>0.006</td>\n",
       "    </tr>\n",
       "    <tr>\n",
       "      <th>factorType</th>\n",
       "      <th>NaN</th>\n",
       "      <td>Measurement Condition</td>\n",
       "    </tr>\n",
       "    <tr>\n",
       "      <th>unitRef</th>\n",
       "      <th>NaN</th>\n",
       "      <td>Molar</td>\n",
       "    </tr>\n",
       "  </tbody>\n",
       "</table>\n",
       "</div>"
      ],
      "text/plain": [
       "                                                                                                   0\n",
       "studySamples_idx_2 sampleName         NaN                    NaN                Demo second Solution\n",
       "                   sources            materialCharacteristic RefValue                           Poor\n",
       "                                                             factorType            Material Property\n",
       "                                                             unitRef                         Quality\n",
       "                                      sourceName             NaN                 Demo second source.\n",
       "                                      species                speciesReference                   Fake\n",
       "                                                             stoichiometry                         1\n",
       "                   species            speciesReference       NaN                                Fake\n",
       "                                      stoichiometry          NaN                                   2\n",
       "                   studySampleFactors decimalValue           NaN                               0.006\n",
       "                                      factorType             NaN               Measurement Condition\n",
       "                                      unitRef                NaN                               Molar"
      ]
     },
     "metadata": {},
     "output_type": "display_data"
    },
    {
     "name": "stdout",
     "output_type": "stream",
     "text": [
      "Demo second Solution\n"
     ]
    }
   ],
   "source": [
    "for sample in MODEL.samples:\n",
    "    df = sample.df\n",
    "    display(df)\n",
    "    print(sample)\n",
    "#     display(utils.try_xs(df, 'sampleName'))"
   ]
  },
  {
   "cell_type": "code",
   "execution_count": 55,
   "metadata": {},
   "outputs": [
    {
     "name": "stdout",
     "output_type": "stream",
     "text": [
      "Help on function groupby in module pandas.core.generic:\n",
      "\n",
      "groupby(self, by=None, axis=0, level=None, as_index=True, sort=True, group_keys=True, squeeze=False, observed=False, **kwargs)\n",
      "    Group series using mapper (dict or key function, apply given function\n",
      "    to group, return result as series) or by a series of columns.\n",
      "    \n",
      "    Parameters\n",
      "    ----------\n",
      "    by : mapping, function, label, or list of labels\n",
      "        Used to determine the groups for the groupby.\n",
      "        If ``by`` is a function, it's called on each value of the object's\n",
      "        index. If a dict or Series is passed, the Series or dict VALUES\n",
      "        will be used to determine the groups (the Series' values are first\n",
      "        aligned; see ``.align()`` method). If an ndarray is passed, the\n",
      "        values are used as-is determine the groups. A label or list of\n",
      "        labels may be passed to group by the columns in ``self``. Notice\n",
      "        that a tuple is interpreted a (single) key.\n",
      "    axis : int, default 0\n",
      "    level : int, level name, or sequence of such, default None\n",
      "        If the axis is a MultiIndex (hierarchical), group by a particular\n",
      "        level or levels\n",
      "    as_index : boolean, default True\n",
      "        For aggregated output, return object with group labels as the\n",
      "        index. Only relevant for DataFrame input. as_index=False is\n",
      "        effectively \"SQL-style\" grouped output\n",
      "    sort : boolean, default True\n",
      "        Sort group keys. Get better performance by turning this off.\n",
      "        Note this does not influence the order of observations within each\n",
      "        group.  groupby preserves the order of rows within each group.\n",
      "    group_keys : boolean, default True\n",
      "        When calling apply, add group keys to index to identify pieces\n",
      "    squeeze : boolean, default False\n",
      "        reduce the dimensionality of the return type if possible,\n",
      "        otherwise return a consistent type\n",
      "    observed : boolean, default False\n",
      "        This only applies if any of the groupers are Categoricals\n",
      "        If True: only show observed values for categorical groupers.\n",
      "        If False: show all values for categorical groupers.\n",
      "    \n",
      "        .. versionadded:: 0.23.0\n",
      "    \n",
      "    Returns\n",
      "    -------\n",
      "    GroupBy object\n",
      "    \n",
      "    Examples\n",
      "    --------\n",
      "    DataFrame results\n",
      "    \n",
      "    >>> data.groupby(func, axis=0).mean()\n",
      "    >>> data.groupby(['col1', 'col2'])['col3'].mean()\n",
      "    \n",
      "    DataFrame with hierarchical index\n",
      "    \n",
      "    >>> data.groupby(['col1', 'col2']).mean()\n",
      "    \n",
      "    Notes\n",
      "    -----\n",
      "    See the `user guide\n",
      "    <http://pandas.pydata.org/pandas-docs/stable/groupby.html>`_ for more.\n",
      "    \n",
      "    See also\n",
      "    --------\n",
      "    resample : Convenience method for frequency conversion and resampling\n",
      "        of time series.\n",
      "\n"
     ]
    }
   ],
   "source": [
    "help(pd.DataFrame.groupby)"
   ]
  },
  {
   "cell_type": "code",
   "execution_count": 6,
   "metadata": {},
   "outputs": [
    {
     "data": {
      "text/html": [
       "<div>\n",
       "<style scoped>\n",
       "    .dataframe tbody tr th:only-of-type {\n",
       "        vertical-align: middle;\n",
       "    }\n",
       "\n",
       "    .dataframe tbody tr th {\n",
       "        vertical-align: top;\n",
       "    }\n",
       "\n",
       "    .dataframe thead th {\n",
       "        text-align: right;\n",
       "    }\n",
       "</style>\n",
       "<table border=\"1\" class=\"dataframe\">\n",
       "  <thead>\n",
       "    <tr style=\"text-align: right;\">\n",
       "      <th></th>\n",
       "      <th></th>\n",
       "      <th>0</th>\n",
       "    </tr>\n",
       "    <tr>\n",
       "      <th>nodeInformation_idx</th>\n",
       "      <th></th>\n",
       "      <th></th>\n",
       "    </tr>\n",
       "  </thead>\n",
       "  <tbody>\n",
       "    <tr>\n",
       "      <th rowspan=\"7\" valign=\"top\">nodeInformation_idx_0</th>\n",
       "      <th>$id</th>\n",
       "      <td>https://lampdev02.pnl.gov/bigg006/idreamdrupal/</td>\n",
       "    </tr>\n",
       "    <tr>\n",
       "      <th>description</th>\n",
       "      <td>Extracted figures.</td>\n",
       "    </tr>\n",
       "    <tr>\n",
       "      <th>experimentSubType</th>\n",
       "      <td>Al_NMR</td>\n",
       "    </tr>\n",
       "    <tr>\n",
       "      <th>filename</th>\n",
       "      <td>sipos_2006_talanta_nmr_figs.json</td>\n",
       "    </tr>\n",
       "    <tr>\n",
       "      <th>publicReleaseDate</th>\n",
       "      <td>2006-03-13</td>\n",
       "    </tr>\n",
       "    <tr>\n",
       "      <th>submissionDate</th>\n",
       "      <td>2018-5-25</td>\n",
       "    </tr>\n",
       "    <tr>\n",
       "      <th>title</th>\n",
       "      <td>Sipos 2006, Talanta NMR Figures</td>\n",
       "    </tr>\n",
       "  </tbody>\n",
       "</table>\n",
       "</div>"
      ],
      "text/plain": [
       "                                                                                       0\n",
       "nodeInformation_idx                                                                     \n",
       "nodeInformation_idx_0 $id                https://lampdev02.pnl.gov/bigg006/idreamdrupal/\n",
       "                      description                                     Extracted figures.\n",
       "                      experimentSubType                                           Al_NMR\n",
       "                      filename                          sipos_2006_talanta_nmr_figs.json\n",
       "                      publicReleaseDate                                       2006-03-13\n",
       "                      submissionDate                                           2018-5-25\n",
       "                      title                              Sipos 2006, Talanta NMR Figures"
      ]
     },
     "metadata": {},
     "output_type": "display_data"
    },
    {
     "data": {
      "text/html": [
       "<div>\n",
       "<style scoped>\n",
       "    .dataframe tbody tr th:only-of-type {\n",
       "        vertical-align: middle;\n",
       "    }\n",
       "\n",
       "    .dataframe tbody tr th {\n",
       "        vertical-align: top;\n",
       "    }\n",
       "\n",
       "    .dataframe thead th {\n",
       "        text-align: right;\n",
       "    }\n",
       "</style>\n",
       "<table border=\"1\" class=\"dataframe\">\n",
       "  <thead>\n",
       "    <tr style=\"text-align: right;\">\n",
       "      <th></th>\n",
       "      <th></th>\n",
       "      <th>0</th>\n",
       "    </tr>\n",
       "    <tr>\n",
       "      <th>studyFactors_idx</th>\n",
       "      <th></th>\n",
       "      <th></th>\n",
       "    </tr>\n",
       "  </thead>\n",
       "  <tbody>\n",
       "    <tr>\n",
       "      <th rowspan=\"3\" valign=\"top\">studyFactors_idx_0</th>\n",
       "      <th>decimalValue</th>\n",
       "      <td>25</td>\n",
       "    </tr>\n",
       "    <tr>\n",
       "      <th>factorType</th>\n",
       "      <td>Measurement Condition</td>\n",
       "    </tr>\n",
       "    <tr>\n",
       "      <th>unitRef</th>\n",
       "      <td>Celsius</td>\n",
       "    </tr>\n",
       "  </tbody>\n",
       "</table>\n",
       "</div>"
      ],
      "text/plain": [
       "                                                     0\n",
       "studyFactors_idx                                      \n",
       "studyFactors_idx_0 decimalValue                     25\n",
       "                   factorType    Measurement Condition\n",
       "                   unitRef                     Celsius"
      ]
     },
     "metadata": {},
     "output_type": "display_data"
    },
    {
     "data": {
      "text/html": [
       "<div>\n",
       "<style scoped>\n",
       "    .dataframe tbody tr th:only-of-type {\n",
       "        vertical-align: middle;\n",
       "    }\n",
       "\n",
       "    .dataframe tbody tr th {\n",
       "        vertical-align: top;\n",
       "    }\n",
       "\n",
       "    .dataframe thead th {\n",
       "        text-align: right;\n",
       "    }\n",
       "</style>\n",
       "<table border=\"1\" class=\"dataframe\">\n",
       "  <thead>\n",
       "    <tr style=\"text-align: right;\">\n",
       "      <th></th>\n",
       "      <th></th>\n",
       "      <th>0</th>\n",
       "    </tr>\n",
       "    <tr>\n",
       "      <th>studyFactors_idx</th>\n",
       "      <th></th>\n",
       "      <th></th>\n",
       "    </tr>\n",
       "  </thead>\n",
       "  <tbody>\n",
       "    <tr>\n",
       "      <th rowspan=\"3\" valign=\"top\">studyFactors_idx_1</th>\n",
       "      <th>csvColumnIndex</th>\n",
       "      <td>1</td>\n",
       "    </tr>\n",
       "    <tr>\n",
       "      <th>factorType</th>\n",
       "      <td>Measurement</td>\n",
       "    </tr>\n",
       "    <tr>\n",
       "      <th>unitRef</th>\n",
       "      <td>ppm</td>\n",
       "    </tr>\n",
       "  </tbody>\n",
       "</table>\n",
       "</div>"
      ],
      "text/plain": [
       "                                             0\n",
       "studyFactors_idx                              \n",
       "studyFactors_idx_1 csvColumnIndex            1\n",
       "                   factorType      Measurement\n",
       "                   unitRef                 ppm"
      ]
     },
     "metadata": {},
     "output_type": "display_data"
    },
    {
     "data": {
      "text/html": [
       "<div>\n",
       "<style scoped>\n",
       "    .dataframe tbody tr th:only-of-type {\n",
       "        vertical-align: middle;\n",
       "    }\n",
       "\n",
       "    .dataframe tbody tr th {\n",
       "        vertical-align: top;\n",
       "    }\n",
       "\n",
       "    .dataframe thead th {\n",
       "        text-align: right;\n",
       "    }\n",
       "</style>\n",
       "<table border=\"1\" class=\"dataframe\">\n",
       "  <thead>\n",
       "    <tr style=\"text-align: right;\">\n",
       "      <th></th>\n",
       "      <th></th>\n",
       "      <th>0</th>\n",
       "    </tr>\n",
       "    <tr>\n",
       "      <th>studyFactors_idx</th>\n",
       "      <th></th>\n",
       "      <th></th>\n",
       "    </tr>\n",
       "  </thead>\n",
       "  <tbody>\n",
       "    <tr>\n",
       "      <th rowspan=\"3\" valign=\"top\">studyFactors_idx_2</th>\n",
       "      <th>decimalValue</th>\n",
       "      <td>78.204</td>\n",
       "    </tr>\n",
       "    <tr>\n",
       "      <th>factorType</th>\n",
       "      <td>Measurement Condition</td>\n",
       "    </tr>\n",
       "    <tr>\n",
       "      <th>unitRef</th>\n",
       "      <td>MHz</td>\n",
       "    </tr>\n",
       "  </tbody>\n",
       "</table>\n",
       "</div>"
      ],
      "text/plain": [
       "                                                     0\n",
       "studyFactors_idx                                      \n",
       "studyFactors_idx_2 decimalValue                 78.204\n",
       "                   factorType    Measurement Condition\n",
       "                   unitRef                         MHz"
      ]
     },
     "metadata": {},
     "output_type": "display_data"
    },
    {
     "data": {
      "text/html": [
       "<div>\n",
       "<style scoped>\n",
       "    .dataframe tbody tr th:only-of-type {\n",
       "        vertical-align: middle;\n",
       "    }\n",
       "\n",
       "    .dataframe tbody tr th {\n",
       "        vertical-align: top;\n",
       "    }\n",
       "\n",
       "    .dataframe thead th {\n",
       "        text-align: right;\n",
       "    }\n",
       "</style>\n",
       "<table border=\"1\" class=\"dataframe\">\n",
       "  <thead>\n",
       "    <tr style=\"text-align: right;\">\n",
       "      <th></th>\n",
       "      <th></th>\n",
       "      <th>0</th>\n",
       "    </tr>\n",
       "    <tr>\n",
       "      <th>studyFactors_idx</th>\n",
       "      <th></th>\n",
       "      <th></th>\n",
       "    </tr>\n",
       "  </thead>\n",
       "  <tbody>\n",
       "    <tr>\n",
       "      <th rowspan=\"3\" valign=\"top\">studyFactors_idx_3</th>\n",
       "      <th>RefValue</th>\n",
       "      <td>[KAl(SO4)2]</td>\n",
       "    </tr>\n",
       "    <tr>\n",
       "      <th>factorType</th>\n",
       "      <td>Measurement Reference</td>\n",
       "    </tr>\n",
       "    <tr>\n",
       "      <th>unitRef</th>\n",
       "      <td>Reference Compound</td>\n",
       "    </tr>\n",
       "  </tbody>\n",
       "</table>\n",
       "</div>"
      ],
      "text/plain": [
       "                                                   0\n",
       "studyFactors_idx                                    \n",
       "studyFactors_idx_3 RefValue              [KAl(SO4)2]\n",
       "                   factorType  Measurement Reference\n",
       "                   unitRef        Reference Compound"
      ]
     },
     "metadata": {},
     "output_type": "display_data"
    },
    {
     "data": {
      "text/html": [
       "<div>\n",
       "<style scoped>\n",
       "    .dataframe tbody tr th:only-of-type {\n",
       "        vertical-align: middle;\n",
       "    }\n",
       "\n",
       "    .dataframe tbody tr th {\n",
       "        vertical-align: top;\n",
       "    }\n",
       "\n",
       "    .dataframe thead th {\n",
       "        text-align: right;\n",
       "    }\n",
       "</style>\n",
       "<table border=\"1\" class=\"dataframe\">\n",
       "  <thead>\n",
       "    <tr style=\"text-align: right;\">\n",
       "      <th></th>\n",
       "      <th></th>\n",
       "      <th>0</th>\n",
       "    </tr>\n",
       "    <tr>\n",
       "      <th>studySamples_idx</th>\n",
       "      <th></th>\n",
       "      <th></th>\n",
       "    </tr>\n",
       "  </thead>\n",
       "  <tbody>\n",
       "    <tr>\n",
       "      <th rowspan=\"13\" valign=\"top\">studySamples_idx_0</th>\n",
       "      <th>sampleName</th>\n",
       "      <td>Aluminate Solution</td>\n",
       "    </tr>\n",
       "    <tr>\n",
       "      <th>sources.materialCharacteristic.RefValue</th>\n",
       "      <td>Purity by Weight</td>\n",
       "    </tr>\n",
       "    <tr>\n",
       "      <th>sources.materialCharacteristic.decimalValue</th>\n",
       "      <td>0.98</td>\n",
       "    </tr>\n",
       "    <tr>\n",
       "      <th>sources.materialCharacteristic.factorType</th>\n",
       "      <td>Material Property</td>\n",
       "    </tr>\n",
       "    <tr>\n",
       "      <th>sources.materialCharacteristic.unitRef</th>\n",
       "      <td>Percent</td>\n",
       "    </tr>\n",
       "    <tr>\n",
       "      <th>sources.sourceName</th>\n",
       "      <td>Aluminum Wire</td>\n",
       "    </tr>\n",
       "    <tr>\n",
       "      <th>sources.species.speciesReference</th>\n",
       "      <td>Al(III)</td>\n",
       "    </tr>\n",
       "    <tr>\n",
       "      <th>sources.species.stoichiometry</th>\n",
       "      <td>1</td>\n",
       "    </tr>\n",
       "    <tr>\n",
       "      <th>species.speciesReference</th>\n",
       "      <td>Al(III)</td>\n",
       "    </tr>\n",
       "    <tr>\n",
       "      <th>species.stoichiometry</th>\n",
       "      <td>1</td>\n",
       "    </tr>\n",
       "    <tr>\n",
       "      <th>studySampleFactors.decimalValue</th>\n",
       "      <td>0.005</td>\n",
       "    </tr>\n",
       "    <tr>\n",
       "      <th>studySampleFactors.factorType</th>\n",
       "      <td>Measurement Condition</td>\n",
       "    </tr>\n",
       "    <tr>\n",
       "      <th>studySampleFactors.unitRef</th>\n",
       "      <td>Molar</td>\n",
       "    </tr>\n",
       "  </tbody>\n",
       "</table>\n",
       "</div>"
      ],
      "text/plain": [
       "                                                                                    0\n",
       "studySamples_idx                                                                     \n",
       "studySamples_idx_0 sampleName                                      Aluminate Solution\n",
       "                   sources.materialCharacteristic.RefValue           Purity by Weight\n",
       "                   sources.materialCharacteristic.decimalValue                   0.98\n",
       "                   sources.materialCharacteristic.factorType        Material Property\n",
       "                   sources.materialCharacteristic.unitRef                     Percent\n",
       "                   sources.sourceName                                   Aluminum Wire\n",
       "                   sources.species.speciesReference                           Al(III)\n",
       "                   sources.species.stoichiometry                                    1\n",
       "                   species.speciesReference                                   Al(III)\n",
       "                   species.stoichiometry                                            1\n",
       "                   studySampleFactors.decimalValue                              0.005\n",
       "                   studySampleFactors.factorType                Measurement Condition\n",
       "                   studySampleFactors.unitRef                                   Molar"
      ]
     },
     "metadata": {},
     "output_type": "display_data"
    },
    {
     "data": {
      "text/html": [
       "<div>\n",
       "<style scoped>\n",
       "    .dataframe tbody tr th:only-of-type {\n",
       "        vertical-align: middle;\n",
       "    }\n",
       "\n",
       "    .dataframe tbody tr th {\n",
       "        vertical-align: top;\n",
       "    }\n",
       "\n",
       "    .dataframe thead th {\n",
       "        text-align: right;\n",
       "    }\n",
       "</style>\n",
       "<table border=\"1\" class=\"dataframe\">\n",
       "  <thead>\n",
       "    <tr style=\"text-align: right;\">\n",
       "      <th></th>\n",
       "      <th></th>\n",
       "      <th>0</th>\n",
       "    </tr>\n",
       "    <tr>\n",
       "      <th>studySamples_idx</th>\n",
       "      <th></th>\n",
       "      <th></th>\n",
       "    </tr>\n",
       "  </thead>\n",
       "  <tbody>\n",
       "    <tr>\n",
       "      <th rowspan=\"13\" valign=\"top\">studySamples_idx_1</th>\n",
       "      <th>sampleName</th>\n",
       "      <td>Demo second Solution</td>\n",
       "    </tr>\n",
       "    <tr>\n",
       "      <th>sources.materialCharacteristic.RefValue</th>\n",
       "      <td>Density</td>\n",
       "    </tr>\n",
       "    <tr>\n",
       "      <th>sources.materialCharacteristic.decimalValue</th>\n",
       "      <td>1.05</td>\n",
       "    </tr>\n",
       "    <tr>\n",
       "      <th>sources.materialCharacteristic.factorType</th>\n",
       "      <td>Material Property</td>\n",
       "    </tr>\n",
       "    <tr>\n",
       "      <th>sources.materialCharacteristic.unitRef</th>\n",
       "      <td>g/cm^3</td>\n",
       "    </tr>\n",
       "    <tr>\n",
       "      <th>sources.sourceName</th>\n",
       "      <td>Demo second source.</td>\n",
       "    </tr>\n",
       "    <tr>\n",
       "      <th>sources.species.speciesReference</th>\n",
       "      <td>Fake</td>\n",
       "    </tr>\n",
       "    <tr>\n",
       "      <th>sources.species.stoichiometry</th>\n",
       "      <td>1</td>\n",
       "    </tr>\n",
       "    <tr>\n",
       "      <th>species.speciesReference</th>\n",
       "      <td>Fake</td>\n",
       "    </tr>\n",
       "    <tr>\n",
       "      <th>species.stoichiometry</th>\n",
       "      <td>2</td>\n",
       "    </tr>\n",
       "    <tr>\n",
       "      <th>studySampleFactors.decimalValue</th>\n",
       "      <td>0.006</td>\n",
       "    </tr>\n",
       "    <tr>\n",
       "      <th>studySampleFactors.factorType</th>\n",
       "      <td>Measurement Condition</td>\n",
       "    </tr>\n",
       "    <tr>\n",
       "      <th>studySampleFactors.unitRef</th>\n",
       "      <td>Molar</td>\n",
       "    </tr>\n",
       "  </tbody>\n",
       "</table>\n",
       "</div>"
      ],
      "text/plain": [
       "                                                                                    0\n",
       "studySamples_idx                                                                     \n",
       "studySamples_idx_1 sampleName                                    Demo second Solution\n",
       "                   sources.materialCharacteristic.RefValue                    Density\n",
       "                   sources.materialCharacteristic.decimalValue                   1.05\n",
       "                   sources.materialCharacteristic.factorType        Material Property\n",
       "                   sources.materialCharacteristic.unitRef                      g/cm^3\n",
       "                   sources.sourceName                             Demo second source.\n",
       "                   sources.species.speciesReference                              Fake\n",
       "                   sources.species.stoichiometry                                    1\n",
       "                   species.speciesReference                                      Fake\n",
       "                   species.stoichiometry                                            2\n",
       "                   studySampleFactors.decimalValue                              0.006\n",
       "                   studySampleFactors.factorType                Measurement Condition\n",
       "                   studySampleFactors.unitRef                                   Molar"
      ]
     },
     "metadata": {},
     "output_type": "display_data"
    },
    {
     "data": {
      "text/html": [
       "<div>\n",
       "<style scoped>\n",
       "    .dataframe tbody tr th:only-of-type {\n",
       "        vertical-align: middle;\n",
       "    }\n",
       "\n",
       "    .dataframe tbody tr th {\n",
       "        vertical-align: top;\n",
       "    }\n",
       "\n",
       "    .dataframe thead th {\n",
       "        text-align: right;\n",
       "    }\n",
       "</style>\n",
       "<table border=\"1\" class=\"dataframe\">\n",
       "  <thead>\n",
       "    <tr style=\"text-align: right;\">\n",
       "      <th></th>\n",
       "      <th></th>\n",
       "      <th>0</th>\n",
       "    </tr>\n",
       "    <tr>\n",
       "      <th>studySamples_idx</th>\n",
       "      <th></th>\n",
       "      <th></th>\n",
       "    </tr>\n",
       "  </thead>\n",
       "  <tbody>\n",
       "    <tr>\n",
       "      <th rowspan=\"12\" valign=\"top\">studySamples_idx_2</th>\n",
       "      <th>sampleName</th>\n",
       "      <td>Demo second Solution</td>\n",
       "    </tr>\n",
       "    <tr>\n",
       "      <th>sources.materialCharacteristic.RefValue</th>\n",
       "      <td>Poor</td>\n",
       "    </tr>\n",
       "    <tr>\n",
       "      <th>sources.materialCharacteristic.factorType</th>\n",
       "      <td>Material Property</td>\n",
       "    </tr>\n",
       "    <tr>\n",
       "      <th>sources.materialCharacteristic.unitRef</th>\n",
       "      <td>Quality</td>\n",
       "    </tr>\n",
       "    <tr>\n",
       "      <th>sources.sourceName</th>\n",
       "      <td>Demo second source.</td>\n",
       "    </tr>\n",
       "    <tr>\n",
       "      <th>sources.species.speciesReference</th>\n",
       "      <td>Fake</td>\n",
       "    </tr>\n",
       "    <tr>\n",
       "      <th>sources.species.stoichiometry</th>\n",
       "      <td>1</td>\n",
       "    </tr>\n",
       "    <tr>\n",
       "      <th>species.speciesReference</th>\n",
       "      <td>Fake</td>\n",
       "    </tr>\n",
       "    <tr>\n",
       "      <th>species.stoichiometry</th>\n",
       "      <td>2</td>\n",
       "    </tr>\n",
       "    <tr>\n",
       "      <th>studySampleFactors.decimalValue</th>\n",
       "      <td>0.006</td>\n",
       "    </tr>\n",
       "    <tr>\n",
       "      <th>studySampleFactors.factorType</th>\n",
       "      <td>Measurement Condition</td>\n",
       "    </tr>\n",
       "    <tr>\n",
       "      <th>studySampleFactors.unitRef</th>\n",
       "      <td>Molar</td>\n",
       "    </tr>\n",
       "  </tbody>\n",
       "</table>\n",
       "</div>"
      ],
      "text/plain": [
       "                                                                                  0\n",
       "studySamples_idx                                                                   \n",
       "studySamples_idx_2 sampleName                                  Demo second Solution\n",
       "                   sources.materialCharacteristic.RefValue                     Poor\n",
       "                   sources.materialCharacteristic.factorType      Material Property\n",
       "                   sources.materialCharacteristic.unitRef                   Quality\n",
       "                   sources.sourceName                           Demo second source.\n",
       "                   sources.species.speciesReference                            Fake\n",
       "                   sources.species.stoichiometry                                  1\n",
       "                   species.speciesReference                                    Fake\n",
       "                   species.stoichiometry                                          2\n",
       "                   studySampleFactors.decimalValue                            0.006\n",
       "                   studySampleFactors.factorType              Measurement Condition\n",
       "                   studySampleFactors.unitRef                                 Molar"
      ]
     },
     "metadata": {},
     "output_type": "display_data"
    },
    {
     "data": {
      "text/html": [
       "<div>\n",
       "<style scoped>\n",
       "    .dataframe tbody tr th:only-of-type {\n",
       "        vertical-align: middle;\n",
       "    }\n",
       "\n",
       "    .dataframe tbody tr th {\n",
       "        vertical-align: top;\n",
       "    }\n",
       "\n",
       "    .dataframe thead th {\n",
       "        text-align: right;\n",
       "    }\n",
       "</style>\n",
       "<table border=\"1\" class=\"dataframe\">\n",
       "  <thead>\n",
       "    <tr style=\"text-align: right;\">\n",
       "      <th></th>\n",
       "      <th></th>\n",
       "      <th>0</th>\n",
       "    </tr>\n",
       "    <tr>\n",
       "      <th>comments_idx</th>\n",
       "      <th></th>\n",
       "      <th></th>\n",
       "    </tr>\n",
       "  </thead>\n",
       "  <tbody>\n",
       "    <tr>\n",
       "      <th rowspan=\"2\" valign=\"top\">comments_idx_0</th>\n",
       "      <th>body</th>\n",
       "      <td>I manually pulled this points out with a web t...</td>\n",
       "    </tr>\n",
       "    <tr>\n",
       "      <th>name</th>\n",
       "      <td>Study level comment on Sipos 2006.</td>\n",
       "    </tr>\n",
       "  </tbody>\n",
       "</table>\n",
       "</div>"
      ],
      "text/plain": [
       "                                                                     0\n",
       "comments_idx                                                          \n",
       "comments_idx_0 body  I manually pulled this points out with a web t...\n",
       "               name                 Study level comment on Sipos 2006."
      ]
     },
     "metadata": {},
     "output_type": "display_data"
    }
   ],
   "source": [
    "# MODEL.metadata\n",
    "for df_list in MODEL.metadata.values():\n",
    "    for df in df_list:\n",
    "        display(df)"
   ]
  },
  {
   "cell_type": "code",
   "execution_count": null,
   "metadata": {},
   "outputs": [],
   "source": []
  },
  {
   "cell_type": "code",
   "execution_count": null,
   "metadata": {},
   "outputs": [],
   "source": []
  }
 ],
 "metadata": {
  "kernelspec": {
   "display_name": "Python 3.7.0",
   "language": "python",
   "name": "py37"
  },
  "language_info": {
   "codemirror_mode": {
    "name": "ipython",
    "version": 3
   },
   "file_extension": ".py",
   "mimetype": "text/x-python",
   "name": "python",
   "nbconvert_exporter": "python",
   "pygments_lexer": "ipython3",
   "version": "3.7.0"
  }
 },
 "nbformat": 4,
 "nbformat_minor": 2
}
