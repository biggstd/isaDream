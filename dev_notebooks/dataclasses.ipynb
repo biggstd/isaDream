{
 "cells": [
  {
   "cell_type": "markdown",
   "metadata": {},
   "source": [
    "# Data Classes\n",
    "\n",
    "**Overview**\n",
    "\n",
    "There are five top level groups in the `.json` file that contain information about a given *Node*. There are read into, and prepared by the `Model` class. The top level groups are:\n",
    "\n",
    "+ nodeInformation\n",
    "+ studyFactors\n",
    "+ studySamples\n",
    "+ assays\n",
    "+ comments"
   ]
  },
  {
   "cell_type": "markdown",
   "metadata": {},
   "source": [
    "*Setting up auto-reloading of the isadream package.*\n",
    "\n",
    "---"
   ]
  },
  {
   "cell_type": "markdown",
   "metadata": {},
   "source": [
    "# Plan Output of the Class\n",
    "\n",
    "I want the class to build and return a pandas dataframe upon request. I will have a controller that handles the multiple nodes, and hands them off to the Bokeh visualizations.\n",
    "\n",
    "```python\n",
    "# Create the node object from a json path.\n",
    "demo_node = io.read_dream_json(demo_json)\n",
    "```\n",
    "\n",
    "Request the data. We can assume that there is at least some usefull information in this node, as it was passed by the Drupal query. This should return a dataframe for every `Assay` object attached to the `DrupalNode`.\n",
    "\n",
    "\n",
    "```python\n",
    "# An individual frame will be constructed by a keyword query.\n",
    "demo_node.build_frame(**query_kwargs)\n",
    "```\n",
    "\n",
    "The controller then takes over and combines the dataframes for a Bokeh application.\n",
    "\n",
    "```python\n",
    "from controller import controller\n",
    "\n",
    "\n",
    "# Create an instance of the controller class.\n",
    "control = controller.Controller()\n",
    "\n",
    "# Create all the individual frames. Drop those that fail.\n",
    "frames = control.build_frames(*nodes, **query_kwargs)\n",
    "\n",
    "# Combine the frames to a single dataframe.\n",
    "# Convert that single frame to a format that Bokeh can read.\n",
    "combined_frames = control.combine_frames(frames)\n",
    "```"
   ]
  },
  {
   "cell_type": "code",
   "execution_count": 1,
   "metadata": {},
   "outputs": [],
   "source": [
    "# Path hack to allow imports from the parent directory.\n",
    "import sys, os\n",
    "from pprint import pprint\n",
    "sys.path.insert(0, os.path.abspath('../../'))"
   ]
  },
  {
   "cell_type": "code",
   "execution_count": 2,
   "metadata": {},
   "outputs": [],
   "source": [
    "%load_ext autoreload\n",
    "%autoreload 2"
   ]
  },
  {
   "cell_type": "code",
   "execution_count": 3,
   "metadata": {},
   "outputs": [],
   "source": [
    "import pandas as pd"
   ]
  },
  {
   "cell_type": "code",
   "execution_count": 72,
   "metadata": {},
   "outputs": [],
   "source": [
    "from isadream.isadream.models import utils, elemental, containers\n",
    "from isadream.isadream import io"
   ]
  },
  {
   "cell_type": "code",
   "execution_count": 100,
   "metadata": {},
   "outputs": [],
   "source": [
    "demo_json = utils.SIPOS_DEMO\n",
    "demo_json = io.read_idream_json(demo_json)\n",
    "node = io.parse_json(demo_json)"
   ]
  },
  {
   "cell_type": "code",
   "execution_count": 101,
   "metadata": {},
   "outputs": [],
   "source": [
    "# node"
   ]
  },
  {
   "cell_type": "code",
   "execution_count": 102,
   "metadata": {},
   "outputs": [
    {
     "data": {
      "text/plain": [
       "<isadream.isadream.models.nodal.DrupalNode at 0x7fe119ac4f28>"
      ]
     },
     "execution_count": 102,
     "metadata": {},
     "output_type": "execute_result"
    }
   ],
   "source": [
    "node"
   ]
  },
  {
   "cell_type": "code",
   "execution_count": 103,
   "metadata": {},
   "outputs": [
    {
     "data": {
      "text/plain": [
       "{'$id': 'https://lampdev02.pnl.gov/bigg006/idreamdrupal/', 'title': 'Sipos 2006, Talanta NMR Figures', 'filename': 'sipos_2006_talanta_nmr_figs.json', 'description': 'Extracted figures.', 'submissionDate': '2018-5-25', 'publicReleaseDate': '2006-03-13', 'experimentSubType': 'Al_NMR'}"
      ]
     },
     "execution_count": 103,
     "metadata": {},
     "output_type": "execute_result"
    }
   ],
   "source": [
    "node.info"
   ]
  },
  {
   "cell_type": "code",
   "execution_count": 106,
   "metadata": {},
   "outputs": [
    {
     "data": {
      "text/html": [
       "<div>\n",
       "<style scoped>\n",
       "    .dataframe tbody tr th:only-of-type {\n",
       "        vertical-align: middle;\n",
       "    }\n",
       "\n",
       "    .dataframe tbody tr th {\n",
       "        vertical-align: top;\n",
       "    }\n",
       "\n",
       "    .dataframe thead th {\n",
       "        text-align: right;\n",
       "    }\n",
       "</style>\n",
       "<table border=\"1\" class=\"dataframe\">\n",
       "  <thead>\n",
       "    <tr style=\"text-align: right;\">\n",
       "      <th></th>\n",
       "      <th>0</th>\n",
       "      <th>1</th>\n",
       "      <th>2</th>\n",
       "      <th>3</th>\n",
       "      <th>4</th>\n",
       "    </tr>\n",
       "  </thead>\n",
       "  <tbody>\n",
       "    <tr>\n",
       "      <th>((Material_Property, Density, g/cm^3), ((Fake, 1.0), (Fake, 2.0)))</th>\n",
       "      <td>1.05</td>\n",
       "      <td>1.05</td>\n",
       "      <td>1.05</td>\n",
       "      <td>1.05</td>\n",
       "      <td>1.05</td>\n",
       "    </tr>\n",
       "    <tr>\n",
       "      <th>((Material_Property, Poor, Quality), ((Fake, 1.0), (Fake, 2.0)))</th>\n",
       "      <td>Poor</td>\n",
       "      <td>Poor</td>\n",
       "      <td>Poor</td>\n",
       "      <td>Poor</td>\n",
       "      <td>Poor</td>\n",
       "    </tr>\n",
       "    <tr>\n",
       "      <th>((Material_Property, Purity_by_Weight, Percent), ((Al(III), 1.0),))</th>\n",
       "      <td>0.98</td>\n",
       "      <td>0.98</td>\n",
       "      <td>0.98</td>\n",
       "      <td>0.98</td>\n",
       "      <td>0.98</td>\n",
       "    </tr>\n",
       "    <tr>\n",
       "      <th>((Measurement_Condition, Molar), ((Al(III), 1.0),))</th>\n",
       "      <td>0.005</td>\n",
       "      <td>0.005</td>\n",
       "      <td>0.005</td>\n",
       "      <td>0.005</td>\n",
       "      <td>0.005</td>\n",
       "    </tr>\n",
       "    <tr>\n",
       "      <th>((Measurement_Condition, Molar), ((Fake, 1.0), (Fake, 2.0)))</th>\n",
       "      <td>0.006</td>\n",
       "      <td>0.006</td>\n",
       "      <td>0.006</td>\n",
       "      <td>0.006</td>\n",
       "      <td>0.006</td>\n",
       "    </tr>\n",
       "    <tr>\n",
       "      <th>((Measurement_Condition, Molar), ((OH-, 1.0), (K+, 1.0)))</th>\n",
       "      <td>2.93</td>\n",
       "      <td>4.92</td>\n",
       "      <td>6.85</td>\n",
       "      <td>9.13</td>\n",
       "      <td>10.71</td>\n",
       "    </tr>\n",
       "  </tbody>\n",
       "</table>\n",
       "</div>"
      ],
      "text/plain": [
       "                                                        0      1      2  \\\n",
       "((Material_Property, Density, g/cm^3), ((Fake, ...   1.05   1.05   1.05   \n",
       "((Material_Property, Poor, Quality), ((Fake, 1....   Poor   Poor   Poor   \n",
       "((Material_Property, Purity_by_Weight, Percent)...   0.98   0.98   0.98   \n",
       "((Measurement_Condition, Molar), ((Al(III), 1.0...  0.005  0.005  0.005   \n",
       "((Measurement_Condition, Molar), ((Fake, 1.0), ...  0.006  0.006  0.006   \n",
       "((Measurement_Condition, Molar), ((OH-, 1.0), (...   2.93   4.92   6.85   \n",
       "\n",
       "                                                        3      4  \n",
       "((Material_Property, Density, g/cm^3), ((Fake, ...   1.05   1.05  \n",
       "((Material_Property, Poor, Quality), ((Fake, 1....   Poor   Poor  \n",
       "((Material_Property, Purity_by_Weight, Percent)...   0.98   0.98  \n",
       "((Measurement_Condition, Molar), ((Al(III), 1.0...  0.005  0.005  \n",
       "((Measurement_Condition, Molar), ((Fake, 1.0), ...  0.006  0.006  \n",
       "((Measurement_Condition, Molar), ((OH-, 1.0), (...   9.13  10.71  "
      ]
     },
     "metadata": {},
     "output_type": "display_data"
    },
    {
     "data": {
      "text/html": [
       "<div>\n",
       "<style scoped>\n",
       "    .dataframe tbody tr th:only-of-type {\n",
       "        vertical-align: middle;\n",
       "    }\n",
       "\n",
       "    .dataframe tbody tr th {\n",
       "        vertical-align: top;\n",
       "    }\n",
       "\n",
       "    .dataframe thead th {\n",
       "        text-align: right;\n",
       "    }\n",
       "</style>\n",
       "<table border=\"1\" class=\"dataframe\">\n",
       "  <thead>\n",
       "    <tr style=\"text-align: right;\">\n",
       "      <th></th>\n",
       "      <th>0</th>\n",
       "      <th>1</th>\n",
       "      <th>2</th>\n",
       "      <th>3</th>\n",
       "      <th>4</th>\n",
       "      <th>5</th>\n",
       "      <th>6</th>\n",
       "      <th>7</th>\n",
       "    </tr>\n",
       "  </thead>\n",
       "  <tbody>\n",
       "    <tr>\n",
       "      <th>((Material_Property, Density, g/cm^3), ((Fake, 1.0), (Fake, 2.0)))</th>\n",
       "      <td>1.05</td>\n",
       "      <td>1.05</td>\n",
       "      <td>1.05</td>\n",
       "      <td>1.05</td>\n",
       "      <td>1.05</td>\n",
       "      <td>1.05</td>\n",
       "      <td>1.05</td>\n",
       "      <td>1.05</td>\n",
       "    </tr>\n",
       "    <tr>\n",
       "      <th>((Material_Property, Poor, Quality), ((Fake, 1.0), (Fake, 2.0)))</th>\n",
       "      <td>Poor</td>\n",
       "      <td>Poor</td>\n",
       "      <td>Poor</td>\n",
       "      <td>Poor</td>\n",
       "      <td>Poor</td>\n",
       "      <td>Poor</td>\n",
       "      <td>Poor</td>\n",
       "      <td>Poor</td>\n",
       "    </tr>\n",
       "    <tr>\n",
       "      <th>((Material_Property, Purity_by_Weight, Percent), ((Al(III), 1.0),))</th>\n",
       "      <td>0.98</td>\n",
       "      <td>0.98</td>\n",
       "      <td>0.98</td>\n",
       "      <td>0.98</td>\n",
       "      <td>0.98</td>\n",
       "      <td>0.98</td>\n",
       "      <td>0.98</td>\n",
       "      <td>0.98</td>\n",
       "    </tr>\n",
       "    <tr>\n",
       "      <th>((Measurement_Condition, Molar), ((Al(III), 1.0),))</th>\n",
       "      <td>0.005</td>\n",
       "      <td>0.005</td>\n",
       "      <td>0.005</td>\n",
       "      <td>0.005</td>\n",
       "      <td>0.005</td>\n",
       "      <td>0.005</td>\n",
       "      <td>0.005</td>\n",
       "      <td>0.005</td>\n",
       "    </tr>\n",
       "    <tr>\n",
       "      <th>((Measurement_Condition, Molar), ((Fake, 1.0), (Fake, 2.0)))</th>\n",
       "      <td>0.006</td>\n",
       "      <td>0.006</td>\n",
       "      <td>0.006</td>\n",
       "      <td>0.006</td>\n",
       "      <td>0.006</td>\n",
       "      <td>0.006</td>\n",
       "      <td>0.006</td>\n",
       "      <td>0.006</td>\n",
       "    </tr>\n",
       "    <tr>\n",
       "      <th>((Measurement_Condition, Molar), ((OH-, 1.0), (Li+, 1.0)))</th>\n",
       "      <td>0.66</td>\n",
       "      <td>1.1</td>\n",
       "      <td>1.64</td>\n",
       "      <td>2.14</td>\n",
       "      <td>2.59</td>\n",
       "      <td>3.11</td>\n",
       "      <td>3.59</td>\n",
       "      <td>4.11</td>\n",
       "    </tr>\n",
       "  </tbody>\n",
       "</table>\n",
       "</div>"
      ],
      "text/plain": [
       "                                                        0      1      2  \\\n",
       "((Material_Property, Density, g/cm^3), ((Fake, ...   1.05   1.05   1.05   \n",
       "((Material_Property, Poor, Quality), ((Fake, 1....   Poor   Poor   Poor   \n",
       "((Material_Property, Purity_by_Weight, Percent)...   0.98   0.98   0.98   \n",
       "((Measurement_Condition, Molar), ((Al(III), 1.0...  0.005  0.005  0.005   \n",
       "((Measurement_Condition, Molar), ((Fake, 1.0), ...  0.006  0.006  0.006   \n",
       "((Measurement_Condition, Molar), ((OH-, 1.0), (...   0.66    1.1   1.64   \n",
       "\n",
       "                                                        3      4      5  \\\n",
       "((Material_Property, Density, g/cm^3), ((Fake, ...   1.05   1.05   1.05   \n",
       "((Material_Property, Poor, Quality), ((Fake, 1....   Poor   Poor   Poor   \n",
       "((Material_Property, Purity_by_Weight, Percent)...   0.98   0.98   0.98   \n",
       "((Measurement_Condition, Molar), ((Al(III), 1.0...  0.005  0.005  0.005   \n",
       "((Measurement_Condition, Molar), ((Fake, 1.0), ...  0.006  0.006  0.006   \n",
       "((Measurement_Condition, Molar), ((OH-, 1.0), (...   2.14   2.59   3.11   \n",
       "\n",
       "                                                        6      7  \n",
       "((Material_Property, Density, g/cm^3), ((Fake, ...   1.05   1.05  \n",
       "((Material_Property, Poor, Quality), ((Fake, 1....   Poor   Poor  \n",
       "((Material_Property, Purity_by_Weight, Percent)...   0.98   0.98  \n",
       "((Measurement_Condition, Molar), ((Al(III), 1.0...  0.005  0.005  \n",
       "((Measurement_Condition, Molar), ((Fake, 1.0), ...  0.006  0.006  \n",
       "((Measurement_Condition, Molar), ((OH-, 1.0), (...   3.59   4.11  "
      ]
     },
     "metadata": {},
     "output_type": "display_data"
    },
    {
     "data": {
      "text/html": [
       "<div>\n",
       "<style scoped>\n",
       "    .dataframe tbody tr th:only-of-type {\n",
       "        vertical-align: middle;\n",
       "    }\n",
       "\n",
       "    .dataframe tbody tr th {\n",
       "        vertical-align: top;\n",
       "    }\n",
       "\n",
       "    .dataframe thead th {\n",
       "        text-align: right;\n",
       "    }\n",
       "</style>\n",
       "<table border=\"1\" class=\"dataframe\">\n",
       "  <thead>\n",
       "    <tr style=\"text-align: right;\">\n",
       "      <th></th>\n",
       "      <th>0</th>\n",
       "      <th>1</th>\n",
       "      <th>2</th>\n",
       "      <th>3</th>\n",
       "      <th>4</th>\n",
       "      <th>5</th>\n",
       "      <th>6</th>\n",
       "      <th>7</th>\n",
       "      <th>8</th>\n",
       "    </tr>\n",
       "  </thead>\n",
       "  <tbody>\n",
       "    <tr>\n",
       "      <th>((Material_Property, Density, g/cm^3), ((Fake, 1.0), (Fake, 2.0)))</th>\n",
       "      <td>1.05</td>\n",
       "      <td>1.05</td>\n",
       "      <td>1.05</td>\n",
       "      <td>1.05</td>\n",
       "      <td>1.05</td>\n",
       "      <td>1.05</td>\n",
       "      <td>1.05</td>\n",
       "      <td>1.05</td>\n",
       "      <td>1.05</td>\n",
       "    </tr>\n",
       "    <tr>\n",
       "      <th>((Material_Property, Poor, Quality), ((Fake, 1.0), (Fake, 2.0)))</th>\n",
       "      <td>Poor</td>\n",
       "      <td>Poor</td>\n",
       "      <td>Poor</td>\n",
       "      <td>Poor</td>\n",
       "      <td>Poor</td>\n",
       "      <td>Poor</td>\n",
       "      <td>Poor</td>\n",
       "      <td>Poor</td>\n",
       "      <td>Poor</td>\n",
       "    </tr>\n",
       "    <tr>\n",
       "      <th>((Material_Property, Purity_by_Weight, Percent), ((Al(III), 1.0),))</th>\n",
       "      <td>0.98</td>\n",
       "      <td>0.98</td>\n",
       "      <td>0.98</td>\n",
       "      <td>0.98</td>\n",
       "      <td>0.98</td>\n",
       "      <td>0.98</td>\n",
       "      <td>0.98</td>\n",
       "      <td>0.98</td>\n",
       "      <td>0.98</td>\n",
       "    </tr>\n",
       "    <tr>\n",
       "      <th>((Measurement_Condition, Molar), ((Al(III), 1.0),))</th>\n",
       "      <td>0.005</td>\n",
       "      <td>0.005</td>\n",
       "      <td>0.005</td>\n",
       "      <td>0.005</td>\n",
       "      <td>0.005</td>\n",
       "      <td>0.005</td>\n",
       "      <td>0.005</td>\n",
       "      <td>0.005</td>\n",
       "      <td>0.005</td>\n",
       "    </tr>\n",
       "    <tr>\n",
       "      <th>((Measurement_Condition, Molar), ((Fake, 1.0), (Fake, 2.0)))</th>\n",
       "      <td>0.006</td>\n",
       "      <td>0.006</td>\n",
       "      <td>0.006</td>\n",
       "      <td>0.006</td>\n",
       "      <td>0.006</td>\n",
       "      <td>0.006</td>\n",
       "      <td>0.006</td>\n",
       "      <td>0.006</td>\n",
       "      <td>0.006</td>\n",
       "    </tr>\n",
       "    <tr>\n",
       "      <th>((Measurement_Condition, Molar), ((Na+, 1.0), (OH-, 1.0)))</th>\n",
       "      <td>4.98</td>\n",
       "      <td>0.93</td>\n",
       "      <td>6.97</td>\n",
       "      <td>8.96</td>\n",
       "      <td>10.95</td>\n",
       "      <td>12.99</td>\n",
       "      <td>14.92</td>\n",
       "      <td>16.97</td>\n",
       "      <td>18.92</td>\n",
       "    </tr>\n",
       "  </tbody>\n",
       "</table>\n",
       "</div>"
      ],
      "text/plain": [
       "                                                        0      1      2  \\\n",
       "((Material_Property, Density, g/cm^3), ((Fake, ...   1.05   1.05   1.05   \n",
       "((Material_Property, Poor, Quality), ((Fake, 1....   Poor   Poor   Poor   \n",
       "((Material_Property, Purity_by_Weight, Percent)...   0.98   0.98   0.98   \n",
       "((Measurement_Condition, Molar), ((Al(III), 1.0...  0.005  0.005  0.005   \n",
       "((Measurement_Condition, Molar), ((Fake, 1.0), ...  0.006  0.006  0.006   \n",
       "((Measurement_Condition, Molar), ((Na+, 1.0), (...   4.98   0.93   6.97   \n",
       "\n",
       "                                                        3      4      5  \\\n",
       "((Material_Property, Density, g/cm^3), ((Fake, ...   1.05   1.05   1.05   \n",
       "((Material_Property, Poor, Quality), ((Fake, 1....   Poor   Poor   Poor   \n",
       "((Material_Property, Purity_by_Weight, Percent)...   0.98   0.98   0.98   \n",
       "((Measurement_Condition, Molar), ((Al(III), 1.0...  0.005  0.005  0.005   \n",
       "((Measurement_Condition, Molar), ((Fake, 1.0), ...  0.006  0.006  0.006   \n",
       "((Measurement_Condition, Molar), ((Na+, 1.0), (...   8.96  10.95  12.99   \n",
       "\n",
       "                                                        6      7      8  \n",
       "((Material_Property, Density, g/cm^3), ((Fake, ...   1.05   1.05   1.05  \n",
       "((Material_Property, Poor, Quality), ((Fake, 1....   Poor   Poor   Poor  \n",
       "((Material_Property, Purity_by_Weight, Percent)...   0.98   0.98   0.98  \n",
       "((Measurement_Condition, Molar), ((Al(III), 1.0...  0.005  0.005  0.005  \n",
       "((Measurement_Condition, Molar), ((Fake, 1.0), ...  0.006  0.006  0.006  \n",
       "((Measurement_Condition, Molar), ((Na+, 1.0), (...  14.92  16.97  18.92  "
      ]
     },
     "metadata": {},
     "output_type": "display_data"
    }
   ],
   "source": [
    "for assay in node.assays:\n",
    "#     print(assay.all_species)\n",
    "#     print('-'*20)\n",
    "#     print(assay.all_factors)\n",
    "#     print('-'*20)\n",
    "#     print(assay.csv_index_factors)\n",
    "#     pprint(assay.column_data_source)\n",
    "#     print('-'*20)\n",
    "    display(pd.DataFrame.from_records(assay.column_data_source).T)\n",
    "#     break\n",
    "        \n",
    "#     pprint([*utils.normalize(assay.as_dict)])\n",
    "    \n",
    "    \n",
    "#     normalized_dict = list(utils.normalize(assay.as_dict))\n",
    "    # Read the data into a pandas DataFrame.\n",
    "#     normalized_df = pd.DataFrame.from_records(normalized_dict)\n",
    "#     return normalized_df\n",
    "#     print(assay.all_factors)\n",
    "#     break\n",
    "# normalized_dict\n",
    "# normalized_df"
   ]
  },
  {
   "cell_type": "code",
   "execution_count": 71,
   "metadata": {},
   "outputs": [],
   "source": [
    "# node.factors"
   ]
  },
  {
   "cell_type": "code",
   "execution_count": 101,
   "metadata": {},
   "outputs": [
    {
     "name": "stdout",
     "output_type": "stream",
     "text": [
      "{{'Demo second Solution': {'species': [{'Fake': 2.0}], 'sources': [{'species': [Species Reference:  Fake\n",
      "Stoichiometry:      1.0], 'factors': [Factor Type:   Material Property\n",
      "Float Value:   1.05\n",
      "String Value:  None\n",
      "Ref Value:     Density\n",
      "Unit:          g/cm^3\n",
      "CSV Index:     None\n",
      ", Factor Type:   Material Property\n",
      "Float Value:   None\n",
      "String Value:  None\n",
      "Ref Value:     Poor\n",
      "Unit:          Quality\n",
      "CSV Index:     None\n",
      "]}], 'factors': [{'Measurement_Condition_Molar': 0.006}]}},\n",
      " {None: {'species': [{'K+': 1.0}, {'OH-': 1.0}], 'sources': [{'species': [Species Reference:  None\n",
      "Stoichiometry:      None], 'factors': []}], 'factors': [None]}},\n",
      " {'Lithium Hydroxide': {'species': [{'Li+': 1.0}, {'OH-': 1.0}], 'sources': [{'species': [Species Reference:  None\n",
      "Stoichiometry:      None], 'factors': []}], 'factors': [None]}},\n",
      " {'Sodium Hydroxide': {'species': [{'Na+': 1.0}, {'OH-': 1.0}], 'sources': [{'species': [Species Reference:  None\n",
      "Stoichiometry:      None], 'factors': []}], 'factors': [None]}},\n",
      " {'Aluminate Solution': {'species': [{'Al(III)': 1.0}], 'sources': [{'species': [Species Reference:  Al(III)\n",
      "Stoichiometry:      1.0], 'factors': [Factor Type:   Material Property\n",
      "Float Value:   0.98\n",
      "String Value:  None\n",
      "Ref Value:     Purity by Weight\n",
      "Unit:          Percent\n",
      "CSV Index:     None\n",
      "]}], 'factors': [{'Measurement_Condition_Molar': 0.005}]}}}\n"
     ]
    }
   ],
   "source": [
    "pprint(node.all_samples)"
   ]
  },
  {
   "cell_type": "code",
   "execution_count": 100,
   "metadata": {},
   "outputs": [
    {
     "data": {
      "text/plain": [
       "[Species Reference:  Li+\n",
       " Stoichiometry:      1.0, Species Reference:  K+\n",
       " Stoichiometry:      1.0, Species Reference:  Al(III)\n",
       " Stoichiometry:      1.0, Species Reference:  OH-\n",
       " Stoichiometry:      1.0, Species Reference:  OH-\n",
       " Stoichiometry:      1.0, Species Reference:  OH-\n",
       " Stoichiometry:      1.0, Species Reference:  Al(III)\n",
       " Stoichiometry:      1.0, Species Reference:  Fake\n",
       " Stoichiometry:      2.0, Species Reference:  Na+\n",
       " Stoichiometry:      1.0, Species Reference:  Fake\n",
       " Stoichiometry:      1.0]"
      ]
     },
     "execution_count": 100,
     "metadata": {},
     "output_type": "execute_result"
    }
   ],
   "source": [
    "node.all_species\n",
    "# for s in set(node.all_species):\n",
    "#     print(s)"
   ]
  },
  {
   "cell_type": "code",
   "execution_count": 90,
   "metadata": {},
   "outputs": [],
   "source": [
    "# for f in set(node.all_factors):\n",
    "#     print(f)"
   ]
  },
  {
   "cell_type": "code",
   "execution_count": 14,
   "metadata": {},
   "outputs": [
    {
     "data": {
      "text/plain": [
       "[Comment: Study level comment on Sipos 2006.\n",
       "Body:    I manually pulled this points out with a web tool.]"
      ]
     },
     "execution_count": 14,
     "metadata": {},
     "output_type": "execute_result"
    }
   ],
   "source": [
    "node.comments"
   ]
  },
  {
   "cell_type": "code",
   "execution_count": 15,
   "metadata": {},
   "outputs": [],
   "source": [
    "# node.assays"
   ]
  },
  {
   "cell_type": "code",
   "execution_count": 16,
   "metadata": {},
   "outputs": [
    {
     "data": {
      "text/plain": [
       "[{'Aluminate Solution': {'species': [{'Al(III)': 1.0}],\n",
       "   'sources': [{'species': [Species Reference:  Al(III)\n",
       "     Stoichiometry:      1.0], 'factors': [Factor Type:   Material Property\n",
       "     Float Value:   0.98\n",
       "     String Value:  None\n",
       "     Ref Value:     Purity by Weight\n",
       "     Unit:          Percent\n",
       "     CSV Index:     None\n",
       "     ]}],\n",
       "   'factors': [{'Measurement_Condition_Molar': 0.005}]}},\n",
       " {'Demo second Solution': {'species': [{'Fake': 2.0}],\n",
       "   'sources': [{'species': [Species Reference:  Fake\n",
       "     Stoichiometry:      1.0], 'factors': [Factor Type:   Material Property\n",
       "     Float Value:   1.05\n",
       "     String Value:  None\n",
       "     Ref Value:     Density\n",
       "     Unit:          g/cm^3\n",
       "     CSV Index:     None\n",
       "     , Factor Type:   Material Property\n",
       "     Float Value:   None\n",
       "     String Value:  None\n",
       "     Ref Value:     Poor\n",
       "     Unit:          Quality\n",
       "     CSV Index:     None\n",
       "     ]}],\n",
       "   'factors': [{'Measurement_Condition_Molar': 0.006}]}}]"
      ]
     },
     "execution_count": 16,
     "metadata": {},
     "output_type": "execute_result"
    }
   ],
   "source": [
    "node.samples.as_dict.maps"
   ]
  },
  {
   "cell_type": "code",
   "execution_count": 17,
   "metadata": {},
   "outputs": [
    {
     "data": {
      "text/plain": [
       "[{'Measurement_Condition_Celsius': 25.0},\n",
       " None,\n",
       " {'Measurement_Condition_MHz': 78.204},\n",
       " {'Measurement_Reference_[KAl(SO4)2]_Reference_Compound': '[KAl(SO4)2]'}]"
      ]
     },
     "execution_count": 17,
     "metadata": {},
     "output_type": "execute_result"
    }
   ],
   "source": [
    "node.factors.as_dict.maps"
   ]
  },
  {
   "cell_type": "code",
   "execution_count": 18,
   "metadata": {},
   "outputs": [
    {
     "data": {
      "text/plain": [
       "{'$id': 'https://lampdev02.pnl.gov/bigg006/idreamdrupal/', 'title': 'Sipos 2006, Talanta NMR Figures', 'filename': 'sipos_2006_talanta_nmr_figs.json', 'description': 'Extracted figures.', 'submissionDate': '2018-5-25', 'publicReleaseDate': '2006-03-13', 'experimentSubType': 'Al_NMR'}"
      ]
     },
     "execution_count": 18,
     "metadata": {},
     "output_type": "execute_result"
    }
   ],
   "source": [
    "node.info"
   ]
  },
  {
   "cell_type": "code",
   "execution_count": 16,
   "metadata": {},
   "outputs": [
    {
     "data": {
      "text/plain": [
       "[{'Study level comment on Sipos 2006.': 'I manually pulled this points out with a web tool.'}]"
      ]
     },
     "execution_count": 16,
     "metadata": {},
     "output_type": "execute_result"
    }
   ],
   "source": [
    "node.comments.as_dict.maps"
   ]
  },
  {
   "cell_type": "code",
   "execution_count": 17,
   "metadata": {},
   "outputs": [
    {
     "data": {
      "text/plain": [
       "[{'Aluminate Solution': {'species': [{'Al(III)': 1.0}],\n",
       "   'sources': [{'species': [Species Reference:  Al(III)\n",
       "     Stoichiometry:      1.0], 'factors': [Factor Type:   Material Property\n",
       "     Float Value:   0.98\n",
       "     String Value:  None\n",
       "     Ref Value:     Purity by Weight\n",
       "     Unit:          Percent\n",
       "     CSV Index:     None\n",
       "     ]}],\n",
       "   'factors': [{'Measurement_Condition_Molar': 0.005}]}},\n",
       " {'Demo second Solution': {'species': [{'Fake': 2.0}],\n",
       "   'sources': [{'species': [Species Reference:  Fake\n",
       "     Stoichiometry:      1.0], 'factors': [Factor Type:   Material Property\n",
       "     Float Value:   1.05\n",
       "     String Value:  None\n",
       "     Ref Value:     Density\n",
       "     Unit:          g/cm^3\n",
       "     CSV Index:     None\n",
       "     , Factor Type:   Material Property\n",
       "     Float Value:   None\n",
       "     String Value:  None\n",
       "     Ref Value:     Poor\n",
       "     Unit:          Quality\n",
       "     CSV Index:     None\n",
       "     ]}],\n",
       "   'factors': [{'Measurement_Condition_Molar': 0.006}]}}]"
      ]
     },
     "execution_count": 17,
     "metadata": {},
     "output_type": "execute_result"
    }
   ],
   "source": [
    "node.samples.as_dict.maps"
   ]
  },
  {
   "cell_type": "code",
   "execution_count": 18,
   "metadata": {},
   "outputs": [
    {
     "data": {
      "text/plain": [
       "[{'sipos_2006_talanta_fig_3_KOH.csv': {'data': {0: [2.93,\n",
       "     4.92,\n",
       "     6.85,\n",
       "     9.13,\n",
       "     10.71],\n",
       "    1: [79.9, 79.84, 79.72, 79.66, 79.66]},\n",
       "   'factors': [{'Measurement_Condition_Test': 1.05},\n",
       "    {'Measurement_Condition_Celsius': 25.0},\n",
       "    None,\n",
       "    {'Measurement_Condition_MHz': 78.204},\n",
       "    {'Measurement_Reference_[KAl(SO4)2]_Reference_Compound': '[KAl(SO4)2]'}],\n",
       "   'samples': [{None: {'species': [{'K+': 1.0}, {'OH-': 1.0}],\n",
       "      'sources': [{'species': [Species Reference:  None\n",
       "        Stoichiometry:      None], 'factors': []}],\n",
       "      'factors': [None]}},\n",
       "    {'Aluminate Solution': {'species': [{'Al(III)': 1.0}],\n",
       "      'sources': [{'species': [Species Reference:  Al(III)\n",
       "        Stoichiometry:      1.0], 'factors': [Factor Type:   Material Property\n",
       "        Float Value:   0.98\n",
       "        String Value:  None\n",
       "        Ref Value:     Purity by Weight\n",
       "        Unit:          Percent\n",
       "        CSV Index:     None\n",
       "        ]}],\n",
       "      'factors': [{'Measurement_Condition_Molar': 0.005}]}},\n",
       "    {'Demo second Solution': {'species': [{'Fake': 2.0}],\n",
       "      'sources': [{'species': [Species Reference:  Fake\n",
       "        Stoichiometry:      1.0], 'factors': [Factor Type:   Material Property\n",
       "        Float Value:   1.05\n",
       "        String Value:  None\n",
       "        Ref Value:     Density\n",
       "        Unit:          g/cm^3\n",
       "        CSV Index:     None\n",
       "        , Factor Type:   Material Property\n",
       "        Float Value:   None\n",
       "        String Value:  None\n",
       "        Ref Value:     Poor\n",
       "        Unit:          Quality\n",
       "        CSV Index:     None\n",
       "        ]}],\n",
       "      'factors': [{'Measurement_Condition_Molar': 0.006}]}}]}},\n",
       " {'sipos_2006_talanta_fig_3_LiOH.csv': {'data': {0: [0.66,\n",
       "     1.1,\n",
       "     1.64,\n",
       "     2.14,\n",
       "     2.59,\n",
       "     3.11,\n",
       "     3.59,\n",
       "     4.11],\n",
       "    1: [79.92, 79.84, 79.66, 79.54, 79.36, 79.13, 78.83, 78.47]},\n",
       "   'factors': [{'Measurement_Condition_Celsius': 25.0},\n",
       "    None,\n",
       "    {'Measurement_Condition_MHz': 78.204},\n",
       "    {'Measurement_Reference_[KAl(SO4)2]_Reference_Compound': '[KAl(SO4)2]'}],\n",
       "   'samples': [{'Lithium Hydroxide': {'species': [{'Li+': 1.0}, {'OH-': 1.0}],\n",
       "      'sources': [{'species': [Species Reference:  None\n",
       "        Stoichiometry:      None], 'factors': []}],\n",
       "      'factors': [None]}},\n",
       "    {'Aluminate Solution': {'species': [{'Al(III)': 1.0}],\n",
       "      'sources': [{'species': [Species Reference:  Al(III)\n",
       "        Stoichiometry:      1.0], 'factors': [Factor Type:   Material Property\n",
       "        Float Value:   0.98\n",
       "        String Value:  None\n",
       "        Ref Value:     Purity by Weight\n",
       "        Unit:          Percent\n",
       "        CSV Index:     None\n",
       "        ]}],\n",
       "      'factors': [{'Measurement_Condition_Molar': 0.005}]}},\n",
       "    {'Demo second Solution': {'species': [{'Fake': 2.0}],\n",
       "      'sources': [{'species': [Species Reference:  Fake\n",
       "        Stoichiometry:      1.0], 'factors': [Factor Type:   Material Property\n",
       "        Float Value:   1.05\n",
       "        String Value:  None\n",
       "        Ref Value:     Density\n",
       "        Unit:          g/cm^3\n",
       "        CSV Index:     None\n",
       "        , Factor Type:   Material Property\n",
       "        Float Value:   None\n",
       "        String Value:  None\n",
       "        Ref Value:     Poor\n",
       "        Unit:          Quality\n",
       "        CSV Index:     None\n",
       "        ]}],\n",
       "      'factors': [{'Measurement_Condition_Molar': 0.006}]}}]}},\n",
       " {'sipos_2006_talanta_fig_3_NaOH.csv': {'data': {0: [4.98,\n",
       "     0.93,\n",
       "     6.97,\n",
       "     8.96,\n",
       "     10.95,\n",
       "     12.99,\n",
       "     14.92,\n",
       "     16.97,\n",
       "     18.92],\n",
       "    1: [79.54, 79.98, 79.13, 78.45, 77.67, 76.47, 74.53, 73.14, 71.32]},\n",
       "   'factors': [{'Measurement_Condition_Celsius': 25.0},\n",
       "    None,\n",
       "    {'Measurement_Condition_MHz': 78.204},\n",
       "    {'Measurement_Reference_[KAl(SO4)2]_Reference_Compound': '[KAl(SO4)2]'}],\n",
       "   'samples': [{'Sodium Hydroxide': {'species': [{'Na+': 1.0}, {'OH-': 1.0}],\n",
       "      'sources': [{'species': [Species Reference:  None\n",
       "        Stoichiometry:      None], 'factors': []}],\n",
       "      'factors': [None]}},\n",
       "    {'Aluminate Solution': {'species': [{'Al(III)': 1.0}],\n",
       "      'sources': [{'species': [Species Reference:  Al(III)\n",
       "        Stoichiometry:      1.0], 'factors': [Factor Type:   Material Property\n",
       "        Float Value:   0.98\n",
       "        String Value:  None\n",
       "        Ref Value:     Purity by Weight\n",
       "        Unit:          Percent\n",
       "        CSV Index:     None\n",
       "        ]}],\n",
       "      'factors': [{'Measurement_Condition_Molar': 0.005}]}},\n",
       "    {'Demo second Solution': {'species': [{'Fake': 2.0}],\n",
       "      'sources': [{'species': [Species Reference:  Fake\n",
       "        Stoichiometry:      1.0], 'factors': [Factor Type:   Material Property\n",
       "        Float Value:   1.05\n",
       "        String Value:  None\n",
       "        Ref Value:     Density\n",
       "        Unit:          g/cm^3\n",
       "        CSV Index:     None\n",
       "        , Factor Type:   Material Property\n",
       "        Float Value:   None\n",
       "        String Value:  None\n",
       "        Ref Value:     Poor\n",
       "        Unit:          Quality\n",
       "        CSV Index:     None\n",
       "        ]}],\n",
       "      'factors': [{'Measurement_Condition_Molar': 0.006}]}}]}}]"
      ]
     },
     "execution_count": 18,
     "metadata": {},
     "output_type": "execute_result"
    }
   ],
   "source": [
    "node.assays.as_dict.maps"
   ]
  },
  {
   "cell_type": "markdown",
   "metadata": {},
   "source": [
    "---"
   ]
  },
  {
   "cell_type": "code",
   "execution_count": 145,
   "metadata": {},
   "outputs": [
    {
     "name": "stdout",
     "output_type": "stream",
     "text": [
      "<isadream.isadream.models.nodal.SampleNode object at 0x7fdfa685b2b0>\n",
      "----------\n",
      "{'K+': 1.0}\n",
      "----------\n",
      "{'OH-': 1.0}\n",
      "----------\n",
      "None\n",
      "----------\n",
      "None\n",
      "<isadream.isadream.models.nodal.SampleNode object at 0x7fdfa6869208>\n",
      "----------\n",
      "{'Al(III)': 1.0}\n",
      "----------\n",
      "{'Al(III)': 1.0}\n",
      "----------\n",
      "{'Measurement_Condition_Molar': 0.005}\n",
      "{'Material_Property_Purity_by_Weight_Percent': 0.98}\n",
      "<isadream.isadream.models.nodal.SampleNode object at 0x7fdfa6869080>\n",
      "----------\n",
      "{'Fake': 2.0}\n",
      "----------\n",
      "{'Fake': 1.0}\n",
      "----------\n",
      "{'Measurement_Condition_Molar': 0.006}\n",
      "{'Material_Property_Density_g/cm^3': 1.05}\n",
      "{'Material_Property_Poor_Quality': 'Poor'}\n"
     ]
    }
   ],
   "source": [
    "for assay in node.assays:\n",
    "#     print(assay.info)\n",
    "#     print(assay.factors)\n",
    "#     for f in assay.factors:\n",
    "# #         print(f)\n",
    "#         print(f.dict_label)\n",
    "        \n",
    "#         print(f.dict_value)\n",
    "#         print('\\n')\n",
    "        \n",
    "    for s in assay.samples:\n",
    "        print(s)\n",
    "        print('-'*10)\n",
    "#         print(s.all_species)\n",
    "        for sp in s.all_species:\n",
    "            print(sp.as_dict)\n",
    "            print('-'*10)\n",
    "            \n",
    "            \n",
    "        for fa in s.all_factors:\n",
    "            print(fa.as_dict)\n",
    "#         print(s.all_factors)\n",
    "#         print(i.dict_label for i in s.all_factors)\n",
    "#         print(i.dict_value for i in s.all_factors)\n",
    "        \n",
    "        \n",
    "#         break\n",
    "#     print(assay.comments)\n",
    "#     print(assay.samples)\n",
    "#     print(assay.samples)\n",
    "    break\n",
    "    "
   ]
  },
  {
   "cell_type": "code",
   "execution_count": 146,
   "metadata": {},
   "outputs": [
    {
     "ename": "AttributeError",
     "evalue": "'AssayNode' object has no attribute 'info'",
     "output_type": "error",
     "traceback": [
      "\u001b[0;31m---------------------------------------------------------------------------\u001b[0m",
      "\u001b[0;31mAttributeError\u001b[0m                            Traceback (most recent call last)",
      "\u001b[0;32m<ipython-input-146-38347e6a38ca>\u001b[0m in \u001b[0;36m<module>\u001b[0;34m()\u001b[0m\n\u001b[1;32m      1\u001b[0m \u001b[0;32mfor\u001b[0m \u001b[0massay\u001b[0m \u001b[0;32min\u001b[0m \u001b[0mnode\u001b[0m\u001b[0;34m.\u001b[0m\u001b[0massays\u001b[0m\u001b[0;34m:\u001b[0m\u001b[0;34m\u001b[0m\u001b[0m\n\u001b[0;32m----> 2\u001b[0;31m     \u001b[0mprint\u001b[0m\u001b[0;34m(\u001b[0m\u001b[0massay\u001b[0m\u001b[0;34m.\u001b[0m\u001b[0minfo\u001b[0m\u001b[0;34m)\u001b[0m\u001b[0;34m\u001b[0m\u001b[0m\n\u001b[0m\u001b[1;32m      3\u001b[0m     \u001b[0massay\u001b[0m\u001b[0;34m.\u001b[0m\u001b[0msamples\u001b[0m\u001b[0;34m\u001b[0m\u001b[0m\n\u001b[1;32m      4\u001b[0m \u001b[0;31m#     print('\\n')\u001b[0m\u001b[0;34m\u001b[0m\u001b[0;34m\u001b[0m\u001b[0m\n\u001b[1;32m      5\u001b[0m \u001b[0;31m#     print(assay.factors)\u001b[0m\u001b[0;34m\u001b[0m\u001b[0;34m\u001b[0m\u001b[0m\n",
      "\u001b[0;31mAttributeError\u001b[0m: 'AssayNode' object has no attribute 'info'"
     ]
    }
   ],
   "source": [
    "for assay in node.assays:\n",
    "    print(assay.info)\n",
    "    assay.samples\n",
    "#     print('\\n')    \n",
    "#     print(assay.factors)\n",
    "#     for f in assay.factors:\n",
    "#         print(f)\n",
    "#     print('\\n') \n",
    "#     for f in assay.all_factors:\n",
    "#         print(f)\n",
    "#     print(assay.samples)\n",
    "#     for s in assay.all_samples:\n",
    "#         print(s)\n",
    "#     print('\\n')    \n",
    "    print('\\n')\n",
    "#     print(assay.csv_index_factors)\n",
    "#     print('\\n')\n",
    "#     print(assay._datafile_dict)\n",
    "#     print('\\n')\n",
    "#     for s in assay.all_species:\n",
    "#         print(s)\n",
    "#     break"
   ]
  },
  {
   "cell_type": "code",
   "execution_count": null,
   "metadata": {},
   "outputs": [],
   "source": []
  },
  {
   "cell_type": "markdown",
   "metadata": {},
   "source": [
    "## Query Design\n",
    "\n",
    "By **species** or **factors**.\n",
    "\n",
    "If a matching `species_reference` or `factor_type` is found, each `Assay` object should return its data formated by:\n",
    "+ species\n",
    "+ queried factors \n",
    "    + should be provied as a function of any matching CSV index values."
   ]
  },
  {
   "cell_type": "code",
   "execution_count": 147,
   "metadata": {},
   "outputs": [],
   "source": [
    "import csv"
   ]
  },
  {
   "cell_type": "code",
   "execution_count": 148,
   "metadata": {},
   "outputs": [
    {
     "data": {
      "text/plain": [
       "'/home/tyler/git/isadream/isadream/demo_data/demo_json/sipos_2006_talanta_nmr_figs.json'"
      ]
     },
     "execution_count": 148,
     "metadata": {},
     "output_type": "execute_result"
    }
   ],
   "source": [
    "utils.SIPOS_DEMO"
   ]
  },
  {
   "cell_type": "code",
   "execution_count": 149,
   "metadata": {},
   "outputs": [],
   "source": [
    "from collections import defaultdict\n",
    "from csv import DictReader"
   ]
  },
  {
   "cell_type": "code",
   "execution_count": 150,
   "metadata": {},
   "outputs": [
    {
     "ename": "NameError",
     "evalue": "name 'parse_csv_by_field' is not defined",
     "output_type": "error",
     "traceback": [
      "\u001b[0;31m---------------------------------------------------------------------------\u001b[0m",
      "\u001b[0;31mNameError\u001b[0m                                 Traceback (most recent call last)",
      "\u001b[0;32m<ipython-input-150-95774688015b>\u001b[0m in \u001b[0;36m<module>\u001b[0;34m()\u001b[0m\n\u001b[0;32m----> 1\u001b[0;31m \u001b[0mprint\u001b[0m\u001b[0;34m(\u001b[0m\u001b[0mparse_csv_by_field\u001b[0m\u001b[0;34m(\u001b[0m\u001b[0mcsv_path\u001b[0m\u001b[0;34m)\u001b[0m\u001b[0;34m)\u001b[0m\u001b[0;34m\u001b[0m\u001b[0m\n\u001b[0m",
      "\u001b[0;31mNameError\u001b[0m: name 'parse_csv_by_field' is not defined"
     ]
    }
   ],
   "source": [
    "print(parse_csv_by_field(csv_path))"
   ]
  },
  {
   "cell_type": "code",
   "execution_count": null,
   "metadata": {},
   "outputs": [],
   "source": [
    "json_data = io.read_idream_json(utils.SIPOS_DEMO)"
   ]
  },
  {
   "cell_type": "code",
   "execution_count": null,
   "metadata": {},
   "outputs": [],
   "source": [
    "[] + None or [1]"
   ]
  },
  {
   "cell_type": "code",
   "execution_count": null,
   "metadata": {},
   "outputs": [],
   "source": []
  },
  {
   "cell_type": "code",
   "execution_count": null,
   "metadata": {},
   "outputs": [],
   "source": [
    "test_factor = json_data['studyFactors'][0]\n",
    "test_factor"
   ]
  },
  {
   "cell_type": "code",
   "execution_count": null,
   "metadata": {},
   "outputs": [],
   "source": [
    "t_factor = elemental.Factor(test_factor)\n",
    "print(t_factor)"
   ]
  },
  {
   "cell_type": "code",
   "execution_count": null,
   "metadata": {},
   "outputs": [],
   "source": [
    "t_factor.query(['Celsius'])"
   ]
  },
  {
   "cell_type": "markdown",
   "metadata": {},
   "source": [
    "---"
   ]
  },
  {
   "cell_type": "code",
   "execution_count": null,
   "metadata": {},
   "outputs": [],
   "source": [
    "test_sample = json_data['studySamples'][0]\n",
    "test_sample"
   ]
  },
  {
   "cell_type": "markdown",
   "metadata": {},
   "source": [
    "### Test Species Element "
   ]
  },
  {
   "cell_type": "code",
   "execution_count": null,
   "metadata": {},
   "outputs": [],
   "source": [
    "test_species = json_data['studySamples'][0]['species'][0]\n",
    "t_species = elemental.SpeciesFactor(test_species)\n",
    "print(t_species)"
   ]
  },
  {
   "cell_type": "markdown",
   "metadata": {},
   "source": [
    "### Species Property\n",
    "\n",
    "A list of Species objects."
   ]
  },
  {
   "cell_type": "code",
   "execution_count": null,
   "metadata": {},
   "outputs": [],
   "source": [
    "species_prop_test = containers.Species([test_species])\n",
    "print(species_prop_test)"
   ]
  },
  {
   "cell_type": "markdown",
   "metadata": {},
   "source": [
    "### SampleNode"
   ]
  },
  {
   "cell_type": "code",
   "execution_count": null,
   "metadata": {},
   "outputs": [],
   "source": [
    "io.parse_source()"
   ]
  },
  {
   "cell_type": "code",
   "execution_count": null,
   "metadata": {},
   "outputs": [],
   "source": []
  },
  {
   "cell_type": "code",
   "execution_count": null,
   "metadata": {},
   "outputs": [],
   "source": [
    "sample_list = list()\n",
    "for sample_dict in json_data['studySamples']:\n",
    "    sample_list.append(io.parse_sample(sample_dict))"
   ]
  },
  {
   "cell_type": "code",
   "execution_count": null,
   "metadata": {},
   "outputs": [],
   "source": [
    "sample_list"
   ]
  },
  {
   "cell_type": "markdown",
   "metadata": {},
   "source": [
    "### Samples Container"
   ]
  },
  {
   "cell_type": "code",
   "execution_count": null,
   "metadata": {},
   "outputs": [],
   "source": [
    "containers.Samples(sample_list)"
   ]
  },
  {
   "cell_type": "code",
   "execution_count": null,
   "metadata": {},
   "outputs": [],
   "source": [
    "def tester(arg=[]):\n",
    "    return arg"
   ]
  },
  {
   "cell_type": "code",
   "execution_count": null,
   "metadata": {},
   "outputs": [],
   "source": [
    "tester()"
   ]
  },
  {
   "cell_type": "code",
   "execution_count": null,
   "metadata": {},
   "outputs": [],
   "source": [
    "nodal.Sample(Node)"
   ]
  },
  {
   "cell_type": "code",
   "execution_count": null,
   "metadata": {},
   "outputs": [],
   "source": []
  },
  {
   "cell_type": "code",
   "execution_count": null,
   "metadata": {},
   "outputs": [],
   "source": []
  },
  {
   "cell_type": "code",
   "execution_count": null,
   "metadata": {},
   "outputs": [],
   "source": [
    "drupalnode = io.parse_json(json_data)\n",
    "print(drupalnode)"
   ]
  },
  {
   "cell_type": "code",
   "execution_count": null,
   "metadata": {},
   "outputs": [],
   "source": [
    "for a in drupalnode.assays:\n",
    "    print(a)\n",
    "    for f in a.factors:\n",
    "        print(f)\n",
    "        for fact in f:\n",
    "            print(fact)"
   ]
  },
  {
   "cell_type": "code",
   "execution_count": null,
   "metadata": {},
   "outputs": [],
   "source": []
  },
  {
   "cell_type": "code",
   "execution_count": null,
   "metadata": {},
   "outputs": [],
   "source": []
  },
  {
   "cell_type": "code",
   "execution_count": null,
   "metadata": {},
   "outputs": [],
   "source": [
    "[] + [1, 2, 3]"
   ]
  },
  {
   "cell_type": "code",
   "execution_count": null,
   "metadata": {},
   "outputs": [],
   "source": [
    "json_data"
   ]
  },
  {
   "cell_type": "code",
   "execution_count": null,
   "metadata": {},
   "outputs": [],
   "source": [
    "print(node.nodeinfo)"
   ]
  },
  {
   "cell_type": "code",
   "execution_count": null,
   "metadata": {},
   "outputs": [],
   "source": [
    "node.factors"
   ]
  },
  {
   "cell_type": "code",
   "execution_count": null,
   "metadata": {},
   "outputs": [],
   "source": [
    "node.comments"
   ]
  },
  {
   "cell_type": "code",
   "execution_count": null,
   "metadata": {},
   "outputs": [],
   "source": [
    "for factor in node.factors:\n",
    "    print(factor)"
   ]
  },
  {
   "cell_type": "code",
   "execution_count": null,
   "metadata": {},
   "outputs": [],
   "source": [
    "for assay in node.assays:\n",
    "    print(assay)\n",
    "#     for factor in assay.factors:\n",
    "#         print(factor)"
   ]
  },
  {
   "cell_type": "code",
   "execution_count": null,
   "metadata": {},
   "outputs": [],
   "source": []
  },
  {
   "cell_type": "code",
   "execution_count": null,
   "metadata": {},
   "outputs": [],
   "source": []
  },
  {
   "cell_type": "code",
   "execution_count": null,
   "metadata": {},
   "outputs": [],
   "source": []
  },
  {
   "cell_type": "code",
   "execution_count": null,
   "metadata": {},
   "outputs": [],
   "source": []
  },
  {
   "cell_type": "code",
   "execution_count": null,
   "metadata": {},
   "outputs": [],
   "source": []
  },
  {
   "cell_type": "code",
   "execution_count": null,
   "metadata": {},
   "outputs": [],
   "source": [
    "import isadream.isadream.model as IdreamModel\n",
    "from isadream.isadream.model import SIPOS_DEMO\n",
    "from isadream.isadream.model import normalize_to_dataframe\n",
    "from isadream.isadream.model import load_csv\n",
    "import itertools\n",
    "import json\n",
    "import pandas as pd"
   ]
  },
  {
   "cell_type": "markdown",
   "metadata": {},
   "source": [
    "---"
   ]
  },
  {
   "cell_type": "markdown",
   "metadata": {},
   "source": [
    "## The Metadata Dataframe\n",
    "\n",
    "The `Assay` is the lowest level of separation in metadata."
   ]
  },
  {
   "cell_type": "code",
   "execution_count": null,
   "metadata": {},
   "outputs": [],
   "source": [
    "MODEL = IdreamModel.Model(SIPOS_DEMO)\n",
    "# MODEL.metadata_frame\n",
    "# MODEL.assay_metadata\n",
    "# MODEL.labeled_csv_data\n",
    "MODEL.csv_metadata[0]  # a list of dataframes."
   ]
  },
  {
   "cell_type": "code",
   "execution_count": null,
   "metadata": {},
   "outputs": [],
   "source": [
    "MODEL.csv_metadata[1]  # a list of dataframes."
   ]
  },
  {
   "cell_type": "code",
   "execution_count": null,
   "metadata": {},
   "outputs": [],
   "source": [
    "MODEL.labeled_csv_data[1]"
   ]
  },
  {
   "cell_type": "code",
   "execution_count": null,
   "metadata": {},
   "outputs": [],
   "source": [
    "# MODEL.csv_metadata"
   ]
  },
  {
   "cell_type": "code",
   "execution_count": null,
   "metadata": {},
   "outputs": [],
   "source": [
    "MODEL.csv_metadata[0]"
   ]
  },
  {
   "cell_type": "code",
   "execution_count": null,
   "metadata": {},
   "outputs": [],
   "source": [
    "MODEL = IdreamModel.Model(SIPOS_DEMO)\n",
    "\n",
    "for data_file_df in MODEL.csv_metadata:\n",
    "    csv_idx_array = data_file_df.loc(axis=1)[:,:,'csvColumnIndex'].values\n",
    "    md_idx_array = data_file_df.index.values\n",
    "    # Create the mapping dictionary.\n",
    "    data_map = {md_idx: load_csv(md_idx[0], usecols=[int(csv_idx)]).T.values.flatten()\n",
    "                for md_idx, csv_idx in zip(md_idx_array, csv_idx_array)}    \n",
    "    data_file_df['data'] = md_idx_array\n",
    "    data_file_df['data'] = data_file_df['data'].map(data_map)\n",
    "    display(data_file_df)\n",
    "    break"
   ]
  },
  {
   "cell_type": "code",
   "execution_count": null,
   "metadata": {},
   "outputs": [],
   "source": [
    "MODEL = IdreamModel.Model(SIPOS_DEMO)\n",
    "\n",
    "MODEL.labeled_csv_data[0]"
   ]
  },
  {
   "cell_type": "code",
   "execution_count": null,
   "metadata": {},
   "outputs": [],
   "source": [
    "# df[\"B\"] = df[\"A\"].map(equiv)"
   ]
  },
  {
   "cell_type": "code",
   "execution_count": null,
   "metadata": {},
   "outputs": [],
   "source": [
    "MODEL.csv_metadata[0].values[:,]"
   ]
  },
  {
   "cell_type": "code",
   "execution_count": null,
   "metadata": {},
   "outputs": [],
   "source": [
    "MODEL.csv_metadata[1]"
   ]
  },
  {
   "cell_type": "code",
   "execution_count": null,
   "metadata": {},
   "outputs": [],
   "source": [
    "MODEL.assay_metadata.loc(axis=1)[:, : ,'csvColumnIndex'].columns.get_level_values(-1)"
   ]
  },
  {
   "cell_type": "code",
   "execution_count": null,
   "metadata": {},
   "outputs": [],
   "source": [
    "MODEL.assay_metadata.loc(axis=1)[:, : ,'csvColumnIndex'].columns.values"
   ]
  },
  {
   "cell_type": "code",
   "execution_count": null,
   "metadata": {},
   "outputs": [],
   "source": [
    "cols = MODEL.assay_metadata.loc(axis=1)[:, : ,'csvColumnIndex'].columns.values\n",
    "# cols = [tuple(cols[:-1])]\n",
    "cols = tuple(c[:-1] for c in cols)\n",
    "cols"
   ]
  },
  {
   "cell_type": "code",
   "execution_count": null,
   "metadata": {},
   "outputs": [],
   "source": [
    "MODEL.assay_metadata.loc(axis=1)[cols[0], :, :]"
   ]
  },
  {
   "cell_type": "code",
   "execution_count": null,
   "metadata": {},
   "outputs": [],
   "source": [
    "MODEL.assay_metadata.xs('csvColumnIndex', axis=1, level=-1, drop_level=True)"
   ]
  },
  {
   "cell_type": "code",
   "execution_count": null,
   "metadata": {},
   "outputs": [],
   "source": [
    "# MODEL.assay_metadata.select_dtypes(object)"
   ]
  },
  {
   "cell_type": "code",
   "execution_count": null,
   "metadata": {},
   "outputs": [],
   "source": [
    "# MODEL.assay_metadata.select_dtypes(float)"
   ]
  },
  {
   "cell_type": "code",
   "execution_count": null,
   "metadata": {},
   "outputs": [],
   "source": [
    "# MODEL.assay_metadata.select_dtypes(int)"
   ]
  },
  {
   "cell_type": "code",
   "execution_count": null,
   "metadata": {},
   "outputs": [],
   "source": [
    "# build_key_df(MODEL.assay_metadata)"
   ]
  },
  {
   "cell_type": "code",
   "execution_count": null,
   "metadata": {},
   "outputs": [],
   "source": [
    "# MODEL.csv_data"
   ]
  },
  {
   "cell_type": "code",
   "execution_count": null,
   "metadata": {},
   "outputs": [],
   "source": [
    "# MODEL.assay_metadata[:][:]['csvColumnIndex']"
   ]
  },
  {
   "cell_type": "code",
   "execution_count": null,
   "metadata": {},
   "outputs": [],
   "source": [
    "def create_key_value(in_dataframe=MODEL.assay_df):\n",
    "    working_df = in_dataframe.copy()\n",
    "    \n",
    "    columns = working_df.columns\n",
    "    discrete = [x for x in columns if working_df[x].dtype == object]\n",
    "    continuous = [x for x in columns if x not in discrete]\n",
    "    \n",
    "    value_dict = {}\n",
    "\n",
    "    for cont_indexes in continuous:\n",
    "        for row in working_df.itertuples():\n",
    "            value_dict[cont_indexes, row] = working_df[cont_indexes]\n",
    "\n",
    "    return pd.DataFrame(value_dict)"
   ]
  },
  {
   "cell_type": "code",
   "execution_count": null,
   "metadata": {},
   "outputs": [],
   "source": []
  },
  {
   "cell_type": "code",
   "execution_count": null,
   "metadata": {},
   "outputs": [],
   "source": [
    "create_key_value()"
   ]
  },
  {
   "cell_type": "code",
   "execution_count": null,
   "metadata": {},
   "outputs": [],
   "source": [
    "create_key_value(MODEL.study_sample_df)"
   ]
  },
  {
   "cell_type": "code",
   "execution_count": null,
   "metadata": {},
   "outputs": [],
   "source": [
    "MODEL.study_factor_df"
   ]
  },
  {
   "cell_type": "code",
   "execution_count": null,
   "metadata": {},
   "outputs": [],
   "source": [
    "create_key_value(MODEL.study_factor_df)"
   ]
  },
  {
   "cell_type": "code",
   "execution_count": null,
   "metadata": {},
   "outputs": [],
   "source": []
  },
  {
   "cell_type": "code",
   "execution_count": null,
   "metadata": {},
   "outputs": [],
   "source": []
  },
  {
   "cell_type": "code",
   "execution_count": null,
   "metadata": {},
   "outputs": [],
   "source": []
  }
 ],
 "metadata": {
  "kernelspec": {
   "display_name": "py36",
   "language": "python",
   "name": "py36"
  },
  "language_info": {
   "codemirror_mode": {
    "name": "ipython",
    "version": 3
   },
   "file_extension": ".py",
   "mimetype": "text/x-python",
   "name": "python",
   "nbconvert_exporter": "python",
   "pygments_lexer": "ipython3",
   "version": "3.6.5"
  }
 },
 "nbformat": 4,
 "nbformat_minor": 2
}
